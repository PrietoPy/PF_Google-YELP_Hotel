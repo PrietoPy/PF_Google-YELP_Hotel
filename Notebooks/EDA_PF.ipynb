{
  "nbformat": 4,
  "nbformat_minor": 0,
  "metadata": {
    "colab": {
      "provenance": []
    },
    "kernelspec": {
      "name": "python3",
      "display_name": "Python 3"
    },
    "language_info": {
      "name": "python"
    }
  },
  "cells": [
    {
      "cell_type": "markdown",
      "source": [
        "## Montamos el drive de google ya que estamos trabajando en Colab"
      ],
      "metadata": {
        "id": "sHw7yquzgsXy"
      }
    },
    {
      "cell_type": "code",
      "execution_count": 1,
      "metadata": {
        "colab": {
          "base_uri": "https://localhost:8080/"
        },
        "id": "Di5UJgrUgJhB",
        "outputId": "361ba871-41ee-4b46-c9e3-6903e206e535"
      },
      "outputs": [
        {
          "output_type": "stream",
          "name": "stdout",
          "text": [
            "Mounted at /content/drive\n"
          ]
        }
      ],
      "source": [
        "# Como estamos trabajando en colab y tengo los archivos en el drive importamos la libreria y montamos\n",
        "from google.colab import drive #para utilizar google drive como fuente de archivos\n",
        "drive.mount('/content/drive') #montamos la carpeta del drivec"
      ]
    },
    {
      "cell_type": "markdown",
      "source": [
        "## Importamos Librerias necesarias para la lectura del archivo y visualización de datos"
      ],
      "metadata": {
        "id": "q5fW9VJtg6ZX"
      }
    },
    {
      "cell_type": "code",
      "source": [
        "import json\n",
        "import polars as pl\n",
        "import seaborn as sns\n",
        "import matplotlib.pyplot as plt"
      ],
      "metadata": {
        "id": "MH5cFlZWgK1M"
      },
      "execution_count": 2,
      "outputs": []
    },
    {
      "cell_type": "markdown",
      "source": [
        "## Leemos el archivo en formato json recorriendo filas, ya que posee columnas con datos anidados."
      ],
      "metadata": {
        "id": "QW52CjE6hBpH"
      }
    },
    {
      "cell_type": "code",
      "source": [
        "data_list = []\n",
        "\n",
        "with open('/content/drive/MyDrive/PF Google & Yelp/1.json', 'r') as file:\n",
        "    for line in file:\n",
        "        # Cargar cada objeto JSON por separado\n",
        "        data = json.loads(line)\n",
        "        data_list.append(data)\n",
        "\n",
        "# Ahora data_list es una lista que contiene todos los objetos JSON del archivo\n",
        "df = pl.DataFrame(data_list)"
      ],
      "metadata": {
        "id": "IDgudhfDglGe"
      },
      "execution_count": 3,
      "outputs": []
    },
    {
      "cell_type": "markdown",
      "source": [
        "## Verificamos las columnas para extraer las features."
      ],
      "metadata": {
        "id": "lfbPYXXzhLn5"
      }
    },
    {
      "cell_type": "code",
      "source": [
        "df.columns"
      ],
      "metadata": {
        "colab": {
          "base_uri": "https://localhost:8080/"
        },
        "id": "h2rv_1HThKpS",
        "outputId": "b10f85f6-9b0b-4719-c070-1697a9128b53"
      },
      "execution_count": 4,
      "outputs": [
        {
          "output_type": "execute_result",
          "data": {
            "text/plain": [
              "['name',\n",
              " 'address',\n",
              " 'gmap_id',\n",
              " 'description',\n",
              " 'latitude',\n",
              " 'longitude',\n",
              " 'category',\n",
              " 'avg_rating',\n",
              " 'num_of_reviews',\n",
              " 'price',\n",
              " 'hours',\n",
              " 'MISC',\n",
              " 'state',\n",
              " 'relative_results',\n",
              " 'url']"
            ]
          },
          "metadata": {},
          "execution_count": 4
        }
      ]
    },
    {
      "cell_type": "markdown",
      "source": [
        "## Identificamos las Features:\n",
        "- 'name' nombre del hotel\n",
        "- 'gmap_id' identificador unico del lugar, el cual servira como id para futuras merge\n",
        "- 'latitude' y 'longitude' localización del hotel\n",
        "- 'category' indica el tipo de establecimiento en este caso nos interesa solo hotel por lo que la utilizaremos para extraer la data.\n",
        "- 'avg_rating' el promedio de calificaciónes de reseñas de ususarios.\n",
        "- 'num_of_reviews' cantidad de reseñas.\n",
        "- 'url' servira para brindar al usuario acceso a la web del hotel."
      ],
      "metadata": {
        "id": "400W22lDhffr"
      }
    },
    {
      "cell_type": "markdown",
      "source": [
        "## Procedemos a eliminar las columnas de menor relevancia para este proyecto."
      ],
      "metadata": {
        "id": "YzAl4iKWijKQ"
      }
    },
    {
      "cell_type": "code",
      "source": [
        "df = df.drop(['address', 'description', 'price', 'hours', 'MISC', 'state', 'relative_results'])"
      ],
      "metadata": {
        "id": "w7VTOsxZheOg"
      },
      "execution_count": 5,
      "outputs": []
    },
    {
      "cell_type": "markdown",
      "source": [
        "## Verificamos datos Nulos"
      ],
      "metadata": {
        "id": "NX8zBnnri6gt"
      }
    },
    {
      "cell_type": "code",
      "source": [
        "df.null_count()"
      ],
      "metadata": {
        "colab": {
          "base_uri": "https://localhost:8080/",
          "height": 129
        },
        "id": "EVwU2ERci4hF",
        "outputId": "3b496c1f-1116-4b5b-80f8-d947099cfa20"
      },
      "execution_count": 6,
      "outputs": [
        {
          "output_type": "execute_result",
          "data": {
            "text/plain": [
              "shape: (1, 8)\n",
              "┌──────┬─────────┬──────────┬───────────┬──────────┬────────────┬────────────────┬─────┐\n",
              "│ name ┆ gmap_id ┆ latitude ┆ longitude ┆ category ┆ avg_rating ┆ num_of_reviews ┆ url │\n",
              "│ ---  ┆ ---     ┆ ---      ┆ ---       ┆ ---      ┆ ---        ┆ ---            ┆ --- │\n",
              "│ u32  ┆ u32     ┆ u32      ┆ u32       ┆ u32      ┆ u32        ┆ u32            ┆ u32 │\n",
              "╞══════╪═════════╪══════════╪═══════════╪══════════╪════════════╪════════════════╪═════╡\n",
              "│ 7    ┆ 0       ┆ 0        ┆ 0         ┆ 2261     ┆ 0          ┆ 0              ┆ 0   │\n",
              "└──────┴─────────┴──────────┴───────────┴──────────┴────────────┴────────────────┴─────┘"
            ],
            "text/html": [
              "<div><style>\n",
              ".dataframe > thead > tr,\n",
              ".dataframe > tbody > tr {\n",
              "  text-align: right;\n",
              "  white-space: pre-wrap;\n",
              "}\n",
              "</style>\n",
              "<small>shape: (1, 8)</small><table border=\"1\" class=\"dataframe\"><thead><tr><th>name</th><th>gmap_id</th><th>latitude</th><th>longitude</th><th>category</th><th>avg_rating</th><th>num_of_reviews</th><th>url</th></tr><tr><td>u32</td><td>u32</td><td>u32</td><td>u32</td><td>u32</td><td>u32</td><td>u32</td><td>u32</td></tr></thead><tbody><tr><td>7</td><td>0</td><td>0</td><td>0</td><td>2261</td><td>0</td><td>0</td><td>0</td></tr></tbody></table></div>"
            ]
          },
          "metadata": {},
          "execution_count": 6
        }
      ]
    },
    {
      "cell_type": "markdown",
      "source": [
        "## Existen datos nulos sin embargo, aun no hemos filtrado por hoteles por lo que antes de realizar este paso vamos a extraer los datos."
      ],
      "metadata": {
        "id": "2wqqOfZWjlap"
      }
    },
    {
      "cell_type": "markdown",
      "source": [
        "### Visualizamos los datos del DF"
      ],
      "metadata": {
        "id": "hOk8joVij1Kg"
      }
    },
    {
      "cell_type": "code",
      "source": [
        "df.head()"
      ],
      "metadata": {
        "colab": {
          "base_uri": "https://localhost:8080/",
          "height": 255
        },
        "id": "eSZqANM0jgYq",
        "outputId": "74ec5f45-e944-4706-92cb-bdcaee242e3e"
      },
      "execution_count": 7,
      "outputs": [
        {
          "output_type": "execute_result",
          "data": {
            "text/plain": [
              "shape: (5, 8)\n",
              "┌────────────┬────────────┬───────────┬────────────┬───────────┬───────────┬───────────┬───────────┐\n",
              "│ name       ┆ gmap_id    ┆ latitude  ┆ longitude  ┆ category  ┆ avg_ratin ┆ num_of_re ┆ url       │\n",
              "│ ---        ┆ ---        ┆ ---       ┆ ---        ┆ ---       ┆ g         ┆ views     ┆ ---       │\n",
              "│ str        ┆ str        ┆ f64       ┆ f64        ┆ list[str] ┆ ---       ┆ ---       ┆ str       │\n",
              "│            ┆            ┆           ┆            ┆           ┆ f64       ┆ i64       ┆           │\n",
              "╞════════════╪════════════╪═══════════╪════════════╪═══════════╪═══════════╪═══════════╪═══════════╡\n",
              "│ Porter     ┆ 0x88f16e41 ┆ 32.3883   ┆ -83.3571   ┆ [\"Pharmac ┆ 4.9       ┆ 16        ┆ https://w │\n",
              "│ Pharmacy   ┆ 928ff687:0 ┆           ┆            ┆ y\"]       ┆           ┆           ┆ ww.google │\n",
              "│            ┆ x883dad4fd ┆           ┆            ┆           ┆           ┆           ┆ .com/maps │\n",
              "│            ┆ 04…        ┆           ┆            ┆           ┆           ┆           ┆ /plac…    │\n",
              "│ City       ┆ 0x80c2c98c ┆ 34.018891 ┆ -118.21529 ┆ [\"Textile ┆ 4.5       ┆ 6         ┆ https://w │\n",
              "│ Textile    ┆ 0e3c16fd:0 ┆           ┆            ┆ exporter\" ┆           ┆           ┆ ww.google │\n",
              "│            ┆ x29ec8a728 ┆           ┆            ┆ ]         ┆           ┆           ┆ .com/maps │\n",
              "│            ┆ 76…        ┆           ┆            ┆           ┆           ┆           ┆ /plac…    │\n",
              "│ San Soo    ┆ 0x80c2c778 ┆ 34.058092 ┆ -118.29213 ┆ [\"Korean  ┆ 4.4       ┆ 18        ┆ https://w │\n",
              "│ Dang       ┆ e3b73d33:0 ┆           ┆            ┆ restauran ┆           ┆           ┆ ww.google │\n",
              "│            ┆ xbdc58662a ┆           ┆            ┆ t\"]       ┆           ┆           ┆ .com/maps │\n",
              "│            ┆ 4a…        ┆           ┆            ┆           ┆           ┆           ┆ /plac…    │\n",
              "│ Nova       ┆ 0x80c2c899 ┆ 34.023669 ┆ -118.23293 ┆ [\"Fabric  ┆ 3.3       ┆ 6         ┆ https://w │\n",
              "│ Fabrics    ┆ 23b27a41:0 ┆           ┆            ┆ store\"]   ┆           ┆           ┆ ww.google │\n",
              "│            ┆ x320415594 ┆           ┆            ┆           ┆           ┆           ┆ .com/maps │\n",
              "│            ┆ 18…        ┆           ┆            ┆           ┆           ┆           ┆ /plac…    │\n",
              "│ Nobel      ┆ 0x80c2c632 ┆ 34.036694 ┆ -118.24942 ┆ [\"Fabric  ┆ 4.3       ┆ 7         ┆ https://w │\n",
              "│ Textile Co ┆ f933b073:0 ┆           ┆ 1          ┆ store\"]   ┆           ┆           ┆ ww.google │\n",
              "│            ┆ xc31785961 ┆           ┆            ┆           ┆           ┆           ┆ .com/maps │\n",
              "│            ┆ fe…        ┆           ┆            ┆           ┆           ┆           ┆ /plac…    │\n",
              "└────────────┴────────────┴───────────┴────────────┴───────────┴───────────┴───────────┴───────────┘"
            ],
            "text/html": [
              "<div><style>\n",
              ".dataframe > thead > tr,\n",
              ".dataframe > tbody > tr {\n",
              "  text-align: right;\n",
              "  white-space: pre-wrap;\n",
              "}\n",
              "</style>\n",
              "<small>shape: (5, 8)</small><table border=\"1\" class=\"dataframe\"><thead><tr><th>name</th><th>gmap_id</th><th>latitude</th><th>longitude</th><th>category</th><th>avg_rating</th><th>num_of_reviews</th><th>url</th></tr><tr><td>str</td><td>str</td><td>f64</td><td>f64</td><td>list[str]</td><td>f64</td><td>i64</td><td>str</td></tr></thead><tbody><tr><td>&quot;Porter Pharmac…</td><td>&quot;0x88f16e41928f…</td><td>32.3883</td><td>-83.3571</td><td>[&quot;Pharmacy&quot;]</td><td>4.9</td><td>16</td><td>&quot;https://www.go…</td></tr><tr><td>&quot;City Textile&quot;</td><td>&quot;0x80c2c98c0e3c…</td><td>34.018891</td><td>-118.21529</td><td>[&quot;Textile exporter&quot;]</td><td>4.5</td><td>6</td><td>&quot;https://www.go…</td></tr><tr><td>&quot;San Soo Dang&quot;</td><td>&quot;0x80c2c778e3b7…</td><td>34.058092</td><td>-118.29213</td><td>[&quot;Korean restaurant&quot;]</td><td>4.4</td><td>18</td><td>&quot;https://www.go…</td></tr><tr><td>&quot;Nova Fabrics&quot;</td><td>&quot;0x80c2c89923b2…</td><td>34.023669</td><td>-118.23293</td><td>[&quot;Fabric store&quot;]</td><td>3.3</td><td>6</td><td>&quot;https://www.go…</td></tr><tr><td>&quot;Nobel Textile …</td><td>&quot;0x80c2c632f933…</td><td>34.036694</td><td>-118.249421</td><td>[&quot;Fabric store&quot;]</td><td>4.3</td><td>7</td><td>&quot;https://www.go…</td></tr></tbody></table></div>"
            ]
          },
          "metadata": {},
          "execution_count": 7
        }
      ]
    },
    {
      "cell_type": "markdown",
      "source": [
        "### La columna 'category' es del tipo lista por lo que la expandiremos para su mejor tratamiento"
      ],
      "metadata": {
        "id": "3V_yW6nfkCoY"
      }
    },
    {
      "cell_type": "code",
      "source": [
        "\n",
        "df = df.explode('category')"
      ],
      "metadata": {
        "id": "Srg9BN7mj83K"
      },
      "execution_count": 8,
      "outputs": []
    },
    {
      "cell_type": "code",
      "source": [
        "df.head()"
      ],
      "metadata": {
        "colab": {
          "base_uri": "https://localhost:8080/",
          "height": 255
        },
        "id": "6EJOP4T8kN3a",
        "outputId": "94a38ba9-3f77-4d43-be9f-a170074bf0b3"
      },
      "execution_count": 9,
      "outputs": [
        {
          "output_type": "execute_result",
          "data": {
            "text/plain": [
              "shape: (5, 8)\n",
              "┌────────────┬────────────┬───────────┬────────────┬───────────┬───────────┬───────────┬───────────┐\n",
              "│ name       ┆ gmap_id    ┆ latitude  ┆ longitude  ┆ category  ┆ avg_ratin ┆ num_of_re ┆ url       │\n",
              "│ ---        ┆ ---        ┆ ---       ┆ ---        ┆ ---       ┆ g         ┆ views     ┆ ---       │\n",
              "│ str        ┆ str        ┆ f64       ┆ f64        ┆ str       ┆ ---       ┆ ---       ┆ str       │\n",
              "│            ┆            ┆           ┆            ┆           ┆ f64       ┆ i64       ┆           │\n",
              "╞════════════╪════════════╪═══════════╪════════════╪═══════════╪═══════════╪═══════════╪═══════════╡\n",
              "│ Porter     ┆ 0x88f16e41 ┆ 32.3883   ┆ -83.3571   ┆ Pharmacy  ┆ 4.9       ┆ 16        ┆ https://w │\n",
              "│ Pharmacy   ┆ 928ff687:0 ┆           ┆            ┆           ┆           ┆           ┆ ww.google │\n",
              "│            ┆ x883dad4fd ┆           ┆            ┆           ┆           ┆           ┆ .com/maps │\n",
              "│            ┆ 04…        ┆           ┆            ┆           ┆           ┆           ┆ /plac…    │\n",
              "│ City       ┆ 0x80c2c98c ┆ 34.018891 ┆ -118.21529 ┆ Textile   ┆ 4.5       ┆ 6         ┆ https://w │\n",
              "│ Textile    ┆ 0e3c16fd:0 ┆           ┆            ┆ exporter  ┆           ┆           ┆ ww.google │\n",
              "│            ┆ x29ec8a728 ┆           ┆            ┆           ┆           ┆           ┆ .com/maps │\n",
              "│            ┆ 76…        ┆           ┆            ┆           ┆           ┆           ┆ /plac…    │\n",
              "│ San Soo    ┆ 0x80c2c778 ┆ 34.058092 ┆ -118.29213 ┆ Korean    ┆ 4.4       ┆ 18        ┆ https://w │\n",
              "│ Dang       ┆ e3b73d33:0 ┆           ┆            ┆ restauran ┆           ┆           ┆ ww.google │\n",
              "│            ┆ xbdc58662a ┆           ┆            ┆ t         ┆           ┆           ┆ .com/maps │\n",
              "│            ┆ 4a…        ┆           ┆            ┆           ┆           ┆           ┆ /plac…    │\n",
              "│ Nova       ┆ 0x80c2c899 ┆ 34.023669 ┆ -118.23293 ┆ Fabric    ┆ 3.3       ┆ 6         ┆ https://w │\n",
              "│ Fabrics    ┆ 23b27a41:0 ┆           ┆            ┆ store     ┆           ┆           ┆ ww.google │\n",
              "│            ┆ x320415594 ┆           ┆            ┆           ┆           ┆           ┆ .com/maps │\n",
              "│            ┆ 18…        ┆           ┆            ┆           ┆           ┆           ┆ /plac…    │\n",
              "│ Nobel      ┆ 0x80c2c632 ┆ 34.036694 ┆ -118.24942 ┆ Fabric    ┆ 4.3       ┆ 7         ┆ https://w │\n",
              "│ Textile Co ┆ f933b073:0 ┆           ┆ 1          ┆ store     ┆           ┆           ┆ ww.google │\n",
              "│            ┆ xc31785961 ┆           ┆            ┆           ┆           ┆           ┆ .com/maps │\n",
              "│            ┆ fe…        ┆           ┆            ┆           ┆           ┆           ┆ /plac…    │\n",
              "└────────────┴────────────┴───────────┴────────────┴───────────┴───────────┴───────────┴───────────┘"
            ],
            "text/html": [
              "<div><style>\n",
              ".dataframe > thead > tr,\n",
              ".dataframe > tbody > tr {\n",
              "  text-align: right;\n",
              "  white-space: pre-wrap;\n",
              "}\n",
              "</style>\n",
              "<small>shape: (5, 8)</small><table border=\"1\" class=\"dataframe\"><thead><tr><th>name</th><th>gmap_id</th><th>latitude</th><th>longitude</th><th>category</th><th>avg_rating</th><th>num_of_reviews</th><th>url</th></tr><tr><td>str</td><td>str</td><td>f64</td><td>f64</td><td>str</td><td>f64</td><td>i64</td><td>str</td></tr></thead><tbody><tr><td>&quot;Porter Pharmac…</td><td>&quot;0x88f16e41928f…</td><td>32.3883</td><td>-83.3571</td><td>&quot;Pharmacy&quot;</td><td>4.9</td><td>16</td><td>&quot;https://www.go…</td></tr><tr><td>&quot;City Textile&quot;</td><td>&quot;0x80c2c98c0e3c…</td><td>34.018891</td><td>-118.21529</td><td>&quot;Textile export…</td><td>4.5</td><td>6</td><td>&quot;https://www.go…</td></tr><tr><td>&quot;San Soo Dang&quot;</td><td>&quot;0x80c2c778e3b7…</td><td>34.058092</td><td>-118.29213</td><td>&quot;Korean restaur…</td><td>4.4</td><td>18</td><td>&quot;https://www.go…</td></tr><tr><td>&quot;Nova Fabrics&quot;</td><td>&quot;0x80c2c89923b2…</td><td>34.023669</td><td>-118.23293</td><td>&quot;Fabric store&quot;</td><td>3.3</td><td>6</td><td>&quot;https://www.go…</td></tr><tr><td>&quot;Nobel Textile …</td><td>&quot;0x80c2c632f933…</td><td>34.036694</td><td>-118.249421</td><td>&quot;Fabric store&quot;</td><td>4.3</td><td>7</td><td>&quot;https://www.go…</td></tr></tbody></table></div>"
            ]
          },
          "metadata": {},
          "execution_count": 9
        }
      ]
    },
    {
      "cell_type": "markdown",
      "source": [
        "## Ahora si procedemos a filtrar la categoria de interes"
      ],
      "metadata": {
        "id": "_BSxLuXWkUaY"
      }
    },
    {
      "cell_type": "code",
      "source": [
        "df = df.filter(df['category'].str.contains(f'(?i)hotel'))"
      ],
      "metadata": {
        "id": "R1tFGKIKkQ2P"
      },
      "execution_count": 10,
      "outputs": []
    },
    {
      "cell_type": "code",
      "source": [
        "df.head()"
      ],
      "metadata": {
        "colab": {
          "base_uri": "https://localhost:8080/",
          "height": 255
        },
        "id": "9fmLen5OkuF9",
        "outputId": "e9c48bf9-b48d-4504-9464-e6a829c42cf4"
      },
      "execution_count": 11,
      "outputs": [
        {
          "output_type": "execute_result",
          "data": {
            "text/plain": [
              "shape: (5, 8)\n",
              "┌────────────┬────────────┬───────────┬────────────┬───────────┬───────────┬───────────┬───────────┐\n",
              "│ name       ┆ gmap_id    ┆ latitude  ┆ longitude  ┆ category  ┆ avg_ratin ┆ num_of_re ┆ url       │\n",
              "│ ---        ┆ ---        ┆ ---       ┆ ---        ┆ ---       ┆ g         ┆ views     ┆ ---       │\n",
              "│ str        ┆ str        ┆ f64       ┆ f64        ┆ str       ┆ ---       ┆ ---       ┆ str       │\n",
              "│            ┆            ┆           ┆            ┆           ┆ f64       ┆ i64       ┆           │\n",
              "╞════════════╪════════════╪═══════════╪════════════╪═══════════╪═══════════╪═══════════╪═══════════╡\n",
              "│ Basecamp   ┆ 0x54907fca ┆ 47.471332 ┆ -121.68692 ┆ Hotel     ┆ 5.0       ┆ 8         ┆ https://w │\n",
              "│ Guesthouse ┆ 2751e187:0 ┆           ┆ 8          ┆           ┆           ┆           ┆ ww.google │\n",
              "│            ┆ x3d6ae31ac ┆           ┆            ┆           ┆           ┆           ┆ .com/maps │\n",
              "│            ┆ 18…        ┆           ┆            ┆           ┆           ┆           ┆ /plac…    │\n",
              "│ Sugar      ┆ 0x88062b28 ┆ 42.619862 ┆ -89.37789  ┆ Hotel     ┆ 4.7       ┆ 8         ┆ https://w │\n",
              "│ River Loft ┆ cb53ef6d:0 ┆           ┆            ┆           ┆           ┆           ┆ ww.google │\n",
              "│            ┆ x94df72568 ┆           ┆            ┆           ┆           ┆           ┆ .com/maps │\n",
              "│            ┆ fd…        ┆           ┆            ┆           ┆           ┆           ┆ /plac…    │\n",
              "│ Meraki     ┆ 0x549b9d4a ┆ 47.887652 ┆ -120.12037 ┆ Hotel     ┆ 4.9       ┆ 15        ┆ https://w │\n",
              "│ Lodge      ┆ d8f113d5:0 ┆           ┆ 6          ┆           ┆           ┆           ┆ ww.google │\n",
              "│            ┆ x8258a10cc ┆           ┆            ┆           ┆           ┆           ┆ .com/maps │\n",
              "│            ┆ a8…        ┆           ┆            ┆           ┆           ┆           ┆ /plac…    │\n",
              "│ View House ┆ 0x549b9db4 ┆ 47.888291 ┆ -120.12412 ┆ Hotel     ┆ 4.4       ┆ 8         ┆ https://w │\n",
              "│ at Lake    ┆ d73626a3:0 ┆           ┆            ┆           ┆           ┆           ┆ ww.google │\n",
              "│ Chelan     ┆ x348e8f710 ┆           ┆            ┆           ┆           ┆           ┆ .com/maps │\n",
              "│            ┆ 6d…        ┆           ┆            ┆           ┆           ┆           ┆ /plac…    │\n",
              "│ Station    ┆ 0x4d55cee0 ┆ 45.99872  ┆ -89.490867 ┆ Resort    ┆ 4.7       ┆ 3         ┆ https://w │\n",
              "│ Lakefront  ┆ af102c25:0 ┆           ┆            ┆ hotel     ┆           ┆           ┆ ww.google │\n",
              "│ Rental     ┆ x752b31367 ┆           ┆            ┆           ┆           ┆           ┆ .com/maps │\n",
              "│ Home       ┆ 7a…        ┆           ┆            ┆           ┆           ┆           ┆ /plac…    │\n",
              "└────────────┴────────────┴───────────┴────────────┴───────────┴───────────┴───────────┴───────────┘"
            ],
            "text/html": [
              "<div><style>\n",
              ".dataframe > thead > tr,\n",
              ".dataframe > tbody > tr {\n",
              "  text-align: right;\n",
              "  white-space: pre-wrap;\n",
              "}\n",
              "</style>\n",
              "<small>shape: (5, 8)</small><table border=\"1\" class=\"dataframe\"><thead><tr><th>name</th><th>gmap_id</th><th>latitude</th><th>longitude</th><th>category</th><th>avg_rating</th><th>num_of_reviews</th><th>url</th></tr><tr><td>str</td><td>str</td><td>f64</td><td>f64</td><td>str</td><td>f64</td><td>i64</td><td>str</td></tr></thead><tbody><tr><td>&quot;Basecamp Guest…</td><td>&quot;0x54907fca2751…</td><td>47.471332</td><td>-121.686928</td><td>&quot;Hotel&quot;</td><td>5.0</td><td>8</td><td>&quot;https://www.go…</td></tr><tr><td>&quot;Sugar River Lo…</td><td>&quot;0x88062b28cb53…</td><td>42.619862</td><td>-89.37789</td><td>&quot;Hotel&quot;</td><td>4.7</td><td>8</td><td>&quot;https://www.go…</td></tr><tr><td>&quot;Meraki Lodge&quot;</td><td>&quot;0x549b9d4ad8f1…</td><td>47.887652</td><td>-120.120376</td><td>&quot;Hotel&quot;</td><td>4.9</td><td>15</td><td>&quot;https://www.go…</td></tr><tr><td>&quot;View House at …</td><td>&quot;0x549b9db4d736…</td><td>47.888291</td><td>-120.12412</td><td>&quot;Hotel&quot;</td><td>4.4</td><td>8</td><td>&quot;https://www.go…</td></tr><tr><td>&quot;Station Lakefr…</td><td>&quot;0x4d55cee0af10…</td><td>45.99872</td><td>-89.490867</td><td>&quot;Resort hotel&quot;</td><td>4.7</td><td>3</td><td>&quot;https://www.go…</td></tr></tbody></table></div>"
            ]
          },
          "metadata": {},
          "execution_count": 11
        }
      ]
    },
    {
      "cell_type": "markdown",
      "source": [
        "## Con el DF filtrado procedemos a verificar datos nulos"
      ],
      "metadata": {
        "id": "bdztaX5ok2cZ"
      }
    },
    {
      "cell_type": "code",
      "source": [
        "df.null_count()"
      ],
      "metadata": {
        "colab": {
          "base_uri": "https://localhost:8080/",
          "height": 129
        },
        "id": "bkk-hWH5ku8-",
        "outputId": "e33833b6-f9dd-4235-9f7a-b1f6ba5d4b74"
      },
      "execution_count": 12,
      "outputs": [
        {
          "output_type": "execute_result",
          "data": {
            "text/plain": [
              "shape: (1, 8)\n",
              "┌──────┬─────────┬──────────┬───────────┬──────────┬────────────┬────────────────┬─────┐\n",
              "│ name ┆ gmap_id ┆ latitude ┆ longitude ┆ category ┆ avg_rating ┆ num_of_reviews ┆ url │\n",
              "│ ---  ┆ ---     ┆ ---      ┆ ---       ┆ ---      ┆ ---        ┆ ---            ┆ --- │\n",
              "│ u32  ┆ u32     ┆ u32      ┆ u32       ┆ u32      ┆ u32        ┆ u32            ┆ u32 │\n",
              "╞══════╪═════════╪══════════╪═══════════╪══════════╪════════════╪════════════════╪═════╡\n",
              "│ 0    ┆ 0       ┆ 0        ┆ 0         ┆ 0        ┆ 0          ┆ 0              ┆ 0   │\n",
              "└──────┴─────────┴──────────┴───────────┴──────────┴────────────┴────────────────┴─────┘"
            ],
            "text/html": [
              "<div><style>\n",
              ".dataframe > thead > tr,\n",
              ".dataframe > tbody > tr {\n",
              "  text-align: right;\n",
              "  white-space: pre-wrap;\n",
              "}\n",
              "</style>\n",
              "<small>shape: (1, 8)</small><table border=\"1\" class=\"dataframe\"><thead><tr><th>name</th><th>gmap_id</th><th>latitude</th><th>longitude</th><th>category</th><th>avg_rating</th><th>num_of_reviews</th><th>url</th></tr><tr><td>u32</td><td>u32</td><td>u32</td><td>u32</td><td>u32</td><td>u32</td><td>u32</td><td>u32</td></tr></thead><tbody><tr><td>0</td><td>0</td><td>0</td><td>0</td><td>0</td><td>0</td><td>0</td><td>0</td></tr></tbody></table></div>"
            ]
          },
          "metadata": {},
          "execution_count": 12
        }
      ]
    },
    {
      "cell_type": "markdown",
      "source": [
        "## Libre de datos nulos procedemos a verificar datos duplicados"
      ],
      "metadata": {
        "id": "1ajTEKhUk_5g"
      }
    },
    {
      "cell_type": "code",
      "source": [
        "df.filter(df.is_duplicated())"
      ],
      "metadata": {
        "colab": {
          "base_uri": "https://localhost:8080/",
          "height": 882
        },
        "id": "75qH_vabk-A_",
        "outputId": "f75e3d26-9f72-44b8-aa16-09cd939b9ff6"
      },
      "execution_count": 13,
      "outputs": [
        {
          "output_type": "execute_result",
          "data": {
            "text/plain": [
              "shape: (138, 8)\n",
              "┌────────────┬────────────┬───────────┬────────────┬───────────┬───────────┬───────────┬───────────┐\n",
              "│ name       ┆ gmap_id    ┆ latitude  ┆ longitude  ┆ category  ┆ avg_ratin ┆ num_of_re ┆ url       │\n",
              "│ ---        ┆ ---        ┆ ---       ┆ ---        ┆ ---       ┆ g         ┆ views     ┆ ---       │\n",
              "│ str        ┆ str        ┆ f64       ┆ f64        ┆ str       ┆ ---       ┆ ---       ┆ str       │\n",
              "│            ┆            ┆           ┆            ┆           ┆ f64       ┆ i64       ┆           │\n",
              "╞════════════╪════════════╪═══════════╪════════════╪═══════════╪═══════════╪═══════════╪═══════════╡\n",
              "│ Basecamp   ┆ 0x54907fca ┆ 47.471332 ┆ -121.68692 ┆ Hotel     ┆ 5.0       ┆ 8         ┆ https://w │\n",
              "│ Guesthouse ┆ 2751e187:0 ┆           ┆ 8          ┆           ┆           ┆           ┆ ww.google │\n",
              "│            ┆ x3d6ae31ac ┆           ┆            ┆           ┆           ┆           ┆ .com/maps │\n",
              "│            ┆ 18…        ┆           ┆            ┆           ┆           ┆           ┆ /plac…    │\n",
              "│ Sugar      ┆ 0x88062b28 ┆ 42.619862 ┆ -89.37789  ┆ Hotel     ┆ 4.7       ┆ 8         ┆ https://w │\n",
              "│ River Loft ┆ cb53ef6d:0 ┆           ┆            ┆           ┆           ┆           ┆ ww.google │\n",
              "│            ┆ x94df72568 ┆           ┆            ┆           ┆           ┆           ┆ .com/maps │\n",
              "│            ┆ fd…        ┆           ┆            ┆           ┆           ┆           ┆ /plac…    │\n",
              "│ Meraki     ┆ 0x549b9d4a ┆ 47.887652 ┆ -120.12037 ┆ Hotel     ┆ 4.9       ┆ 15        ┆ https://w │\n",
              "│ Lodge      ┆ d8f113d5:0 ┆           ┆ 6          ┆           ┆           ┆           ┆ ww.google │\n",
              "│            ┆ x8258a10cc ┆           ┆            ┆           ┆           ┆           ┆ .com/maps │\n",
              "│            ┆ a8…        ┆           ┆            ┆           ┆           ┆           ┆ /plac…    │\n",
              "│ View House ┆ 0x549b9db4 ┆ 47.888291 ┆ -120.12412 ┆ Hotel     ┆ 4.4       ┆ 8         ┆ https://w │\n",
              "│ at Lake    ┆ d73626a3:0 ┆           ┆            ┆           ┆           ┆           ┆ ww.google │\n",
              "│ Chelan     ┆ x348e8f710 ┆           ┆            ┆           ┆           ┆           ┆ .com/maps │\n",
              "│            ┆ 6d…        ┆           ┆            ┆           ┆           ┆           ┆ /plac…    │\n",
              "│ …          ┆ …          ┆ …         ┆ …          ┆ …         ┆ …         ┆ …         ┆ …         │\n",
              "│ Northcote  ┆ 0x4d4d3699 ┆ 45.045383 ┆ -87.157292 ┆ Resort    ┆ 4.5       ┆ 6         ┆ https://w │\n",
              "│ Cottages   ┆ 1ce4b905:0 ┆           ┆            ┆ hotel     ┆           ┆           ┆ ww.google │\n",
              "│            ┆ x4462a79eb ┆           ┆            ┆           ┆           ┆           ┆ .com/maps │\n",
              "│            ┆ 59…        ┆           ┆            ┆           ┆           ┆           ┆ /plac…    │\n",
              "│ Plaza      ┆ 0x808fcca4 ┆ 37.332865 ┆ -121.89241 ┆ Hotel     ┆ 5.0       ┆ 5         ┆ https://w │\n",
              "│ Hotel      ┆ 857141bb:0 ┆           ┆ 4          ┆           ┆           ┆           ┆ ww.google │\n",
              "│            ┆ x8ee693ff8 ┆           ┆            ┆           ┆           ┆           ┆ .com/maps │\n",
              "│            ┆ 5b…        ┆           ┆            ┆           ┆           ┆           ┆ /plac…    │\n",
              "│ Shady Oaks ┆ 0x865cffff ┆ 29.15345  ┆ -98.484184 ┆ Hotel     ┆ 3.8       ┆ 14        ┆ https://w │\n",
              "│ RV Park    ┆ 432c343d:0 ┆           ┆            ┆           ┆           ┆           ┆ ww.google │\n",
              "│            ┆ x581905d7b ┆           ┆            ┆           ┆           ┆           ┆ .com/maps │\n",
              "│            ┆ a8…        ┆           ┆            ┆           ┆           ┆           ┆ /plac…    │\n",
              "│ Courtyard  ┆ 0x88c2f720 ┆ 27.980224 ┆ -82.825325 ┆ Hotel     ┆ 4.5       ┆ 2         ┆ https://w │\n",
              "│ by         ┆ b0bec3ab:0 ┆           ┆            ┆           ┆           ┆           ┆ ww.google │\n",
              "│ Marriott   ┆ x1de29e887 ┆           ┆            ┆           ┆           ┆           ┆ .com/maps │\n",
              "│ Clearwater ┆ 09…        ┆           ┆            ┆           ┆           ┆           ┆ /plac…    │\n",
              "│ …          ┆            ┆           ┆            ┆           ┆           ┆           ┆           │\n",
              "└────────────┴────────────┴───────────┴────────────┴───────────┴───────────┴───────────┴───────────┘"
            ],
            "text/html": [
              "<div><style>\n",
              ".dataframe > thead > tr,\n",
              ".dataframe > tbody > tr {\n",
              "  text-align: right;\n",
              "  white-space: pre-wrap;\n",
              "}\n",
              "</style>\n",
              "<small>shape: (138, 8)</small><table border=\"1\" class=\"dataframe\"><thead><tr><th>name</th><th>gmap_id</th><th>latitude</th><th>longitude</th><th>category</th><th>avg_rating</th><th>num_of_reviews</th><th>url</th></tr><tr><td>str</td><td>str</td><td>f64</td><td>f64</td><td>str</td><td>f64</td><td>i64</td><td>str</td></tr></thead><tbody><tr><td>&quot;Basecamp Guest…</td><td>&quot;0x54907fca2751…</td><td>47.471332</td><td>-121.686928</td><td>&quot;Hotel&quot;</td><td>5.0</td><td>8</td><td>&quot;https://www.go…</td></tr><tr><td>&quot;Sugar River Lo…</td><td>&quot;0x88062b28cb53…</td><td>42.619862</td><td>-89.37789</td><td>&quot;Hotel&quot;</td><td>4.7</td><td>8</td><td>&quot;https://www.go…</td></tr><tr><td>&quot;Meraki Lodge&quot;</td><td>&quot;0x549b9d4ad8f1…</td><td>47.887652</td><td>-120.120376</td><td>&quot;Hotel&quot;</td><td>4.9</td><td>15</td><td>&quot;https://www.go…</td></tr><tr><td>&quot;View House at …</td><td>&quot;0x549b9db4d736…</td><td>47.888291</td><td>-120.12412</td><td>&quot;Hotel&quot;</td><td>4.4</td><td>8</td><td>&quot;https://www.go…</td></tr><tr><td>&quot;Station Lakefr…</td><td>&quot;0x4d55cee0af10…</td><td>45.99872</td><td>-89.490867</td><td>&quot;Resort hotel&quot;</td><td>4.7</td><td>3</td><td>&quot;https://www.go…</td></tr><tr><td>&quot;Kings Island R…</td><td>&quot;0x8840f7fb0543…</td><td>39.355061</td><td>-84.264094</td><td>&quot;Hotel&quot;</td><td>2.8</td><td>28</td><td>&quot;https://www.go…</td></tr><tr><td>&quot;Kings Island R…</td><td>&quot;0x8840f7fb0543…</td><td>39.355061</td><td>-84.264094</td><td>&quot;Resort hotel&quot;</td><td>2.8</td><td>28</td><td>&quot;https://www.go…</td></tr><tr><td>&quot;Garden City, S…</td><td>&quot;0x890040a32810…</td><td>33.592541</td><td>-79.009323</td><td>&quot;Hotel&quot;</td><td>3.0</td><td>2</td><td>&quot;https://www.go…</td></tr><tr><td>&quot;Garden City Ka…</td><td>&quot;0x8709f120d869…</td><td>38.050028</td><td>-100.847887</td><td>&quot;Hotel&quot;</td><td>4.3</td><td>8</td><td>&quot;https://www.go…</td></tr><tr><td>&quot;Howard Johnson…</td><td>&quot;0x88404e8cd7f7…</td><td>39.293253</td><td>-84.487513</td><td>&quot;Hotel&quot;</td><td>1.8</td><td>18</td><td>&quot;https://www.go…</td></tr><tr><td>&quot;Ski Hill 36 by…</td><td>&quot;0x876af72c9048…</td><td>39.482306</td><td>-106.049677</td><td>&quot;Hotel&quot;</td><td>5.0</td><td>1</td><td>&quot;https://www.go…</td></tr><tr><td>&quot;Kasa Charlotte…</td><td>&quot;0x8856a1dedb2e…</td><td>35.224397</td><td>-80.87188</td><td>&quot;Hotel&quot;</td><td>5.0</td><td>8</td><td>&quot;https://www.go…</td></tr><tr><td>&hellip;</td><td>&hellip;</td><td>&hellip;</td><td>&hellip;</td><td>&hellip;</td><td>&hellip;</td><td>&hellip;</td><td>&hellip;</td></tr><tr><td>&quot;The INN at Wil…</td><td>&quot;0x89e05c2451c4…</td><td>43.207164</td><td>-73.024386</td><td>&quot;Hotel&quot;</td><td>3.3</td><td>18</td><td>&quot;https://www.go…</td></tr><tr><td>&quot;Catbird Hotel&quot;</td><td>&quot;0x876c7913a510…</td><td>39.76971</td><td>-104.972336</td><td>&quot;Extended stay …</td><td>3.4</td><td>5</td><td>&quot;https://www.go…</td></tr><tr><td>&quot;Gavins Celebra…</td><td>&quot;0x863b843100db…</td><td>30.226673</td><td>-93.210871</td><td>&quot;Hotel&quot;</td><td>5.0</td><td>1</td><td>&quot;https://www.go…</td></tr><tr><td>&quot;A Plus Accommo…</td><td>&quot;0x88569e3c7990…</td><td>35.157113</td><td>-80.824607</td><td>&quot;Hotel&quot;</td><td>4.0</td><td>1</td><td>&quot;https://www.go…</td></tr><tr><td>&quot;Thunderbird Mo…</td><td>&quot;0x8859f38fb1ee…</td><td>35.586391</td><td>-82.505383</td><td>&quot;Hotel&quot;</td><td>3.0</td><td>8</td><td>&quot;https://www.go…</td></tr><tr><td>&quot;Coastal Hotels…</td><td>&quot;0x54905ca6a91c…</td><td>47.437313</td><td>-122.287661</td><td>&quot;Hotel&quot;</td><td>4.3</td><td>3</td><td>&quot;https://www.go…</td></tr><tr><td>&quot;Hill Top Bed A…</td><td>&quot;0x89deba26c381…</td><td>42.991088</td><td>-74.750285</td><td>&quot;Hotel&quot;</td><td>3.0</td><td>4</td><td>&quot;https://www.go…</td></tr><tr><td>&quot;Historic Stock…</td><td>&quot;0x87f83107b2cd…</td><td>44.482448</td><td>-92.260578</td><td>&quot;Hotel&quot;</td><td>4.0</td><td>4</td><td>&quot;https://www.go…</td></tr><tr><td>&quot;Northcote Cott…</td><td>&quot;0x4d4d36991ce4…</td><td>45.045383</td><td>-87.157292</td><td>&quot;Resort hotel&quot;</td><td>4.5</td><td>6</td><td>&quot;https://www.go…</td></tr><tr><td>&quot;Plaza Hotel&quot;</td><td>&quot;0x808fcca48571…</td><td>37.332865</td><td>-121.892414</td><td>&quot;Hotel&quot;</td><td>5.0</td><td>5</td><td>&quot;https://www.go…</td></tr><tr><td>&quot;Shady Oaks RV …</td><td>&quot;0x865cffff432c…</td><td>29.15345</td><td>-98.484184</td><td>&quot;Hotel&quot;</td><td>3.8</td><td>14</td><td>&quot;https://www.go…</td></tr><tr><td>&quot;Courtyard by M…</td><td>&quot;0x88c2f720b0be…</td><td>27.980224</td><td>-82.825325</td><td>&quot;Hotel&quot;</td><td>4.5</td><td>2</td><td>&quot;https://www.go…</td></tr></tbody></table></div>"
            ]
          },
          "metadata": {},
          "execution_count": 13
        }
      ]
    },
    {
      "cell_type": "markdown",
      "source": [
        "## Notamos una gran cantidad de elementos duplicados por lo que procedemos a eliminarlos"
      ],
      "metadata": {
        "id": "Y3AUi9XZtOfx"
      }
    },
    {
      "cell_type": "code",
      "source": [
        "df = df.unique(subset=['gmap_id'], keep='first')"
      ],
      "metadata": {
        "id": "vIMcnoG5lTtz"
      },
      "execution_count": 14,
      "outputs": []
    },
    {
      "cell_type": "code",
      "source": [
        "df.select(pl.all().count())"
      ],
      "metadata": {
        "colab": {
          "base_uri": "https://localhost:8080/",
          "height": 129
        },
        "id": "tUDckU05tkJD",
        "outputId": "77e48792-2bcc-4252-9e2d-72a0fea4dea7"
      },
      "execution_count": 15,
      "outputs": [
        {
          "output_type": "execute_result",
          "data": {
            "text/plain": [
              "shape: (1, 8)\n",
              "┌──────┬─────────┬──────────┬───────────┬──────────┬────────────┬────────────────┬─────┐\n",
              "│ name ┆ gmap_id ┆ latitude ┆ longitude ┆ category ┆ avg_rating ┆ num_of_reviews ┆ url │\n",
              "│ ---  ┆ ---     ┆ ---      ┆ ---       ┆ ---      ┆ ---        ┆ ---            ┆ --- │\n",
              "│ u32  ┆ u32     ┆ u32      ┆ u32       ┆ u32      ┆ u32        ┆ u32            ┆ u32 │\n",
              "╞══════╪═════════╪══════════╪═══════════╪══════════╪════════════╪════════════════╪═════╡\n",
              "│ 675  ┆ 675     ┆ 675      ┆ 675       ┆ 675      ┆ 675        ┆ 675            ┆ 675 │\n",
              "└──────┴─────────┴──────────┴───────────┴──────────┴────────────┴────────────────┴─────┘"
            ],
            "text/html": [
              "<div><style>\n",
              ".dataframe > thead > tr,\n",
              ".dataframe > tbody > tr {\n",
              "  text-align: right;\n",
              "  white-space: pre-wrap;\n",
              "}\n",
              "</style>\n",
              "<small>shape: (1, 8)</small><table border=\"1\" class=\"dataframe\"><thead><tr><th>name</th><th>gmap_id</th><th>latitude</th><th>longitude</th><th>category</th><th>avg_rating</th><th>num_of_reviews</th><th>url</th></tr><tr><td>u32</td><td>u32</td><td>u32</td><td>u32</td><td>u32</td><td>u32</td><td>u32</td><td>u32</td></tr></thead><tbody><tr><td>675</td><td>675</td><td>675</td><td>675</td><td>675</td><td>675</td><td>675</td><td>675</td></tr></tbody></table></div>"
            ]
          },
          "metadata": {},
          "execution_count": 15
        }
      ]
    },
    {
      "cell_type": "markdown",
      "source": [
        "## Verificamos Outliers"
      ],
      "metadata": {
        "id": "K7bAXjSqvjSb"
      }
    },
    {
      "cell_type": "code",
      "source": [
        "plt.figure(figsize=(8, 4))\n",
        "sns.boxplot(data=df['avg_rating'])\n",
        "plt.title('Boxplot de avg_rating')\n",
        "plt.xlabel('Columnas')\n",
        "plt.ylabel('Valores')\n",
        "plt.show()"
      ],
      "metadata": {
        "colab": {
          "base_uri": "https://localhost:8080/",
          "height": 396
        },
        "id": "CfTkR187tmgo",
        "outputId": "d5b679ce-56ac-4d08-d0be-77268b7642a0"
      },
      "execution_count": 16,
      "outputs": [
        {
          "output_type": "display_data",
          "data": {
            "text/plain": [
              "<Figure size 800x400 with 1 Axes>"
            ],
            "image/png": "[encoded data removed]"
          },
          "metadata": {}
        }
      ]
    },
    {
      "cell_type": "markdown",
      "source": [
        "### notamos que si existen outliers, es referente a la calificación de los hoteles exista un minimo con calificación 1 o cerca de 1 veremos la distribución mediante un histograma"
      ],
      "metadata": {
        "id": "cCyN6xi5wPGU"
      }
    },
    {
      "cell_type": "code",
      "source": [
        "df2=df.group_by('avg_rating').count()"
      ],
      "metadata": {
        "id": "LYZMV_oe1NC2"
      },
      "execution_count": 25,
      "outputs": []
    },
    {
      "cell_type": "code",
      "source": [
        "plt.figure(figsize=(8, 5))\n",
        "plt.bar(df2['avg_rating'], df2['count'], color='skyblue')\n",
        "plt.xlabel('Rating')\n",
        "plt.ylabel('Cantidad')\n",
        "plt.title('Distribución de Ratings')\n",
        "plt.show()"
      ],
      "metadata": {
        "colab": {
          "base_uri": "https://localhost:8080/",
          "height": 488
        },
        "id": "P6ijMUxU3S9O",
        "outputId": "cc3197dd-b564-4fa5-9aa5-b5d4a5e12839"
      },
      "execution_count": 38,
      "outputs": [
        {
          "output_type": "display_data",
          "data": {
            "text/plain": [
              "<Figure size 800x500 with 1 Axes>"
            ],
            "image/png": "[encoded data removed]"
          },
          "metadata": {}
        }
      ]
    },
    {
      "cell_type": "code",
      "source": [
        "x=df2.filter(pl.col('avg_rating')<2).select(pl.col('avg_rating').count())/df.height"
      ],
      "metadata": {
        "id": "16qSGP6h8PWe"
      },
      "execution_count": 52,
      "outputs": []
    },
    {
      "cell_type": "code",
      "source": [
        "round(x['avg_rating'][0]*100,2)"
      ],
      "metadata": {
        "colab": {
          "base_uri": "https://localhost:8080/"
        },
        "id": "Qf-eD96c8mzi",
        "outputId": "b925c767-a97d-4019-fa85-4dfd1afbc45b"
      },
      "execution_count": 56,
      "outputs": [
        {
          "output_type": "execute_result",
          "data": {
            "text/plain": [
              "0.89"
            ]
          },
          "metadata": {},
          "execution_count": 56
        }
      ]
    },
    {
      "cell_type": "markdown",
      "source": [
        "## Son 6 los hoteles que cuentan con datos atipicos que corresponden a menos del 1%"
      ],
      "metadata": {
        "id": "QKy8EhfS7yc2"
      }
    },
    {
      "cell_type": "markdown",
      "source": [
        "## Ahora obtenemos los outliers para 'num_of_reviews'"
      ],
      "metadata": {
        "id": "NJD8NlXd9qeV"
      }
    },
    {
      "cell_type": "code",
      "source": [
        "plt.figure(figsize=(8, 4))\n",
        "sns.boxplot(data=df[ 'num_of_reviews'])\n",
        "plt.title('Boxplot de  num_of_reviews')\n",
        "plt.xlabel('Columnas')\n",
        "plt.ylabel('Valores')\n",
        "plt.show()"
      ],
      "metadata": {
        "colab": {
          "base_uri": "https://localhost:8080/",
          "height": 396
        },
        "id": "Pal_GMyT8mHm",
        "outputId": "ccc31498-f1eb-43fb-b0ad-b32552470757"
      },
      "execution_count": 57,
      "outputs": [
        {
          "output_type": "display_data",
          "data": {
            "text/plain": [
              "<Figure size 800x400 with 1 Axes>"
            ],
            "image/png": "[encoded data removed]"
          },
          "metadata": {}
        }
      ]
    },
    {
      "cell_type": "markdown",
      "source": [
        "### La gran mayoria de hoteles cuenta con menos de 20 reseñas, podemos observar una gran cantidad de hoteles con valores atipicos muy superiores al 3° cuartil, este no indica que haya que tratar ya que se debe a la capacidad y popularidad de ciertos hoteles los cuales reciben mayor cantidad de comentarios"
      ],
      "metadata": {
        "id": "AzFJKP8c-BiP"
      }
    },
    {
      "cell_type": "markdown",
      "source": [
        "## Pasemos a ver la distribución de estos datos"
      ],
      "metadata": {
        "id": "OUXbMMwC-q0n"
      }
    },
    {
      "cell_type": "code",
      "source": [
        "df3=df.group_by('num_of_reviews').count()"
      ],
      "metadata": {
        "id": "gpWq5beg6EnN"
      },
      "execution_count": 58,
      "outputs": []
    },
    {
      "cell_type": "code",
      "source": [
        "plt.figure(figsize=(8, 5))\n",
        "plt.bar(df3['num_of_reviews'], df3['count'], color='skyblue')\n",
        "plt.xlabel('Numero de Reseñas')\n",
        "plt.ylabel('Cantidad')\n",
        "plt.title('Distribución de Reseñas')\n",
        "plt.show()"
      ],
      "metadata": {
        "colab": {
          "base_uri": "https://localhost:8080/",
          "height": 487
        },
        "id": "-htaauM1-0o9",
        "outputId": "8e877136-a49b-4f4b-ebdc-c0b2ecaa56af"
      },
      "execution_count": 60,
      "outputs": [
        {
          "output_type": "display_data",
          "data": {
            "text/plain": [
              "<Figure size 800x500 with 1 Axes>"
            ],
            "image/png": "[encoded data removed]"
          },
          "metadata": {}
        }
      ]
    },
    {
      "cell_type": "markdown",
      "source": [
        "### Confirmamos lo dicho anteriormente"
      ],
      "metadata": {
        "id": "UAhBv0wq_Kkv"
      }
    },
    {
      "cell_type": "code",
      "source": [],
      "metadata": {
        "id": "ZpJewXWj--EP"
      },
      "execution_count": null,
      "outputs": []
    }
  ]
}