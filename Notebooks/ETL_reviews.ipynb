{
 "cells": [
  {
   "cell_type": "code",
   "execution_count": 8,
   "metadata": {},
   "outputs": [],
   "source": [
    "import json\n",
    "import polars as pl\n",
    "import os"
   ]
  },
  {
   "cell_type": "code",
   "execution_count": 41,
   "metadata": {},
   "outputs": [],
   "source": [
    "df = pl.read_parquet(\"./clean-data/hotelesv2.parquet\")"
   ]
  },
  {
   "cell_type": "code",
   "execution_count": 42,
   "metadata": {},
   "outputs": [],
   "source": [
    "df=df.drop(['name',\n",
    " 'descrption',\n",
    " 'latitude',\n",
    " 'longitude',\n",
    " 'category',\n",
    " 'avg_rating',\n",
    " 'num_of_reviews',\n",
    " 'County',\n",
    " 'City',\n",
    " 'State',\n",
    " 'Country'])"
   ]
  },
  {
   "cell_type": "code",
   "execution_count": 9,
   "metadata": {},
   "outputs": [],
   "source": [
    "def contar_archivos_por_carpeta(ruta):\n",
    "    archivos_por_carpeta = {}\n",
    "    \n",
    "    for nombre in os.listdir(ruta):\n",
    "        ruta_completa = os.path.join(ruta, nombre)\n",
    "        if os.path.isdir(ruta_completa):\n",
    "            archivos_por_carpeta[nombre] = len(os.listdir(ruta_completa))\n",
    "\n",
    "    return archivos_por_carpeta"
   ]
  },
  {
   "cell_type": "code",
   "execution_count": 10,
   "metadata": {},
   "outputs": [],
   "source": [
    "carpetas = contar_archivos_por_carpeta('./reviews/reviews-estados')"
   ]
  },
  {
   "cell_type": "code",
   "execution_count": 37,
   "metadata": {},
   "outputs": [],
   "source": [
    "def transform (carpeta,archivo):\n",
    "    with open(f'./reviews/reviews-estados/{carpeta}/{archivo}.json', 'r') as f:\n",
    "        texto = f.read()\n",
    "\n",
    "    lineas = texto.split('\\n')\n",
    "    user_ids, names, times, ratings, texts, gmap_ids = [], [], [], [], [], []\n",
    "    \n",
    "    for linea in lineas:\n",
    "        if linea.strip():  # Ignora líneas en blanco\n",
    "            objeto_json = json.loads(linea)\n",
    "            user_ids.append(objeto_json['user_id'])\n",
    "            names.append(objeto_json['name'])\n",
    "            times.append(objeto_json['time'])\n",
    "            ratings.append(objeto_json['rating'])\n",
    "            texts.append(objeto_json['text'])\n",
    "            gmap_ids.append(objeto_json['gmap_id'])\n",
    "            \n",
    "    data = {\n",
    "    'user_id':user_ids,\n",
    "    'name':names,\n",
    "    'time':times,\n",
    "    'rating':ratings,\n",
    "    'text':texts,\n",
    "    'gmap_id':gmap_ids\n",
    "            }\n",
    "    \n",
    "    df = pl.DataFrame(data)\n",
    "    df = df.filter(~pl.col('gmap_id').is_null())\n",
    "    df = df.unique(subset=['gmap_id'], keep='first')\n",
    "    return df"
   ]
  },
  {
   "cell_type": "code",
   "execution_count": 43,
   "metadata": {},
   "outputs": [],
   "source": [
    "for carpeta,cant in carpetas.items():\n",
    "    dfa = transform(carpeta,1)\n",
    "    dfa = dfa.join(df, on='gmap_id', how='inner')\n",
    "    for i in range(2,cant+1):\n",
    "        dfb = transform(carpeta,i)\n",
    "        dfb = dfb.join(df, on='gmap_id', how='inner')\n",
    "        dfa = dfa.extend(dfb)\n",
    "    dfa.write_parquet(f'./reviews/reviews-data/{carpeta}.parquet')"
   ]
  },
  {
   "cell_type": "code",
   "execution_count": 49,
   "metadata": {},
   "outputs": [
    {
     "name": "stdout",
     "output_type": "stream",
     "text": [
      "<class 'str'> review-Alabama\n"
     ]
    }
   ],
   "source": [
    "a1 = list(carpetas.keys())[0]\n",
    "print(type(a1), a1)"
   ]
  },
  {
   "cell_type": "code",
   "execution_count": 51,
   "metadata": {},
   "outputs": [],
   "source": [
    "a1 = list(carpetas.keys())[0]\n",
    "df1 = pl.read_parquet(f'./reviews/reviews-data/{a1}.parquet')\n",
    "for carpeta, cant in carpetas.items():\n",
    "    if carpeta == a1:\n",
    "        continue\n",
    "    df2 = pl.read_parquet(f'./reviews/reviews-data/{carpeta}.parquet')\n",
    "    df1 = df1.extend(df2)\n",
    "df1.write_parquet('./reviews/reviews-data/all-reviews.parquet')"
   ]
  },
  {
   "cell_type": "code",
   "execution_count": 52,
   "metadata": {},
   "outputs": [
    {
     "data": {
      "text/html": [
       "<div><style>\n",
       ".dataframe > thead > tr,\n",
       ".dataframe > tbody > tr {\n",
       "  text-align: right;\n",
       "  white-space: pre-wrap;\n",
       "}\n",
       "</style>\n",
       "<small>shape: (2_095, 8)</small><table border=\"1\" class=\"dataframe\"><thead><tr><th>user_id</th><th>name</th><th>time</th><th>rating</th><th>text</th><th>gmap_id</th><th>facilities</th><th>url</th></tr><tr><td>str</td><td>str</td><td>i64</td><td>i64</td><td>str</td><td>str</td><td>list[str]</td><td>str</td></tr></thead><tbody><tr><td>&quot;11262285274252…</td><td>&quot;kitt Tidwell&quot;</td><td>1615917077406</td><td>2</td><td>&quot;I lifted the b…</td><td>&quot;0x88626b3eef63…</td><td>null</td><td>&quot;https://www.go…</td></tr><tr><td>&quot;10470722570413…</td><td>&quot;Dottie Engle&quot;</td><td>1535302758918</td><td>5</td><td>&quot;Very polite fr…</td><td>&quot;0x889a8a0f1624…</td><td>null</td><td>&quot;https://www.go…</td></tr><tr><td>&quot;11361327080121…</td><td>&quot;Ashley Peters&quot;</td><td>1494551764821</td><td>5</td><td>&quot;Amazing hotel …</td><td>&quot;0x889a04ce45e4…</td><td>null</td><td>&quot;https://www.go…</td></tr><tr><td>&quot;11499210839610…</td><td>&quot;Cherena Dukes&quot;</td><td>1574336225144</td><td>4</td><td>&quot;Nice homes in …</td><td>&quot;0x88892dc32d67…</td><td>null</td><td>&quot;https://www.go…</td></tr><tr><td>&quot;11266518652829…</td><td>&quot;Charlie Cline&quot;</td><td>1454821094934</td><td>4</td><td>&quot;Good location.…</td><td>&quot;0x88890491e941…</td><td>null</td><td>&quot;https://www.go…</td></tr><tr><td>&quot;10935668939329…</td><td>&quot;Jennifer Gurle…</td><td>1515726182259</td><td>4</td><td>&quot;The rooms are …</td><td>&quot;0x888bb13bb3be…</td><td>null</td><td>&quot;https://www.go…</td></tr><tr><td>&quot;11645382291336…</td><td>&quot;Curtis Mitchel…</td><td>1540831167875</td><td>3</td><td>&quot;Ever been in t…</td><td>&quot;0x88626b5f2310…</td><td>null</td><td>&quot;https://www.go…</td></tr><tr><td>&quot;10960068563625…</td><td>&quot;Miranda Morris…</td><td>1610719146150</td><td>5</td><td>&quot;Its no longer …</td><td>&quot;0x888bd12a241f…</td><td>null</td><td>&quot;https://www.go…</td></tr><tr><td>&quot;11491755808860…</td><td>&quot;Robert Nilsson…</td><td>1546210453899</td><td>5</td><td>&quot;The best place…</td><td>&quot;0x889a05c8ea6e…</td><td>null</td><td>&quot;https://www.go…</td></tr><tr><td>&quot;10517482582169…</td><td>&quot;V N&quot;</td><td>1470444233858</td><td>5</td><td>&quot;Nice room for …</td><td>&quot;0x888c2bb336e1…</td><td>null</td><td>&quot;https://www.go…</td></tr><tr><td>&quot;10219995879799…</td><td>&quot;Nuke Life&quot;</td><td>1335013619937</td><td>1</td><td>&quot;Indian owned j…</td><td>&quot;0x88628aff2023…</td><td>null</td><td>&quot;https://www.go…</td></tr><tr><td>&quot;10060567361051…</td><td>&quot;Kim Melton&quot;</td><td>1604796374869</td><td>5</td><td>&quot;We had my niec…</td><td>&quot;0x8889a74902ba…</td><td>[&quot;Wheelchair accessible entrance&quot;, &quot;Good for kids&quot;]</td><td>&quot;https://www.go…</td></tr><tr><td>&hellip;</td><td>&hellip;</td><td>&hellip;</td><td>&hellip;</td><td>&hellip;</td><td>&hellip;</td><td>&hellip;</td><td>&hellip;</td></tr><tr><td>&quot;10768222874469…</td><td>&quot;Brittany Otto&quot;</td><td>1445280908850</td><td>3</td><td>&quot;I was really l…</td><td>&quot;0x88014d8ddfa4…</td><td>null</td><td>&quot;https://www.go…</td></tr><tr><td>&quot;10279088713357…</td><td>&quot;S Perry&quot;</td><td>1527125180520</td><td>5</td><td>&quot;Newly remodele…</td><td>&quot;0x87f80751d1dc…</td><td>null</td><td>&quot;https://www.go…</td></tr><tr><td>&quot;11709333070822…</td><td>&quot;Boundless Obse…</td><td>1490133760332</td><td>5</td><td>&quot;Mike and Helen…</td><td>&quot;0x880513e88ea8…</td><td>null</td><td>&quot;https://www.go…</td></tr><tr><td>&quot;11613831739413…</td><td>&quot;Donna Farr&quot;</td><td>1541713996064</td><td>3</td><td>&quot;It has a small…</td><td>&quot;0x880744381c5c…</td><td>null</td><td>&quot;https://www.go…</td></tr><tr><td>&quot;11631772003390…</td><td>&quot;Jason Cousinea…</td><td>1622167616423</td><td>5</td><td>&quot;Didn&#x27;t take a …</td><td>&quot;0x8802020cf496…</td><td>null</td><td>&quot;https://www.go…</td></tr><tr><td>&quot;10696390794948…</td><td>&quot;Michelle Purpl…</td><td>1621963356955</td><td>1</td><td>&quot;This is a grea…</td><td>&quot;0x87fcd5260803…</td><td>[&quot;Outdoor seating&quot;, &quot;Takeout&quot;, … &quot;Credit cards&quot;]</td><td>&quot;https://www.go…</td></tr><tr><td>&quot;11143067958311…</td><td>&quot;Cindy Ulrichse…</td><td>1564438862270</td><td>1</td><td>&quot;Love this ❤️si…</td><td>&quot;0x88017ecc19b3…</td><td>null</td><td>&quot;https://www.go…</td></tr><tr><td>&quot;11542228496388…</td><td>&quot;Rachael Sieber…</td><td>1474207731636</td><td>2</td><td>&quot;Upon arrival, …</td><td>&quot;0x88051e3d67f8…</td><td>null</td><td>&quot;https://www.go…</td></tr><tr><td>&quot;10361790908813…</td><td>&quot;Des Sexton&quot;</td><td>1558152927195</td><td>1</td><td>&quot;Not clean chec…</td><td>&quot;0x876f3ad1b5c6…</td><td>null</td><td>&quot;https://www.go…</td></tr><tr><td>&quot;11438910148649…</td><td>&quot;Samantha Dawn&quot;</td><td>1580525738914</td><td>5</td><td>&quot;Absolutely fan…</td><td>&quot;0x8760d987b4ad…</td><td>[&quot;Delivery&quot;]</td><td>&quot;https://www.go…</td></tr><tr><td>&quot;11201799508681…</td><td>&quot;DuB Jay Da 3rd…</td><td>1606947370842</td><td>5</td><td>&quot;Nice big room …</td><td>&quot;0x8761c3734b1d…</td><td>null</td><td>&quot;https://www.go…</td></tr><tr><td>&quot;10302860066413…</td><td>&quot;James McManus&quot;</td><td>1525819909953</td><td>1</td><td>&quot;&quot;Smoke free&quot; r…</td><td>&quot;0x87517905377a…</td><td>null</td><td>&quot;https://www.go…</td></tr></tbody></table></div>"
      ],
      "text/plain": [
       "shape: (2_095, 8)\n",
       "┌────────────┬────────────┬────────────┬────────┬────────────┬────────────┬────────────┬───────────┐\n",
       "│ user_id    ┆ name       ┆ time       ┆ rating ┆ text       ┆ gmap_id    ┆ facilities ┆ url       │\n",
       "│ ---        ┆ ---        ┆ ---        ┆ ---    ┆ ---        ┆ ---        ┆ ---        ┆ ---       │\n",
       "│ str        ┆ str        ┆ i64        ┆ i64    ┆ str        ┆ str        ┆ list[str]  ┆ str       │\n",
       "╞════════════╪════════════╪════════════╪════════╪════════════╪════════════╪════════════╪═══════════╡\n",
       "│ 1126228527 ┆ kitt       ┆ 1615917077 ┆ 2      ┆ I lifted   ┆ 0x88626b3e ┆ null       ┆ https://w │\n",
       "│ 4252734032 ┆ Tidwell    ┆ 406        ┆        ┆ the        ┆ ef6314db:0 ┆            ┆ ww.google │\n",
       "│ 2          ┆            ┆            ┆        ┆ blanket on ┆ x1c0b19d1d ┆            ┆ .com/maps │\n",
       "│            ┆            ┆            ┆        ┆ the firs…  ┆ 69…        ┆            ┆ /plac…    │\n",
       "│ 1047072257 ┆ Dottie     ┆ 1535302758 ┆ 5      ┆ Very       ┆ 0x889a8a0f ┆ null       ┆ https://w │\n",
       "│ 0413211393 ┆ Engle      ┆ 918        ┆        ┆ polite     ┆ 16241c7d:0 ┆            ┆ ww.google │\n",
       "│ 3          ┆            ┆            ┆        ┆ front      ┆ xae32fa59c ┆            ┆ .com/maps │\n",
       "│            ┆            ┆            ┆        ┆ desk.      ┆ 5d…        ┆            ┆ /plac…    │\n",
       "│            ┆            ┆            ┆        ┆ Eager to…  ┆            ┆            ┆           │\n",
       "│ 1136132708 ┆ Ashley     ┆ 1494551764 ┆ 5      ┆ Amazing    ┆ 0x889a04ce ┆ null       ┆ https://w │\n",
       "│ 0121919583 ┆ Peters     ┆ 821        ┆        ┆ hotel all  ┆ 45e4b54b:0 ┆            ┆ ww.google │\n",
       "│ 2          ┆            ┆            ┆        ┆ around!    ┆ x69dd99eeb ┆            ┆ .com/maps │\n",
       "│            ┆            ┆            ┆        ┆ Clean …    ┆ da…        ┆            ┆ /plac…    │\n",
       "│ 1149921083 ┆ Cherena    ┆ 1574336225 ┆ 4      ┆ Nice homes ┆ 0x88892dc3 ┆ null       ┆ https://w │\n",
       "│ 9610033555 ┆ Dukes      ┆ 144        ┆        ┆ in fairly  ┆ 2d67742d:0 ┆            ┆ ww.google │\n",
       "│ 9          ┆            ┆            ┆        ┆ new        ┆ x91dc8f0e8 ┆            ┆ .com/maps │\n",
       "│            ┆            ┆            ┆        ┆ subdivi…   ┆ 5b…        ┆            ┆ /plac…    │\n",
       "│ 1126651865 ┆ Charlie    ┆ 1454821094 ┆ 4      ┆ Good       ┆ 0x88890491 ┆ null       ┆ https://w │\n",
       "│ 2829259738 ┆ Cline      ┆ 934        ┆        ┆ location.  ┆ e9416625:0 ┆            ┆ ww.google │\n",
       "│ 5          ┆            ┆            ┆        ┆ Nice       ┆ x2f85307a0 ┆            ┆ .com/maps │\n",
       "│            ┆            ┆            ┆        ┆ staff.     ┆ 6d…        ┆            ┆ /plac…    │\n",
       "│            ┆            ┆            ┆        ┆ Clean…     ┆            ┆            ┆           │\n",
       "│ …          ┆ …          ┆ …          ┆ …      ┆ …          ┆ …          ┆ …          ┆ …         │\n",
       "│ 1154222849 ┆ Rachael    ┆ 1474207731 ┆ 2      ┆ Upon       ┆ 0x88051e3d ┆ null       ┆ https://w │\n",
       "│ 6388645693 ┆ Siebers    ┆ 636        ┆        ┆ arrival,   ┆ 67f8db63:0 ┆            ┆ ww.google │\n",
       "│ 3          ┆            ┆            ┆        ┆ front desk ┆ xdc1374abe ┆            ┆ .com/maps │\n",
       "│            ┆            ┆            ┆        ┆ staff w…   ┆ 17…        ┆            ┆ /plac…    │\n",
       "│ 1036179090 ┆ Des Sexton ┆ 1558152927 ┆ 1      ┆ Not clean  ┆ 0x876f3ad1 ┆ null       ┆ https://w │\n",
       "│ 8813903162 ┆            ┆ 195        ┆        ┆ checked in ┆ b5c6bc99:0 ┆            ┆ ww.google │\n",
       "│ 2          ┆            ┆            ┆        ┆ and found  ┆ x849e85633 ┆            ┆ .com/maps │\n",
       "│            ┆            ┆            ┆        ┆ d…         ┆ b4…        ┆            ┆ /plac…    │\n",
       "│ 1143891014 ┆ Samantha   ┆ 1580525738 ┆ 5      ┆ Absolutely ┆ 0x8760d987 ┆ [\"Delivery ┆ https://w │\n",
       "│ 8649789439 ┆ Dawn       ┆ 914        ┆        ┆ fantastic! ┆ b4ad50e1:0 ┆ \"]         ┆ ww.google │\n",
       "│ 5          ┆            ┆            ┆        ┆ Delicious  ┆ x1dd339c3e ┆            ┆ .com/maps │\n",
       "│            ┆            ┆            ┆        ┆ …          ┆ d0…        ┆            ┆ /plac…    │\n",
       "│ 1120179950 ┆ DuB Jay Da ┆ 1606947370 ┆ 5      ┆ Nice big   ┆ 0x8761c373 ┆ null       ┆ https://w │\n",
       "│ 8681687467 ┆ 3rd        ┆ 842        ┆        ┆ room wifi  ┆ 4b1d4161:0 ┆            ┆ ww.google │\n",
       "│ 9          ┆            ┆            ┆        ┆ and        ┆ xbf69a2ad3 ┆            ┆ .com/maps │\n",
       "│            ┆            ┆            ┆        ┆ satellite… ┆ 35…        ┆            ┆ /plac…    │\n",
       "│ 1030286006 ┆ James      ┆ 1525819909 ┆ 1      ┆ \"Smoke     ┆ 0x87517905 ┆ null       ┆ https://w │\n",
       "│ 6413334487 ┆ McManus    ┆ 953        ┆        ┆ free\" room ┆ 377a560d:0 ┆            ┆ ww.google │\n",
       "│ 2          ┆            ┆            ┆        ┆ smelled of ┆ xd221d4bf4 ┆            ┆ .com/maps │\n",
       "│            ┆            ┆            ┆        ┆ smo…       ┆ a6…        ┆            ┆ /plac…    │\n",
       "└────────────┴────────────┴────────────┴────────┴────────────┴────────────┴────────────┴───────────┘"
      ]
     },
     "execution_count": 52,
     "metadata": {},
     "output_type": "execute_result"
    }
   ],
   "source": [
    "df1"
   ]
  },
  {
   "cell_type": "code",
   "execution_count": null,
   "metadata": {},
   "outputs": [],
   "source": []
  }
 ],
 "metadata": {
  "kernelspec": {
   "display_name": "Python 3",
   "language": "python",
   "name": "python3"
  },
  "language_info": {
   "codemirror_mode": {
    "name": "ipython",
    "version": 3
   },
   "file_extension": ".py",
   "mimetype": "text/x-python",
   "name": "python",
   "nbconvert_exporter": "python",
   "pygments_lexer": "ipython3",
   "version": "3.11.8"
  }
 },
 "nbformat": 4,
 "nbformat_minor": 2
}
