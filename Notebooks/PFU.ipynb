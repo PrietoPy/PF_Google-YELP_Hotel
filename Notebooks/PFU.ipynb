{
  "nbformat": 4,
  "nbformat_minor": 0,
  "metadata": {
    "colab": {
      "provenance": []
    },
    "kernelspec": {
      "name": "python3",
      "display_name": "Python 3"
    },
    "language_info": {
      "name": "python"
    }
  },
  "cells": [
    {
      "cell_type": "code",
      "execution_count": null,
      "metadata": {
        "colab": {
          "base_uri": "https://localhost:8080/"
        },
        "id": "fYwJpalBaZ_N",
        "outputId": "cab5d65a-3f6a-425c-9b5b-5937b33f9010"
      },
      "outputs": [
        {
          "output_type": "stream",
          "name": "stdout",
          "text": [
            "Mounted at /content/drive\n"
          ]
        }
      ],
      "source": [
        "# Como estamos trabajando en colab y tengo los archivos en el drive importamos la libreria y montamos\n",
        "from google.colab import drive #para utilizar google drive como fuente de archivos\n",
        "drive.mount('/content/drive') #montamos la carpeta del drivec"
      ]
    },
    {
      "cell_type": "code",
      "source": [
        "!pip install -U googlemaps"
      ],
      "metadata": {
        "colab": {
          "base_uri": "https://localhost:8080/"
        },
        "id": "qwJrTVCfrF7W",
        "outputId": "66bbf297-ff55-4809-9c78-eb29d90dcc44"
      },
      "execution_count": null,
      "outputs": [
        {
          "output_type": "stream",
          "name": "stdout",
          "text": [
            "Collecting googlemaps\n",
            "  Downloading googlemaps-4.10.0.tar.gz (33 kB)\n",
            "  Preparing metadata (setup.py) ... \u001b[?25l\u001b[?25hdone\n",
            "Requirement already satisfied: requests<3.0,>=2.20.0 in /usr/local/lib/python3.10/dist-packages (from googlemaps) (2.31.0)\n",
            "Requirement already satisfied: charset-normalizer<4,>=2 in /usr/local/lib/python3.10/dist-packages (from requests<3.0,>=2.20.0->googlemaps) (3.3.2)\n",
            "Requirement already satisfied: idna<4,>=2.5 in /usr/local/lib/python3.10/dist-packages (from requests<3.0,>=2.20.0->googlemaps) (3.6)\n",
            "Requirement already satisfied: urllib3<3,>=1.21.1 in /usr/local/lib/python3.10/dist-packages (from requests<3.0,>=2.20.0->googlemaps) (2.0.7)\n",
            "Requirement already satisfied: certifi>=2017.4.17 in /usr/local/lib/python3.10/dist-packages (from requests<3.0,>=2.20.0->googlemaps) (2023.11.17)\n",
            "Building wheels for collected packages: googlemaps\n",
            "  Building wheel for googlemaps (setup.py) ... \u001b[?25l\u001b[?25hdone\n",
            "  Created wheel for googlemaps: filename=googlemaps-4.10.0-py3-none-any.whl size=40711 sha256=3c451fbfc0da85e0eda18f8d07a92cc64bc5c7469ca441a3dac191d4296e1f0b\n",
            "  Stored in directory: /root/.cache/pip/wheels/17/f8/79/999d5d37118fd35d7219ef57933eb9d09886c4c4503a800f84\n",
            "Successfully built googlemaps\n",
            "Installing collected packages: googlemaps\n",
            "Successfully installed googlemaps-4.10.0\n"
          ]
        }
      ]
    },
    {
      "cell_type": "code",
      "source": [
        "!pip install pyarrow"
      ],
      "metadata": {
        "colab": {
          "base_uri": "https://localhost:8080/"
        },
        "id": "mP5IM8cJrMHi",
        "outputId": "9b72d176-0a55-4142-8428-6be2550e8402"
      },
      "execution_count": null,
      "outputs": [
        {
          "output_type": "stream",
          "name": "stdout",
          "text": [
            "Requirement already satisfied: pyarrow in /usr/local/lib/python3.10/dist-packages (10.0.1)\n",
            "Requirement already satisfied: numpy>=1.16.6 in /usr/local/lib/python3.10/dist-packages (from pyarrow) (1.23.5)\n"
          ]
        }
      ]
    },
    {
      "cell_type": "code",
      "source": [
        "import googlemaps\n",
        "import polars as pl"
      ],
      "metadata": {
        "id": "IwSOZqvgrghS"
      },
      "execution_count": null,
      "outputs": []
    },
    {
      "cell_type": "code",
      "source": [
        "# Leer el archivo Parquet desde GCS\n",
        "df = pl.read_parquet('/content/drive/MyDrive/PF Google & Yelp/1.parquet')"
      ],
      "metadata": {
        "id": "QyK05PTzpuDq"
      },
      "execution_count": null,
      "outputs": []
    },
    {
      "cell_type": "code",
      "source": [
        "# Configurar la API Key de Google Maps\n",
        "with open('/content/drive/MyDrive/PF Google & Yelp/APK.txt', 'r') as file:\n",
        "    api_key = file.read().strip()\n",
        "\n",
        "gmaps = googlemaps.Client(key=api_key)"
      ],
      "metadata": {
        "id": "afSQdWYdrkxL"
      },
      "execution_count": null,
      "outputs": []
    },
    {
      "cell_type": "code",
      "source": [
        "df.columns"
      ],
      "metadata": {
        "colab": {
          "base_uri": "https://localhost:8080/"
        },
        "id": "vvy3YOlWs3pK",
        "outputId": "9bca84e6-6a18-487d-d5a1-451ad0765317"
      },
      "execution_count": null,
      "outputs": [
        {
          "output_type": "execute_result",
          "data": {
            "text/plain": [
              "['name',\n",
              " 'gmap_id',\n",
              " 'latitude',\n",
              " 'longitude',\n",
              " 'category',\n",
              " 'avg_rating',\n",
              " 'num_of_reviews',\n",
              " 'url']"
            ]
          },
          "metadata": {},
          "execution_count": 39
        }
      ]
    },
    {
      "cell_type": "code",
      "source": [
        "df.dtypes"
      ],
      "metadata": {
        "colab": {
          "base_uri": "https://localhost:8080/"
        },
        "id": "wCIdZa36szEk",
        "outputId": "a87b9408-afe1-4d2c-af33-cc6d7975fa05"
      },
      "execution_count": null,
      "outputs": [
        {
          "output_type": "execute_result",
          "data": {
            "text/plain": [
              "[Utf8, Utf8, Float64, Float64, Utf8, Float64, Int64, Utf8]"
            ]
          },
          "metadata": {},
          "execution_count": 14
        }
      ]
    },
    {
      "cell_type": "code",
      "source": [
        "df[0,2:4]"
      ],
      "metadata": {
        "colab": {
          "base_uri": "https://localhost:8080/",
          "height": 129
        },
        "id": "SMpy_v_cycr_",
        "outputId": "f191b641-d641-4286-cf3a-26da8bbf9427"
      },
      "execution_count": null,
      "outputs": [
        {
          "output_type": "execute_result",
          "data": {
            "text/plain": [
              "shape: (1, 2)\n",
              "┌───────────┬─────────────┐\n",
              "│ latitude  ┆ longitude   │\n",
              "│ ---       ┆ ---         │\n",
              "│ f64       ┆ f64         │\n",
              "╞═══════════╪═════════════╡\n",
              "│ 41.219586 ┆ -111.954159 │\n",
              "└───────────┴─────────────┘"
            ],
            "text/html": [
              "<div><style>\n",
              ".dataframe > thead > tr,\n",
              ".dataframe > tbody > tr {\n",
              "  text-align: right;\n",
              "  white-space: pre-wrap;\n",
              "}\n",
              "</style>\n",
              "<small>shape: (1, 2)</small><table border=\"1\" class=\"dataframe\"><thead><tr><th>latitude</th><th>longitude</th></tr><tr><td>f64</td><td>f64</td></tr></thead><tbody><tr><td>41.219586</td><td>-111.954159</td></tr></tbody></table></div>"
            ]
          },
          "metadata": {},
          "execution_count": 10
        }
      ]
    },
    {
      "cell_type": "code",
      "source": [
        "resultado = gmaps.reverse_geocode((41.219586, -111.954159))"
      ],
      "metadata": {
        "id": "cxFbdrdLwjyP"
      },
      "execution_count": null,
      "outputs": []
    },
    {
      "cell_type": "code",
      "source": [
        "resultado[0]['place_id']"
      ],
      "metadata": {
        "colab": {
          "base_uri": "https://localhost:8080/",
          "height": 35
        },
        "id": "r7f5D93BwuR_",
        "outputId": "fb76c48b-3af5-4764-9a8f-9d8657fedebb"
      },
      "execution_count": null,
      "outputs": [
        {
          "output_type": "execute_result",
          "data": {
            "text/plain": [
              "'ChIJzXI05CoPU4cR-ycyvxzibgc'"
            ],
            "application/vnd.google.colaboratory.intrinsic+json": {
              "type": "string"
            }
          },
          "metadata": {},
          "execution_count": 32
        }
      ]
    },
    {
      "cell_type": "code",
      "source": [
        "# Definir la función para obtener city y country a partir de coordenadas\n",
        "def obtener_city_country(latitudes, longitudes):\n",
        "    cities, countries, place_ids = [], [], []\n",
        "\n",
        "    for lat, lon in zip(latitudes, longitudes):\n",
        "        resultado = gmaps.reverse_geocode((lat, lon))\n",
        "        city, country, place_id = None, None, None\n",
        "\n",
        "        if resultado:\n",
        "            for component in resultado[0]['address_components']:\n",
        "                if 'administrative_area_level_1' in component['types'] and not city:\n",
        "                    city = component['long_name']\n",
        "                elif 'country' in component['types'] and not country:\n",
        "                    country = component['long_name']\n",
        "\n",
        "            if resultado[0]['place_id']:\n",
        "                place_id = resultado[0]['place_id']\n",
        "\n",
        "        cities.append(city)\n",
        "        countries.append(country)\n",
        "        place_ids.append(place_id)\n",
        "\n",
        "    return pl.Series(cities), pl.Series(countries), pl.Series(place_ids)"
      ],
      "metadata": {
        "id": "axCDgxo9roRf"
      },
      "execution_count": null,
      "outputs": []
    },
    {
      "cell_type": "code",
      "source": [
        "# Aplicar la función a las columnas 'latitude' y 'longitude'\n",
        "cities, countries, place_ids = obtener_city_country(df['latitude'], df['longitude'])"
      ],
      "metadata": {
        "id": "HWmeRRtXrqP2"
      },
      "execution_count": null,
      "outputs": []
    },
    {
      "cell_type": "code",
      "source": [
        "# Agregar las nuevas series al DataFrame\n",
        "df = df.with_columns(\n",
        "    City=cities,\n",
        "    Country=countries,\n",
        "    Place_ID=place_ids\n",
        ")"
      ],
      "metadata": {
        "id": "c8Cf0KM8v4Fs"
      },
      "execution_count": null,
      "outputs": []
    },
    {
      "cell_type": "code",
      "source": [
        "df"
      ],
      "metadata": {
        "colab": {
          "base_uri": "https://localhost:8080/",
          "height": 1000
        },
        "id": "wd8hZK0D7nRy",
        "outputId": "f82d9e6a-12a8-452f-d860-709c0d51026e"
      },
      "execution_count": null,
      "outputs": [
        {
          "output_type": "execute_result",
          "data": {
            "text/plain": [
              "shape: (511, 11)\n",
              "┌───────────┬───────────┬───────────┬───────────┬───┬───────────┬───────────┬───────────┬──────────┐\n",
              "│ name      ┆ gmap_id   ┆ latitude  ┆ longitude ┆ … ┆ url       ┆ City      ┆ Country   ┆ Place_ID │\n",
              "│ ---       ┆ ---       ┆ ---       ┆ ---       ┆   ┆ ---       ┆ ---       ┆ ---       ┆ ---      │\n",
              "│ str       ┆ str       ┆ f64       ┆ f64       ┆   ┆ str       ┆ str       ┆ str       ┆ str      │\n",
              "╞═══════════╪═══════════╪═══════════╪═══════════╪═══╪═══════════╪═══════════╪═══════════╪══════════╡\n",
              "│ browning  ┆ 0x87530f2 ┆ 41.219586 ┆ -111.9541 ┆ … ┆ https://w ┆ Utah      ┆ United    ┆ ChIJzXI0 │\n",
              "│ mansion   ┆ ae4300001 ┆           ┆ 59        ┆   ┆ ww.google ┆           ┆ States    ┆ 5CoPU4cR │\n",
              "│           ┆ :0xae7ddc ┆           ┆           ┆   ┆ .com/maps ┆           ┆           ┆ -ycyvxzi │\n",
              "│           ┆ deb85…    ┆           ┆           ┆   ┆ /plac…    ┆           ┆           ┆ bgc      │\n",
              "│ Knights   ┆ 0x8094677 ┆ 36.791747 ┆ -119.7925 ┆ … ┆ https://w ┆ Californi ┆ United    ┆ ChIJ84Jp │\n",
              "│ Inn       ┆ ef8ae34c9 ┆           ┆ 88        ┆   ┆ ww.google ┆ a         ┆ States    ┆ _X5nlIAR │\n",
              "│ Fresno    ┆ :0x8af1b0 ┆           ┆           ┆   ┆ .com/maps ┆           ┆           ┆ 83o7AuMk │\n",
              "│           ┆ f41fd…    ┆           ┆           ┆   ┆ /plac…    ┆           ┆           ┆ mVg      │\n",
              "│ Golden    ┆ 0x863b858 ┆ 30.251152 ┆ -93.17972 ┆ … ┆ https://w ┆ Louisiana ┆ United    ┆ ChIJTwPy │\n",
              "│ Nugget    ┆ 06de0c16f ┆           ┆ 9         ┆   ┆ ww.google ┆           ┆ States    ┆ 7XiEO4YR │\n",
              "│           ┆ :0xf35d9d ┆           ┆           ┆   ┆ .com/maps ┆           ┆           ┆ 0mkZ1vus │\n",
              "│           ┆ 08ce3…    ┆           ┆           ┆   ┆ /plac…    ┆           ┆           ┆ 3vI      │\n",
              "│ Bearcove  ┆ 0x52b711d ┆ 46.94733  ┆ -94.53544 ┆ … ┆ https://w ┆ Minnesota ┆ United    ┆ ChIJc5lg │\n",
              "│ Resort    ┆ d0516d9a3 ┆           ┆ 7         ┆   ┆ ww.google ┆           ┆ States    ┆ Bd0Rt1IR │\n",
              "│           ┆ :0xcb595a ┆           ┆           ┆   ┆ .com/maps ┆           ┆           ┆ DLe4CGYK │\n",
              "│           ┆ d3985…    ┆           ┆           ┆   ┆ /plac…    ┆           ┆           ┆ VLo      │\n",
              "│ …         ┆ …         ┆ …         ┆ …         ┆ … ┆ …         ┆ …         ┆ …         ┆ …        │\n",
              "│ Magnuson  ┆ 0x8890be2 ┆ 30.493365 ┆ -87.26363 ┆ … ┆ https://w ┆ Florida   ┆ United    ┆ ChIJX5Tl │\n",
              "│ Inn       ┆ c9ee1c88f ┆           ┆ 2         ┆   ┆ ww.google ┆           ┆ States    ┆ nCy-kIgR │\n",
              "│ Pensacola ┆ :0x63f6e3 ┆           ┆           ┆   ┆ .com/maps ┆           ┆           ┆ 0x75byyH │\n",
              "│           ┆ b304f…    ┆           ┆           ┆   ┆ /plac…    ┆           ┆           ┆ f8k      │\n",
              "│ Acorn inn ┆ 0x548f8bb ┆ 48.299859 ┆ -122.6542 ┆ … ┆ https://w ┆ Washingto ┆ United    ┆ ChIJjfN8 │\n",
              "│           ┆ b4b688711 ┆           ┆ 01        ┆   ┆ ww.google ┆ n         ┆ States    ┆ OhuKj1QR │\n",
              "│           ┆ :0xde643a ┆           ┆           ┆   ┆ .com/maps ┆           ┆           ┆ xhTXlWHz │\n",
              "│           ┆ 9dbcf…    ┆           ┆           ┆   ┆ /plac…    ┆           ┆           ┆ JLM      │\n",
              "│ Vintage   ┆ 0x54c57a3 ┆ 42.431065 ┆ -123.3324 ┆ … ┆ https://w ┆ Oregon    ┆ United    ┆ ChIJoy9- │\n",
              "│ Hotels    ┆ 68b7e2fa3 ┆           ┆ 78        ┆   ┆ ww.google ┆           ┆ States    ┆ izZ6xVQR │\n",
              "│           ┆ :0x630b06 ┆           ┆           ┆   ┆ .com/maps ┆           ┆           ┆ aEEnB_0G │\n",
              "│           ┆ fd072…    ┆           ┆           ┆   ┆ /plac…    ┆           ┆           ┆ C2M      │\n",
              "│ Downtown  ┆ 0x8859f35 ┆ 35.595133 ┆ -82.55331 ┆ … ┆ https://w ┆ North     ┆ United    ┆ ChIJG5jn │\n",
              "│ Asheville ┆ 7071975ed ┆           ┆ 2         ┆   ┆ ww.google ┆ Carolina  ┆ States    ┆ CVfzWYgR │\n",
              "│ Loft at   ┆ :0xd1e998 ┆           ┆           ┆   ┆ .com/maps ┆           ┆           ┆ Un9XlhAx │\n",
              "│ 51 Co…    ┆ c0f4d…    ┆           ┆           ┆   ┆ /plac…    ┆           ┆           ┆ nrQ      │\n",
              "└───────────┴───────────┴───────────┴───────────┴───┴───────────┴───────────┴───────────┴──────────┘"
            ],
            "text/html": [
              "<div><style>\n",
              ".dataframe > thead > tr,\n",
              ".dataframe > tbody > tr {\n",
              "  text-align: right;\n",
              "  white-space: pre-wrap;\n",
              "}\n",
              "</style>\n",
              "<small>shape: (511, 11)</small><table border=\"1\" class=\"dataframe\"><thead><tr><th>name</th><th>gmap_id</th><th>latitude</th><th>longitude</th><th>category</th><th>avg_rating</th><th>num_of_reviews</th><th>url</th><th>City</th><th>Country</th><th>Place_ID</th></tr><tr><td>str</td><td>str</td><td>f64</td><td>f64</td><td>str</td><td>f64</td><td>i64</td><td>str</td><td>str</td><td>str</td><td>str</td></tr></thead><tbody><tr><td>&quot;browning mansi…</td><td>&quot;0x87530f2ae430…</td><td>41.219586</td><td>-111.954159</td><td>&quot;Hotel&quot;</td><td>5.0</td><td>1</td><td>&quot;https://www.go…</td><td>&quot;Utah&quot;</td><td>&quot;United States&quot;</td><td>&quot;ChIJzXI05CoPU4…</td></tr><tr><td>&quot;Knights Inn Fr…</td><td>&quot;0x8094677ef8ae…</td><td>36.791747</td><td>-119.792588</td><td>&quot;Hotel&quot;</td><td>2.2</td><td>66</td><td>&quot;https://www.go…</td><td>&quot;California&quot;</td><td>&quot;United States&quot;</td><td>&quot;ChIJ84Jp_X5nlI…</td></tr><tr><td>&quot;Golden Nugget&quot;</td><td>&quot;0x863b85806de0…</td><td>30.251152</td><td>-93.179729</td><td>&quot;Hotel&quot;</td><td>4.0</td><td>1</td><td>&quot;https://www.go…</td><td>&quot;Louisiana&quot;</td><td>&quot;United States&quot;</td><td>&quot;ChIJTwPy7XiEO4…</td></tr><tr><td>&quot;Bearcove Resor…</td><td>&quot;0x52b711dd0516…</td><td>46.94733</td><td>-94.535447</td><td>&quot;Resort hotel&quot;</td><td>3.3</td><td>4</td><td>&quot;https://www.go…</td><td>&quot;Minnesota&quot;</td><td>&quot;United States&quot;</td><td>&quot;ChIJc5lgBd0Rt1…</td></tr><tr><td>&quot;Hollywood&quot;</td><td>&quot;0x89e60e6029e2…</td><td>41.353617</td><td>-72.094278</td><td>&quot;Hotel&quot;</td><td>4.0</td><td>1</td><td>&quot;https://www.go…</td><td>&quot;Connecticut&quot;</td><td>&quot;United States&quot;</td><td>&quot;ChIJsZvKK2AO5o…</td></tr><tr><td>&quot;Lazy K Lounge&quot;</td><td>&quot;0x89c89ce228f7…</td><td>40.030569</td><td>-76.504901</td><td>&quot;Hotel&quot;</td><td>4.0</td><td>1</td><td>&quot;https://www.go…</td><td>&quot;Pennsylvania&quot;</td><td>&quot;United States&quot;</td><td>&quot;ChIJm5D3KOKcyI…</td></tr><tr><td>&quot;Posey Knob&quot;</td><td>&quot;0x88862b383e7b…</td><td>33.697157</td><td>-87.595702</td><td>&quot;Resort hotel&quot;</td><td>5.0</td><td>1</td><td>&quot;https://www.go…</td><td>&quot;Alabama&quot;</td><td>&quot;United States&quot;</td><td>&quot;GhIJt5bJcDzZQE…</td></tr><tr><td>&quot;Campbell Colle…</td><td>&quot;0x862833975d49…</td><td>32.298545</td><td>-90.209289</td><td>&quot;Hotel&quot;</td><td>4.5</td><td>2</td><td>&quot;https://www.go…</td><td>&quot;Mississippi&quot;</td><td>&quot;United States&quot;</td><td>&quot;ChIJcwbCaZczKI…</td></tr><tr><td>&quot;Boathouse Barn…</td><td>&quot;0x8669e732cdb6…</td><td>28.413809</td><td>-96.719294</td><td>&quot;Hotel&quot;</td><td>4.4</td><td>8</td><td>&quot;https://www.go…</td><td>&quot;Texas&quot;</td><td>&quot;United States&quot;</td><td>&quot;ChIJ6RX70TLnaY…</td></tr><tr><td>&quot;Retreat&quot;</td><td>&quot;0x8856ad3e1ddf…</td><td>35.554101</td><td>-80.960511</td><td>&quot;Hotel&quot;</td><td>3.8</td><td>8</td><td>&quot;https://www.go…</td><td>&quot;North Carolina…</td><td>&quot;United States&quot;</td><td>&quot;ChIJX1XfHT6tVo…</td></tr><tr><td>&quot;Ally&#x27;s Cottage…</td><td>&quot;0x87b5aed6bd78…</td><td>35.179367</td><td>-95.607422</td><td>&quot;Hotel&quot;</td><td>4.3</td><td>6</td><td>&quot;https://www.go…</td><td>&quot;Oklahoma&quot;</td><td>&quot;United States&quot;</td><td>&quot;ChIJ9WKokNautY…</td></tr><tr><td>&quot;Ramada Pensaco…</td><td>&quot;0x8890be2b38fd…</td><td>30.494985</td><td>-87.263196</td><td>&quot;Hotel&quot;</td><td>2.4</td><td>8</td><td>&quot;https://www.go…</td><td>&quot;Florida&quot;</td><td>&quot;United States&quot;</td><td>&quot;ChIJx5XjFCu-kI…</td></tr><tr><td>&hellip;</td><td>&hellip;</td><td>&hellip;</td><td>&hellip;</td><td>&hellip;</td><td>&hellip;</td><td>&hellip;</td><td>&hellip;</td><td>&hellip;</td><td>&hellip;</td><td>&hellip;</td></tr><tr><td>&quot;Water Street S…</td><td>&quot;0x89e58d25eb95…</td><td>41.173132</td><td>-71.559328</td><td>&quot;Hotel&quot;</td><td>3.0</td><td>6</td><td>&quot;https://www.go…</td><td>&quot;Rhode Island&quot;</td><td>&quot;United States&quot;</td><td>&quot;ChIJgbmV6yWN5Y…</td></tr><tr><td>&quot;Ramada Anaheim…</td><td>&quot;0x80dcd7e67ff0…</td><td>33.794624</td><td>-117.916067</td><td>&quot;Hotel&quot;</td><td>2.5</td><td>4</td><td>&quot;https://www.go…</td><td>&quot;California&quot;</td><td>&quot;United States&quot;</td><td>&quot;ChIJN73rokXX3I…</td></tr><tr><td>&quot;Kentucky Cardi…</td><td>&quot;0x8868e932d234…</td><td>37.680813</td><td>-85.849623</td><td>&quot;Hotel&quot;</td><td>3.1</td><td>64</td><td>&quot;https://www.go…</td><td>&quot;Kentucky&quot;</td><td>&quot;United States&quot;</td><td>&quot;ChIJWayq3DLpaI…</td></tr><tr><td>&quot;Hidden Treasur…</td><td>&quot;0x885c0137e149…</td><td>35.753627</td><td>-83.610308</td><td>&quot;Hotel&quot;</td><td>5.0</td><td>2</td><td>&quot;https://www.go…</td><td>&quot;Tennessee&quot;</td><td>&quot;United States&quot;</td><td>&quot;ChIJ0c0aBhkAXI…</td></tr><tr><td>&quot;La Quinta Inn …</td><td>&quot;0x88626b78c2af…</td><td>34.734244</td><td>-86.619052</td><td>&quot;Hotel&quot;</td><td>3.2</td><td>28</td><td>&quot;https://www.go…</td><td>&quot;Alabama&quot;</td><td>&quot;United States&quot;</td><td>&quot;ChIJ36vU6XhrYo…</td></tr><tr><td>&quot;Mayfield Manor…</td><td>&quot;0x8646fa9a5c43…</td><td>30.610245</td><td>-95.889939</td><td>&quot;Hotel&quot;</td><td>4.0</td><td>4</td><td>&quot;https://www.go…</td><td>&quot;Texas&quot;</td><td>&quot;United States&quot;</td><td>&quot;ChIJTYxDXJr6Ro…</td></tr><tr><td>&quot;Morani River R…</td><td>&quot;0x865f1eba089c…</td><td>29.338309</td><td>-99.979824</td><td>&quot;Hotel&quot;</td><td>4.9</td><td>7</td><td>&quot;https://www.go…</td><td>&quot;Texas&quot;</td><td>&quot;United States&quot;</td><td>&quot;ChIJ_8ucCLoeX4…</td></tr><tr><td>&quot;MainStay Suite…</td><td>&quot;0x8876043ab19d…</td><td>38.589411</td><td>-89.938509</td><td>&quot;Hotel&quot;</td><td>4.4</td><td>5</td><td>&quot;https://www.go…</td><td>&quot;Illinois&quot;</td><td>&quot;United States&quot;</td><td>&quot;ChIJuctFW0cBdo…</td></tr><tr><td>&quot;Magnuson Inn P…</td><td>&quot;0x8890be2c9ee1…</td><td>30.493365</td><td>-87.263632</td><td>&quot;Hotel&quot;</td><td>1.7</td><td>58</td><td>&quot;https://www.go…</td><td>&quot;Florida&quot;</td><td>&quot;United States&quot;</td><td>&quot;ChIJX5TlnCy-kI…</td></tr><tr><td>&quot;Acorn inn&quot;</td><td>&quot;0x548f8bbb4b68…</td><td>48.299859</td><td>-122.654201</td><td>&quot;Hotel&quot;</td><td>3.7</td><td>3</td><td>&quot;https://www.go…</td><td>&quot;Washington&quot;</td><td>&quot;United States&quot;</td><td>&quot;ChIJjfN8OhuKj1…</td></tr><tr><td>&quot;Vintage Hotels…</td><td>&quot;0x54c57a368b7e…</td><td>42.431065</td><td>-123.332478</td><td>&quot;Hotel&quot;</td><td>4.5</td><td>6</td><td>&quot;https://www.go…</td><td>&quot;Oregon&quot;</td><td>&quot;United States&quot;</td><td>&quot;ChIJoy9-izZ6xV…</td></tr><tr><td>&quot;Downtown Ashev…</td><td>&quot;0x8859f3570719…</td><td>35.595133</td><td>-82.553312</td><td>&quot;Hotel&quot;</td><td>4.8</td><td>8</td><td>&quot;https://www.go…</td><td>&quot;North Carolina…</td><td>&quot;United States&quot;</td><td>&quot;ChIJG5jnCVfzWY…</td></tr></tbody></table></div>"
            ]
          },
          "metadata": {},
          "execution_count": 41
        }
      ]
    },
    {
      "cell_type": "code",
      "source": [
        "df.write_parquet('/content/drive/MyDrive/PF Google & Yelp/u1.parquet')"
      ],
      "metadata": {
        "id": "yXwzjOLy7nxl"
      },
      "execution_count": null,
      "outputs": []
    },
    {
      "cell_type": "code",
      "source": [],
      "metadata": {
        "id": "rU55JnPE74jo"
      },
      "execution_count": null,
      "outputs": []
    }
  ]
}