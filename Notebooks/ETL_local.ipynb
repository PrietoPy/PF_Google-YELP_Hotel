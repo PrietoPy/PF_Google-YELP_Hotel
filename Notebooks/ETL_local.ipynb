{
  "nbformat": 4,
  "nbformat_minor": 0,
  "metadata": {
    "colab": {
      "provenance": []
    },
    "kernelspec": {
      "name": "python3",
      "display_name": "Python 3"
    },
    "language_info": {
      "name": "python"
    }
  },
  "cells": [
    {
      "cell_type": "markdown",
      "source": [
        "## Montamos el drive de google ya que estamos trabajando en Colab"
      ],
      "metadata": {
        "id": "sHw7yquzgsXy"
      }
    },
    {
      "cell_type": "code",
      "execution_count": 18,
      "metadata": {
        "colab": {
          "base_uri": "https://localhost:8080/"
        },
        "id": "Di5UJgrUgJhB",
        "outputId": "81f01311-f556-44d2-c7c0-bec3e5cb05b2"
      },
      "outputs": [
        {
          "output_type": "stream",
          "name": "stdout",
          "text": [
            "Drive already mounted at /content/drive; to attempt to forcibly remount, call drive.mount(\"/content/drive\", force_remount=True).\n"
          ]
        }
      ],
      "source": [
        "# Como estamos trabajando en colab y tengo los archivos en el drive importamos la libreria y montamos\n",
        "from google.colab import drive #para utilizar google drive como fuente de archivos\n",
        "drive.mount('/content/drive') #montamos la carpeta del drivec"
      ]
    },
    {
      "cell_type": "markdown",
      "source": [
        "## Importamos Librerias necesarias para la lectura del archivo y visualización de datos"
      ],
      "metadata": {
        "id": "q5fW9VJtg6ZX"
      }
    },
    {
      "cell_type": "code",
      "source": [
        "import json\n",
        "import polars as pl"
      ],
      "metadata": {
        "id": "MH5cFlZWgK1M"
      },
      "execution_count": 19,
      "outputs": []
    },
    {
      "cell_type": "markdown",
      "source": [
        "### Definimos una funcion para la lectura de archivos json"
      ],
      "metadata": {
        "id": "HVOCk1j2BzU9"
      }
    },
    {
      "cell_type": "code",
      "source": [
        "def leer_json (n):\n",
        "    data_list = []\n",
        "\n",
        "    with open(f'/content/drive/MyDrive/PF Google & Yelp/{n}.json', 'r') as file:\n",
        "        for line in file:\n",
        "            # Cargar cada objeto JSON por separado\n",
        "            data = json.loads(line)\n",
        "            data_list.append(data)\n",
        "\n",
        "    # Ahora data_list es una lista que contiene todos los objetos JSON del archivo\n",
        "    df = pl.DataFrame(data_list)\n",
        "    return df"
      ],
      "metadata": {
        "id": "qNspavd1-2Es"
      },
      "execution_count": null,
      "outputs": []
    },
    {
      "cell_type": "markdown",
      "source": [
        "### Definimos una funcion para las transformaciones"
      ],
      "metadata": {
        "id": "iNPnKWXiB6ua"
      }
    },
    {
      "cell_type": "code",
      "source": [
        "def transform (dft):\n",
        "    dft = dft.drop(['address', 'description', 'price', 'hours', 'MISC', 'state', 'relative_results'])\n",
        "    dft = dft.explode('category')\n",
        "    dft = dft.filter(dft['category'].str.contains(f'(?i)hotel'))\n",
        "    dft = dft.unique(subset=['gmap_id'], keep='first')\n",
        "    return dft"
      ],
      "metadata": {
        "id": "my4BCmcy-29b"
      },
      "execution_count": null,
      "outputs": []
    },
    {
      "cell_type": "markdown",
      "source": [
        "### Iniciamos un bucle para la lectura de los 11 archivos"
      ],
      "metadata": {
        "id": "nciJu4YlB_4n"
      }
    },
    {
      "cell_type": "code",
      "source": [
        "for i in range(1,12):\n",
        "    df1 = leer_json(i)\n",
        "    df1 = transform(df1)\n",
        "    df1.write_parquet(f'/content/drive/MyDrive/PF Google & Yelp/r{i}.parquet')"
      ],
      "metadata": {
        "id": "sXMHqhii__Y9"
      },
      "execution_count": null,
      "outputs": []
    },
    {
      "cell_type": "markdown",
      "source": [
        "### Instalamos la dependencia para la API de google maps"
      ],
      "metadata": {
        "id": "5i6vVQdKCI4p"
      }
    },
    {
      "cell_type": "code",
      "source": [
        "!pip install -U googlemaps"
      ],
      "metadata": {
        "colab": {
          "base_uri": "https://localhost:8080/"
        },
        "id": "VA122uT0BDfp",
        "outputId": "80cb20aa-cb15-4b94-a945-eeedc74f44c2"
      },
      "execution_count": 20,
      "outputs": [
        {
          "output_type": "stream",
          "name": "stdout",
          "text": [
            "Requirement already satisfied: googlemaps in /usr/local/lib/python3.10/dist-packages (4.10.0)\n",
            "Requirement already satisfied: requests<3.0,>=2.20.0 in /usr/local/lib/python3.10/dist-packages (from googlemaps) (2.31.0)\n",
            "Requirement already satisfied: charset-normalizer<4,>=2 in /usr/local/lib/python3.10/dist-packages (from requests<3.0,>=2.20.0->googlemaps) (3.3.2)\n",
            "Requirement already satisfied: idna<4,>=2.5 in /usr/local/lib/python3.10/dist-packages (from requests<3.0,>=2.20.0->googlemaps) (3.6)\n",
            "Requirement already satisfied: urllib3<3,>=1.21.1 in /usr/local/lib/python3.10/dist-packages (from requests<3.0,>=2.20.0->googlemaps) (2.0.7)\n",
            "Requirement already satisfied: certifi>=2017.4.17 in /usr/local/lib/python3.10/dist-packages (from requests<3.0,>=2.20.0->googlemaps) (2024.2.2)\n"
          ]
        }
      ]
    },
    {
      "cell_type": "markdown",
      "source": [
        "### Importamos la libreria para utilizar la API de google maps"
      ],
      "metadata": {
        "id": "OjlAWcQqCNKX"
      }
    },
    {
      "cell_type": "code",
      "source": [
        "import googlemaps"
      ],
      "metadata": {
        "id": "-VOApYNvaXIC"
      },
      "execution_count": 21,
      "outputs": []
    },
    {
      "cell_type": "markdown",
      "source": [
        "### Obtenemos la API Key del archivo y la definimos"
      ],
      "metadata": {
        "id": "BMFClgJkCS7O"
      }
    },
    {
      "cell_type": "code",
      "source": [
        "# Configurar la API Key de Google Maps\n",
        "with open('/content/drive/MyDrive/PF Google & Yelp/APK.txt', 'r') as file:\n",
        "    api_key = file.read().strip()\n",
        "\n",
        "gmaps = googlemaps.Client(key=api_key)"
      ],
      "metadata": {
        "id": "p4GhhFN3aaYi"
      },
      "execution_count": 22,
      "outputs": []
    },
    {
      "cell_type": "markdown",
      "source": [
        "### Definimos una función para obtener el Condado, Ciudad, Estado y Pais"
      ],
      "metadata": {
        "id": "DTTAUswVCYt-"
      }
    },
    {
      "cell_type": "code",
      "source": [
        "# Definir la función para obtener city y country a partir de coordenadas\n",
        "def obtener_city_country(latitudes, longitudes):\n",
        "    counties, cities, states, countries, = [], [], [], []\n",
        "\n",
        "    for lat, lon in zip(latitudes, longitudes):\n",
        "        resultado = gmaps.reverse_geocode((lat, lon))\n",
        "        county, city, state, country = None, None, None, None\n",
        "\n",
        "        if resultado:\n",
        "            for component in resultado[0]['address_components']:\n",
        "                if 'locality' in component['types'] and not city:\n",
        "                    city = component['long_name']\n",
        "\n",
        "                elif 'administrative_area_level_2' in component['types'] and not county:\n",
        "                    county = component['long_name']\n",
        "\n",
        "                elif 'administrative_area_level_1' in component['types'] and not state:\n",
        "                    state = component['long_name']\n",
        "\n",
        "                elif 'country' in component['types'] and not country:\n",
        "                    country = component['long_name']\n",
        "                elif city and county and state and country:\n",
        "                  break\n",
        "\n",
        "        counties.append(county)\n",
        "        cities.append(city)\n",
        "        states.append(state)\n",
        "        countries.append(country)\n",
        "\n",
        "    return pl.Series(counties), pl.Series(cities), pl.Series(states), pl.Series(countries)"
      ],
      "metadata": {
        "id": "7nVkNofhatsi"
      },
      "execution_count": 26,
      "outputs": []
    },
    {
      "cell_type": "markdown",
      "source": [
        "### Iniciamos un bucle para leer los archivos limpios y obtener los datos de la localidad"
      ],
      "metadata": {
        "id": "r8b7g0l_Ci-F"
      }
    },
    {
      "cell_type": "code",
      "source": [
        "for i in range(1,12):\n",
        "    df2 = pl.read_parquet(f'/content/drive/MyDrive/PF Google & Yelp/r{i}.parquet')\n",
        "    counties, cities, states, countries = obtener_city_country(df2['latitude'], df2['longitude'])\n",
        "    df2 = df2.with_columns(\n",
        "    County=counties,\n",
        "    City=cities,\n",
        "    State=states,\n",
        "    Country=countries)\n",
        "    df2.write_parquet(f'/content/drive/MyDrive/PF Google & Yelp/ru{i}.parquet')"
      ],
      "metadata": {
        "id": "aJep-e-padn2"
      },
      "execution_count": 27,
      "outputs": []
    },
    {
      "cell_type": "markdown",
      "source": [
        "### Leemos el primer archivo con los datos de la localidad y filtramos por las ciudades de interes, luego continuamos con los demas archivos y anidamos los dataframes"
      ],
      "metadata": {
        "id": "P5HGY5kDCxHI"
      }
    },
    {
      "cell_type": "code",
      "source": [
        "dfa = pl.read_parquet('/content/drive/MyDrive/PF Google & Yelp/ru1.parquet')\n",
        "dfa = dfa.filter((dfa['City'].str.contains(f'(?i)miami')) | (dfa['City'].str.contains(f'(?i)new york') | (dfa['City'].str.contains(f'(?i)orlando'))))\n",
        "for i in range(2,12):\n",
        "    dfb = pl.read_parquet(f'/content/drive/MyDrive/PF Google & Yelp/ru{i}.parquet')\n",
        "    dfb = dfb.filter((dfb['City'].str.contains(f'(?i)miami')) | (dfb['City'].str.contains(f'(?i)new york') | (dfb['City'].str.contains(f'(?i)orlando'))))\n",
        "    dfa.extend(dfb)"
      ],
      "metadata": {
        "id": "uWU4b8dP9pLG"
      },
      "execution_count": 33,
      "outputs": []
    },
    {
      "cell_type": "markdown",
      "source": [
        "### Guardamos el Dataset resultante en un archivo csv"
      ],
      "metadata": {
        "id": "2MJRwxUuDAie"
      }
    },
    {
      "cell_type": "code",
      "source": [
        "dfa.write_csv('/content/drive/MyDrive/PF Google & Yelp/hoteles.csv', separator=\",\")"
      ],
      "metadata": {
        "id": "yX5Xt7Lj_PD6"
      },
      "execution_count": 35,
      "outputs": []
    },
    {
      "cell_type": "code",
      "source": [],
      "metadata": {
        "id": "jPkvCyE8BiK6"
      },
      "execution_count": null,
      "outputs": []
    }
  ]
}