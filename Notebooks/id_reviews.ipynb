{
 "cells": [
  {
   "cell_type": "code",
   "execution_count": 1,
   "metadata": {},
   "outputs": [],
   "source": [
    "import pandas as pd"
   ]
  },
  {
   "cell_type": "code",
   "execution_count": 13,
   "metadata": {},
   "outputs": [],
   "source": [
    "df = pd.read_parquet('./reviews/reviews-data/all-reviews.parquet')"
   ]
  },
  {
   "cell_type": "code",
   "execution_count": 14,
   "metadata": {},
   "outputs": [],
   "source": [
    "df=df.sort_values(by='time', ascending=True)\n",
    "df=df.reset_index()\n",
    "df.rename(columns={'index':'trash'}, inplace=True)\n",
    "df=df.reset_index()\n",
    "df.rename(columns={'index':'review_id'}, inplace=True)\n",
    "df['review_id']=df['review_id']+100"
   ]
  },
  {
   "cell_type": "code",
   "execution_count": 15,
   "metadata": {},
   "outputs": [
    {
     "data": {
      "text/html": [
       "<div>\n",
       "<style scoped>\n",
       "    .dataframe tbody tr th:only-of-type {\n",
       "        vertical-align: middle;\n",
       "    }\n",
       "\n",
       "    .dataframe tbody tr th {\n",
       "        vertical-align: top;\n",
       "    }\n",
       "\n",
       "    .dataframe thead th {\n",
       "        text-align: right;\n",
       "    }\n",
       "</style>\n",
       "<table border=\"1\" class=\"dataframe\">\n",
       "  <thead>\n",
       "    <tr style=\"text-align: right;\">\n",
       "      <th></th>\n",
       "      <th>review_id</th>\n",
       "      <th>trash</th>\n",
       "      <th>user_id</th>\n",
       "      <th>name</th>\n",
       "      <th>time</th>\n",
       "      <th>rating</th>\n",
       "      <th>text</th>\n",
       "      <th>gmap_id</th>\n",
       "      <th>facilities</th>\n",
       "      <th>url</th>\n",
       "    </tr>\n",
       "  </thead>\n",
       "  <tbody>\n",
       "    <tr>\n",
       "      <th>0</th>\n",
       "      <td>100</td>\n",
       "      <td>81</td>\n",
       "      <td>107922157492998299626</td>\n",
       "      <td>Dra' Reaser-Robinson</td>\n",
       "      <td>1277663245500</td>\n",
       "      <td>4</td>\n",
       "      <td>I have stayed her for almost a month and I hav...</td>\n",
       "      <td>0x86d729003a6cd331:0xef19d7a71e9520d7</td>\n",
       "      <td>None</td>\n",
       "      <td>https://www.google.com/maps/place//data=!4m2!3...</td>\n",
       "    </tr>\n",
       "    <tr>\n",
       "      <th>1</th>\n",
       "      <td>101</td>\n",
       "      <td>955</td>\n",
       "      <td>106899231880097725201</td>\n",
       "      <td>Kacey Baybie</td>\n",
       "      <td>1316580364807</td>\n",
       "      <td>4</td>\n",
       "      <td>Great prices and great rooms. They say room se...</td>\n",
       "      <td>0x87c0f940de89821b:0xe7b3fa9b0efe0a8b</td>\n",
       "      <td>None</td>\n",
       "      <td>https://www.google.com/maps/place//data=!4m2!3...</td>\n",
       "    </tr>\n",
       "    <tr>\n",
       "      <th>2</th>\n",
       "      <td>102</td>\n",
       "      <td>10</td>\n",
       "      <td>102199958797999331620</td>\n",
       "      <td>Nuke Life</td>\n",
       "      <td>1335013619937</td>\n",
       "      <td>1</td>\n",
       "      <td>Indian owned just as good of service as you wo...</td>\n",
       "      <td>0x88628aff202327fb:0x64e96900cdb3b4c8</td>\n",
       "      <td>None</td>\n",
       "      <td>https://www.google.com/maps/place//data=!4m2!3...</td>\n",
       "    </tr>\n",
       "    <tr>\n",
       "      <th>3</th>\n",
       "      <td>103</td>\n",
       "      <td>1254</td>\n",
       "      <td>100881697742628421753</td>\n",
       "      <td>Dawlker Jeweltty</td>\n",
       "      <td>1336665222433</td>\n",
       "      <td>5</td>\n",
       "      <td>Everyone was very helpful and got us checked i...</td>\n",
       "      <td>0x89a9104915c2c515:0x59de636da81e5535</td>\n",
       "      <td>None</td>\n",
       "      <td>https://www.google.com/maps/place//data=!4m2!3...</td>\n",
       "    </tr>\n",
       "    <tr>\n",
       "      <th>4</th>\n",
       "      <td>104</td>\n",
       "      <td>1973</td>\n",
       "      <td>105221500881217294985</td>\n",
       "      <td>Ben Sullivan</td>\n",
       "      <td>1343016538699</td>\n",
       "      <td>3</td>\n",
       "      <td>While this isn't a very nice hotel, it's excel...</td>\n",
       "      <td>0x54905858d2f01955:0x3759e7a3f7894bb3</td>\n",
       "      <td>None</td>\n",
       "      <td>https://www.google.com/maps/place//data=!4m2!3...</td>\n",
       "    </tr>\n",
       "  </tbody>\n",
       "</table>\n",
       "</div>"
      ],
      "text/plain": [
       "   review_id  trash                user_id                  name  \\\n",
       "0        100     81  107922157492998299626  Dra' Reaser-Robinson   \n",
       "1        101    955  106899231880097725201          Kacey Baybie   \n",
       "2        102     10  102199958797999331620             Nuke Life   \n",
       "3        103   1254  100881697742628421753      Dawlker Jeweltty   \n",
       "4        104   1973  105221500881217294985          Ben Sullivan   \n",
       "\n",
       "            time  rating                                               text  \\\n",
       "0  1277663245500       4  I have stayed her for almost a month and I hav...   \n",
       "1  1316580364807       4  Great prices and great rooms. They say room se...   \n",
       "2  1335013619937       1  Indian owned just as good of service as you wo...   \n",
       "3  1336665222433       5  Everyone was very helpful and got us checked i...   \n",
       "4  1343016538699       3  While this isn't a very nice hotel, it's excel...   \n",
       "\n",
       "                                 gmap_id facilities  \\\n",
       "0  0x86d729003a6cd331:0xef19d7a71e9520d7       None   \n",
       "1  0x87c0f940de89821b:0xe7b3fa9b0efe0a8b       None   \n",
       "2  0x88628aff202327fb:0x64e96900cdb3b4c8       None   \n",
       "3  0x89a9104915c2c515:0x59de636da81e5535       None   \n",
       "4  0x54905858d2f01955:0x3759e7a3f7894bb3       None   \n",
       "\n",
       "                                                 url  \n",
       "0  https://www.google.com/maps/place//data=!4m2!3...  \n",
       "1  https://www.google.com/maps/place//data=!4m2!3...  \n",
       "2  https://www.google.com/maps/place//data=!4m2!3...  \n",
       "3  https://www.google.com/maps/place//data=!4m2!3...  \n",
       "4  https://www.google.com/maps/place//data=!4m2!3...  "
      ]
     },
     "execution_count": 15,
     "metadata": {},
     "output_type": "execute_result"
    }
   ],
   "source": [
    "df.head()"
   ]
  },
  {
   "cell_type": "code",
   "execution_count": 16,
   "metadata": {},
   "outputs": [],
   "source": [
    "df.to_parquet('./reviews/reviews-data/hotelesv3.parquet')"
   ]
  },
  {
   "cell_type": "code",
   "execution_count": null,
   "metadata": {},
   "outputs": [],
   "source": []
  }
 ],
 "metadata": {
  "kernelspec": {
   "display_name": "Python 3",
   "language": "python",
   "name": "python3"
  },
  "language_info": {
   "codemirror_mode": {
    "name": "ipython",
    "version": 3
   },
   "file_extension": ".py",
   "mimetype": "text/x-python",
   "name": "python",
   "nbconvert_exporter": "python",
   "pygments_lexer": "ipython3",
   "version": "3.11.8"
  }
 },
 "nbformat": 4,
 "nbformat_minor": 2
}
