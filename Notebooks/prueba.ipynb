{
 "cells": [
  {
   "cell_type": "code",
   "execution_count": 1,
   "metadata": {},
   "outputs": [],
   "source": [
    "import polars as pl\n",
    "import json"
   ]
  },
  {
   "cell_type": "code",
   "execution_count": 9,
   "metadata": {},
   "outputs": [],
   "source": [
    "with open('./raw-data/1.json', 'r') as f:\n",
    "    # Lee todo el contenido del archivo y lo guarda en una cadena\n",
    "    texto = f.read()"
   ]
  },
  {
   "cell_type": "code",
   "execution_count": 10,
   "metadata": {},
   "outputs": [],
   "source": [
    "lineas = texto.split('\\n')\n"
   ]
  },
  {
   "cell_type": "code",
   "execution_count": 11,
   "metadata": {},
   "outputs": [
    {
     "data": {
      "text/plain": [
       "'{\"name\": \"Porter Pharmacy\", \"address\": \"Porter Pharmacy, 129 N Second St, Cochran, GA 31014\", \"gmap_id\": \"0x88f16e41928ff687:0x883dad4fd048e8f8\", \"description\": null, \"latitude\": 32.3883, \"longitude\": -83.3571, \"category\": [\"Pharmacy\"], \"avg_rating\": 4.9, \"num_of_reviews\": 16, \"price\": null, \"hours\": [[\"Friday\", \"8AM\\\\u20136PM\"], [\"Saturday\", \"8AM\\\\u201312PM\"], [\"Sunday\", \"Closed\"], [\"Monday\", \"8AM\\\\u20136PM\"], [\"Tuesday\", \"8AM\\\\u20136PM\"], [\"Wednesday\", \"8AM\\\\u201312PM\"], [\"Thursday\", \"8AM\\\\u20136PM\"]], \"MISC\": {\"Service options\": [\"In-store shopping\", \"Same-day delivery\"], \"Health & safety\": [\"Mask required\", \"Staff required to disinfect surfaces between visits\"], \"Accessibility\": [\"Wheelchair accessible entrance\"], \"Planning\": [\"Quick visit\"]}, \"state\": \"Open \\\\u22c5 Closes 6PM\", \"relative_results\": [\"0x88f16e41929435cf:0x5b2532a2885e9ef6\", \"0x88f16c32716531c1:0x5f19bdaa5044e4fa\", \"0x88f16e6e3f4a21df:0xcf495da9bb4d89ea\"], \"url\": \"https://www.google.com/maps/place//data=!4m2!3m1!1s0x88f16e41928ff687:0x883dad4fd048e8f8?authuser=-1&hl=en&gl=us\"}'"
      ]
     },
     "execution_count": 11,
     "metadata": {},
     "output_type": "execute_result"
    }
   ],
   "source": [
    "lineas[0]"
   ]
  },
  {
   "cell_type": "code",
   "execution_count": 11,
   "metadata": {},
   "outputs": [],
   "source": [
    "names = []\n",
    "gmap_id  = []\n",
    "descrptions  = []\n",
    "latitudes  = []\n",
    "longitudes  = []\n",
    "categories  = []\n",
    "avg_ratings  = []\n",
    "num_of_reviews   = []\n",
    "prices = []\n",
    "MISCs  = []\n",
    "urls  = []\n",
    "for linea in lineas:\n",
    "    if linea.strip():  # Ignora líneas en blanco\n",
    "        objeto_json = json.loads(linea)\n",
    "        names.append(objeto_json['name'])\n",
    "        gmap_id.append(objeto_json['gmap_id'])\n",
    "        descrptions.append(objeto_json['description'])\n",
    "        latitudes.append(objeto_json['latitude'])\n",
    "        longitudes.append(objeto_json['longitude'])\n",
    "        if objeto_json['category']:\n",
    "            c=0\n",
    "            for categoria in objeto_json['category']:\n",
    "                if 'hotel' in categoria.lower():\n",
    "                    c+=1\n",
    "                    categories.append(objeto_json['category'])\n",
    "                    break\n",
    "            if c == 0:\n",
    "                categories.append(None)\n",
    "        else:\n",
    "            categories.append(None)\n",
    "        avg_ratings.append(objeto_json['avg_rating'])\n",
    "        num_of_reviews.append(objeto_json['num_of_reviews'])\n",
    "        servicios = []\n",
    "        if (objeto_json['MISC'] != 'null') and (objeto_json['MISC'] != 'None') and objeto_json['MISC']:    \n",
    "            for key,value in objeto_json['MISC'].items():\n",
    "                if (value != 'null') and (value != 'None') and value and key not in ['Health & safety', 'Planning']:\n",
    "                    servicios.extend(value)\n",
    "        else:\n",
    "            servicios = None\n",
    "        if servicios == []:\n",
    "            servicios = None\n",
    "        MISCs.append(servicios)\n",
    "        urls.append(objeto_json['url'])"
   ]
  },
  {
   "cell_type": "code",
   "execution_count": 12,
   "metadata": {},
   "outputs": [],
   "source": [
    "data = {\n",
    "    \"name\": names,\n",
    "    \"gmap_id\": gmap_id,\n",
    "    \"descrption\": descrptions,\n",
    "    \"latitude\": latitudes,\n",
    "    \"longitude\": longitudes,\n",
    "    \"category\": categories,\n",
    "    \"avg_rating\": avg_ratings,\n",
    "    \"num_of_reviews\": num_of_reviews,\n",
    "    \"facilities\": MISCs,\n",
    "    \"url\": urls\n",
    "}\n",
    "\n",
    "df = pl.DataFrame(data)"
   ]
  },
  {
   "cell_type": "code",
   "execution_count": 13,
   "metadata": {},
   "outputs": [
    {
     "data": {
      "text/html": [
       "<div><style>\n",
       ".dataframe > thead > tr,\n",
       ".dataframe > tbody > tr {\n",
       "  text-align: right;\n",
       "  white-space: pre-wrap;\n",
       "}\n",
       "</style>\n",
       "<small>shape: (275_001, 10)</small><table border=\"1\" class=\"dataframe\"><thead><tr><th>name</th><th>gmap_id</th><th>descrption</th><th>latitude</th><th>longitude</th><th>category</th><th>avg_rating</th><th>num_of_reviews</th><th>facilities</th><th>url</th></tr><tr><td>str</td><td>str</td><td>str</td><td>f64</td><td>f64</td><td>list[str]</td><td>f64</td><td>i64</td><td>list[str]</td><td>str</td></tr></thead><tbody><tr><td>&quot;Porter Pharmac…</td><td>&quot;0x88f16e41928f…</td><td>null</td><td>32.3883</td><td>-83.3571</td><td>null</td><td>4.9</td><td>16</td><td>[&quot;In-store shopping&quot;, &quot;Same-day delivery&quot;, &quot;Wheelchair accessible entrance&quot;]</td><td>&quot;https://www.go…</td></tr><tr><td>&quot;City Textile&quot;</td><td>&quot;0x80c2c98c0e3c…</td><td>null</td><td>34.018891</td><td>-118.21529</td><td>null</td><td>4.5</td><td>6</td><td>null</td><td>&quot;https://www.go…</td></tr><tr><td>&quot;San Soo Dang&quot;</td><td>&quot;0x80c2c778e3b7…</td><td>null</td><td>34.058092</td><td>-118.29213</td><td>null</td><td>4.4</td><td>18</td><td>[&quot;Takeout&quot;, &quot;Dine-in&quot;, … &quot;Casual&quot;]</td><td>&quot;https://www.go…</td></tr><tr><td>&quot;Nova Fabrics&quot;</td><td>&quot;0x80c2c89923b2…</td><td>null</td><td>34.023669</td><td>-118.23293</td><td>null</td><td>3.3</td><td>6</td><td>[&quot;In-store shopping&quot;, &quot;Checks&quot;, … &quot;Credit cards&quot;]</td><td>&quot;https://www.go…</td></tr><tr><td>&quot;Nobel Textile …</td><td>&quot;0x80c2c632f933…</td><td>null</td><td>34.036694</td><td>-118.249421</td><td>null</td><td>4.3</td><td>7</td><td>[&quot;In-store pickup&quot;]</td><td>&quot;https://www.go…</td></tr><tr><td>&quot;Matrix Interna…</td><td>&quot;0x80c2cf163db6…</td><td>null</td><td>34.015505</td><td>-118.181839</td><td>null</td><td>3.5</td><td>6</td><td>[&quot;Wheelchair accessible entrance&quot;]</td><td>&quot;https://www.go…</td></tr><tr><td>&quot;Vons Chicken&quot;</td><td>&quot;0x80dd2b4c8555…</td><td>null</td><td>33.916402</td><td>-118.010855</td><td>null</td><td>4.5</td><td>18</td><td>[&quot;Outdoor seating&quot;, &quot;Curbside pickup&quot;, … &quot;College students&quot;]</td><td>&quot;https://www.go…</td></tr><tr><td>&quot;Polished Nail …</td><td>&quot;0x87ec238afdd8…</td><td>null</td><td>41.614198</td><td>-93.847269</td><td>null</td><td>4.0</td><td>86</td><td>[&quot;Identifies as women-led&quot;, &quot;LGBTQ friendly&quot;, … &quot;Credit cards&quot;]</td><td>&quot;https://www.go…</td></tr><tr><td>&quot;Sweet Rewards …</td><td>&quot;0x87ec235c54d2…</td><td>null</td><td>41.616079</td><td>-93.865487</td><td>null</td><td>4.7</td><td>21</td><td>[&quot;Delivery&quot;]</td><td>&quot;https://www.go…</td></tr><tr><td>&quot;PeepNotes&quot;</td><td>&quot;0x87ee85ac3cb2…</td><td>null</td><td>41.846035</td><td>-93.756118</td><td>null</td><td>5.0</td><td>1</td><td>null</td><td>&quot;https://www.go…</td></tr><tr><td>&quot;Lush Family De…</td><td>&quot;0x87ec2394c2cd…</td><td>null</td><td>41.585292</td><td>-93.855113</td><td>null</td><td>5.0</td><td>178</td><td>[&quot;Wheelchair accessible entrance&quot;, &quot;Wheelchair accessible restroom&quot;]</td><td>&quot;https://www.go…</td></tr><tr><td>&quot;515 Auto Shade…</td><td>&quot;0x87ee95d1e474…</td><td>null</td><td>41.606082</td><td>-93.49863</td><td>null</td><td>5.0</td><td>28</td><td>[&quot;Wheelchair accessible entrance&quot;]</td><td>&quot;https://www.go…</td></tr><tr><td>&hellip;</td><td>&hellip;</td><td>&hellip;</td><td>&hellip;</td><td>&hellip;</td><td>&hellip;</td><td>&hellip;</td><td>&hellip;</td><td>&hellip;</td><td>&hellip;</td></tr><tr><td>&quot;World Hemp Wel…</td><td>&quot;0x87c0ef3af67c…</td><td>null</td><td>39.060888</td><td>-94.586297</td><td>null</td><td>5.0</td><td>15</td><td>[&quot;LGBTQ friendly&quot;, &quot;Wheelchair accessible entrance&quot;, … &quot;Credit cards&quot;]</td><td>&quot;https://www.go…</td></tr><tr><td>&quot;Smart W. Ellen…</td><td>&quot;0x8636392a5247…</td><td>null</td><td>32.510707</td><td>-94.797117</td><td>null</td><td>5.0</td><td>1</td><td>[&quot;Wheelchair accessible entrance&quot;]</td><td>&quot;https://www.go…</td></tr><tr><td>&quot;Southside Bank…</td><td>&quot;0x86363947374c…</td><td>null</td><td>32.517683</td><td>-94.792276</td><td>null</td><td>3.0</td><td>2</td><td>[&quot;Wheelchair accessible entrance&quot;]</td><td>&quot;https://www.go…</td></tr><tr><td>&quot;Smart Services…</td><td>&quot;0x86363968fb0b…</td><td>null</td><td>32.510707</td><td>-94.797117</td><td>null</td><td>5.0</td><td>1</td><td>[&quot;Wheelchair accessible entrance&quot;]</td><td>&quot;https://www.go…</td></tr><tr><td>&quot;St John Baptis…</td><td>&quot;0x87c0f139d34d…</td><td>null</td><td>39.135399</td><td>-94.621775</td><td>null</td><td>4.9</td><td>8</td><td>[&quot;Wheelchair accessible entrance&quot;]</td><td>&quot;https://www.go…</td></tr><tr><td>&quot;New South Serv…</td><td>&quot;0x88fe8cdc137d…</td><td>null</td><td>32.907678</td><td>-80.054322</td><td>null</td><td>5.0</td><td>18</td><td>null</td><td>&quot;https://www.go…</td></tr><tr><td>&quot;Stone Castle F…</td><td>&quot;0x88fef5fbbdde…</td><td>null</td><td>32.941695</td><td>-79.975377</td><td>null</td><td>4.4</td><td>38</td><td>null</td><td>&quot;https://www.go…</td></tr><tr><td>&quot;Maven Realty&quot;</td><td>&quot;0x88fe64e7dace…</td><td>null</td><td>32.857737</td><td>-79.985839</td><td>null</td><td>4.9</td><td>15</td><td>null</td><td>&quot;https://www.go…</td></tr><tr><td>&quot;Stone Castle F…</td><td>&quot;0x88fe59f4602c…</td><td>null</td><td>33.089951</td><td>-80.078021</td><td>null</td><td>4.0</td><td>18</td><td>null</td><td>&quot;https://www.go…</td></tr><tr><td>&quot;Health Insuran…</td><td>&quot;0x88fe71f9617c…</td><td>null</td><td>32.918858</td><td>-80.027952</td><td>null</td><td>5.0</td><td>18</td><td>[&quot;Online appointments&quot;, &quot;Wheelchair accessible entrance&quot;]</td><td>&quot;https://www.go…</td></tr><tr><td>&quot;Bernard Buildi…</td><td>&quot;0x4d34c7517d6e…</td><td>null</td><td>45.056691</td><td>-83.894423</td><td>null</td><td>4.7</td><td>25</td><td>[&quot;Curbside pickup&quot;, &quot;Delivery&quot;, … &quot;Credit cards&quot;]</td><td>&quot;https://www.go…</td></tr><tr><td>&quot;HMR Motor Work…</td><td>&quot;0x88208f4360c0…</td><td>null</td><td>44.649195</td><td>-84.130324</td><td>null</td><td>4.4</td><td>13</td><td>[&quot;Wheelchair accessible entrance&quot;, &quot;Oil change&quot;, … &quot;Restroom&quot;]</td><td>&quot;https://www.go…</td></tr></tbody></table></div>"
      ],
      "text/plain": [
       "shape: (275_001, 10)\n",
       "┌───────────┬───────────┬───────────┬───────────┬───┬───────────┬───────────┬───────────┬──────────┐\n",
       "│ name      ┆ gmap_id   ┆ descrptio ┆ latitude  ┆ … ┆ avg_ratin ┆ num_of_re ┆ facilitie ┆ url      │\n",
       "│ ---       ┆ ---       ┆ n         ┆ ---       ┆   ┆ g         ┆ views     ┆ s         ┆ ---      │\n",
       "│ str       ┆ str       ┆ ---       ┆ f64       ┆   ┆ ---       ┆ ---       ┆ ---       ┆ str      │\n",
       "│           ┆           ┆ str       ┆           ┆   ┆ f64       ┆ i64       ┆ list[str] ┆          │\n",
       "╞═══════════╪═══════════╪═══════════╪═══════════╪═══╪═══════════╪═══════════╪═══════════╪══════════╡\n",
       "│ Porter    ┆ 0x88f16e4 ┆ null      ┆ 32.3883   ┆ … ┆ 4.9       ┆ 16        ┆ [\"In-stor ┆ https:// │\n",
       "│ Pharmacy  ┆ 1928ff687 ┆           ┆           ┆   ┆           ┆           ┆ e shoppin ┆ www.goog │\n",
       "│           ┆ :0x883dad ┆           ┆           ┆   ┆           ┆           ┆ g\",       ┆ le.com/m │\n",
       "│           ┆ 4fd04…    ┆           ┆           ┆   ┆           ┆           ┆ \"Same-day ┆ aps/plac │\n",
       "│           ┆           ┆           ┆           ┆   ┆           ┆           ┆ …         ┆ …        │\n",
       "│ City      ┆ 0x80c2c98 ┆ null      ┆ 34.018891 ┆ … ┆ 4.5       ┆ 6         ┆ null      ┆ https:// │\n",
       "│ Textile   ┆ c0e3c16fd ┆           ┆           ┆   ┆           ┆           ┆           ┆ www.goog │\n",
       "│           ┆ :0x29ec8a ┆           ┆           ┆   ┆           ┆           ┆           ┆ le.com/m │\n",
       "│           ┆ 72876…    ┆           ┆           ┆   ┆           ┆           ┆           ┆ aps/plac │\n",
       "│           ┆           ┆           ┆           ┆   ┆           ┆           ┆           ┆ …        │\n",
       "│ San Soo   ┆ 0x80c2c77 ┆ null      ┆ 34.058092 ┆ … ┆ 4.4       ┆ 18        ┆ [\"Takeout ┆ https:// │\n",
       "│ Dang      ┆ 8e3b73d33 ┆           ┆           ┆   ┆           ┆           ┆ \", \"Dine- ┆ www.goog │\n",
       "│           ┆ :0xbdc586 ┆           ┆           ┆   ┆           ┆           ┆ in\", …    ┆ le.com/m │\n",
       "│           ┆ 62a4a…    ┆           ┆           ┆   ┆           ┆           ┆ \"Casual…  ┆ aps/plac │\n",
       "│           ┆           ┆           ┆           ┆   ┆           ┆           ┆           ┆ …        │\n",
       "│ Nova      ┆ 0x80c2c89 ┆ null      ┆ 34.023669 ┆ … ┆ 3.3       ┆ 6         ┆ [\"In-stor ┆ https:// │\n",
       "│ Fabrics   ┆ 923b27a41 ┆           ┆           ┆   ┆           ┆           ┆ e shoppin ┆ www.goog │\n",
       "│           ┆ :0x320415 ┆           ┆           ┆   ┆           ┆           ┆ g\",       ┆ le.com/m │\n",
       "│           ┆ 59418…    ┆           ┆           ┆   ┆           ┆           ┆ \"Checks\", ┆ aps/plac │\n",
       "│           ┆           ┆           ┆           ┆   ┆           ┆           ┆ …         ┆ …        │\n",
       "│ Nobel     ┆ 0x80c2c63 ┆ null      ┆ 34.036694 ┆ … ┆ 4.3       ┆ 7         ┆ [\"In-stor ┆ https:// │\n",
       "│ Textile   ┆ 2f933b073 ┆           ┆           ┆   ┆           ┆           ┆ e         ┆ www.goog │\n",
       "│ Co        ┆ :0xc31785 ┆           ┆           ┆   ┆           ┆           ┆ pickup\"]  ┆ le.com/m │\n",
       "│           ┆ 961fe…    ┆           ┆           ┆   ┆           ┆           ┆           ┆ aps/plac │\n",
       "│           ┆           ┆           ┆           ┆   ┆           ┆           ┆           ┆ …        │\n",
       "│ …         ┆ …         ┆ …         ┆ …         ┆ … ┆ …         ┆ …         ┆ …         ┆ …        │\n",
       "│ Maven     ┆ 0x88fe64e ┆ null      ┆ 32.857737 ┆ … ┆ 4.9       ┆ 15        ┆ null      ┆ https:// │\n",
       "│ Realty    ┆ 7daceaaab ┆           ┆           ┆   ┆           ┆           ┆           ┆ www.goog │\n",
       "│           ┆ :0x101c04 ┆           ┆           ┆   ┆           ┆           ┆           ┆ le.com/m │\n",
       "│           ┆ 6dcad…    ┆           ┆           ┆   ┆           ┆           ┆           ┆ aps/plac │\n",
       "│           ┆           ┆           ┆           ┆   ┆           ┆           ┆           ┆ …        │\n",
       "│ Stone     ┆ 0x88fe59f ┆ null      ┆ 33.089951 ┆ … ┆ 4.0       ┆ 18        ┆ null      ┆ https:// │\n",
       "│ Castle    ┆ 4602c95fd ┆           ┆           ┆   ┆           ┆           ┆           ┆ www.goog │\n",
       "│ Fence     ┆ :0x57e2b1 ┆           ┆           ┆   ┆           ┆           ┆           ┆ le.com/m │\n",
       "│           ┆ 904d9…    ┆           ┆           ┆   ┆           ┆           ┆           ┆ aps/plac │\n",
       "│           ┆           ┆           ┆           ┆   ┆           ┆           ┆           ┆ …        │\n",
       "│ Health    ┆ 0x88fe71f ┆ null      ┆ 32.918858 ┆ … ┆ 5.0       ┆ 18        ┆ [\"Online  ┆ https:// │\n",
       "│ Insurance ┆ 9617c15e1 ┆           ┆           ┆   ┆           ┆           ┆ appointme ┆ www.goog │\n",
       "│ Solutions ┆ :0x89518c ┆           ┆           ┆   ┆           ┆           ┆ nts\",     ┆ le.com/m │\n",
       "│ Team      ┆ 1d251…    ┆           ┆           ┆   ┆           ┆           ┆ \"Wheelch… ┆ aps/plac │\n",
       "│           ┆           ┆           ┆           ┆   ┆           ┆           ┆           ┆ …        │\n",
       "│ Bernard   ┆ 0x4d34c75 ┆ null      ┆ 45.056691 ┆ … ┆ 4.7       ┆ 25        ┆ [\"Curbsid ┆ https:// │\n",
       "│ Building  ┆ 17d6e6e29 ┆           ┆           ┆   ┆           ┆           ┆ e         ┆ www.goog │\n",
       "│ Center    ┆ :0x7fe553 ┆           ┆           ┆   ┆           ┆           ┆ pickup\",  ┆ le.com/m │\n",
       "│           ┆ ee2f0…    ┆           ┆           ┆   ┆           ┆           ┆ \"Delivery ┆ aps/plac │\n",
       "│           ┆           ┆           ┆           ┆   ┆           ┆           ┆ \", …      ┆ …        │\n",
       "│ HMR Motor ┆ 0x88208f4 ┆ null      ┆ 44.649195 ┆ … ┆ 4.4       ┆ 13        ┆ [\"Wheelch ┆ https:// │\n",
       "│ Works and ┆ 360c053ab ┆           ┆           ┆   ┆           ┆           ┆ air acces ┆ www.goog │\n",
       "│ Auto Care ┆ :0xe3d688 ┆           ┆           ┆   ┆           ┆           ┆ sible     ┆ le.com/m │\n",
       "│           ┆ 3f196…    ┆           ┆           ┆   ┆           ┆           ┆ entrance… ┆ aps/plac │\n",
       "│           ┆           ┆           ┆           ┆   ┆           ┆           ┆           ┆ …        │\n",
       "└───────────┴───────────┴───────────┴───────────┴───┴───────────┴───────────┴───────────┴──────────┘"
      ]
     },
     "execution_count": 13,
     "metadata": {},
     "output_type": "execute_result"
    }
   ],
   "source": [
    "df"
   ]
  },
  {
   "cell_type": "code",
   "execution_count": 14,
   "metadata": {},
   "outputs": [],
   "source": [
    "df1 = df.filter(~pl.col('category').is_null())"
   ]
  },
  {
   "cell_type": "code",
   "execution_count": 15,
   "metadata": {},
   "outputs": [
    {
     "data": {
      "text/html": [
       "<div><style>\n",
       ".dataframe > thead > tr,\n",
       ".dataframe > tbody > tr {\n",
       "  text-align: right;\n",
       "  white-space: pre-wrap;\n",
       "}\n",
       "</style>\n",
       "<small>shape: (738, 10)</small><table border=\"1\" class=\"dataframe\"><thead><tr><th>name</th><th>gmap_id</th><th>descrption</th><th>latitude</th><th>longitude</th><th>category</th><th>avg_rating</th><th>num_of_reviews</th><th>facilities</th><th>url</th></tr><tr><td>str</td><td>str</td><td>str</td><td>f64</td><td>f64</td><td>list[str]</td><td>f64</td><td>i64</td><td>list[str]</td><td>str</td></tr></thead><tbody><tr><td>&quot;Basecamp Guest…</td><td>&quot;0x54907fca2751…</td><td>null</td><td>47.471332</td><td>-121.686928</td><td>[&quot;Hotel&quot;]</td><td>5.0</td><td>8</td><td>null</td><td>&quot;https://www.go…</td></tr><tr><td>&quot;Sugar River Lo…</td><td>&quot;0x88062b28cb53…</td><td>null</td><td>42.619862</td><td>-89.37789</td><td>[&quot;Hotel&quot;]</td><td>4.7</td><td>8</td><td>null</td><td>&quot;https://www.go…</td></tr><tr><td>&quot;Meraki Lodge&quot;</td><td>&quot;0x549b9d4ad8f1…</td><td>null</td><td>47.887652</td><td>-120.120376</td><td>[&quot;Hotel&quot;, &quot;Group accommodation&quot;, … &quot;Motel&quot;]</td><td>4.9</td><td>15</td><td>null</td><td>&quot;https://www.go…</td></tr><tr><td>&quot;View House at …</td><td>&quot;0x549b9db4d736…</td><td>null</td><td>47.888291</td><td>-120.12412</td><td>[&quot;Hotel&quot;]</td><td>4.4</td><td>8</td><td>null</td><td>&quot;https://www.go…</td></tr><tr><td>&quot;Station Lakefr…</td><td>&quot;0x4d55cee0af10…</td><td>null</td><td>45.99872</td><td>-89.490867</td><td>[&quot;Resort hotel&quot;]</td><td>4.7</td><td>3</td><td>null</td><td>&quot;https://www.go…</td></tr><tr><td>&quot;Kings Island R…</td><td>&quot;0x8840f7fb0543…</td><td>&quot;No-frills hote…</td><td>39.355061</td><td>-84.264094</td><td>[&quot;Hotel&quot;, &quot;Conference center&quot;, &quot;Resort hotel&quot;]</td><td>2.8</td><td>28</td><td>null</td><td>&quot;https://www.go…</td></tr><tr><td>&quot;Garden City, S…</td><td>&quot;0x890040a32810…</td><td>null</td><td>33.592541</td><td>-79.009323</td><td>[&quot;Hotel&quot;]</td><td>3.0</td><td>2</td><td>null</td><td>&quot;https://www.go…</td></tr><tr><td>&quot;Garden City Ka…</td><td>&quot;0x8709f120d869…</td><td>null</td><td>38.050028</td><td>-100.847887</td><td>[&quot;Hotel&quot;]</td><td>4.3</td><td>8</td><td>null</td><td>&quot;https://www.go…</td></tr><tr><td>&quot;Howard Johnson…</td><td>&quot;0x88404e8cd7f7…</td><td>&quot;Unfussy hotel …</td><td>39.293253</td><td>-84.487513</td><td>[&quot;Hotel&quot;, &quot;Inn&quot;, … &quot;Motel&quot;]</td><td>1.8</td><td>18</td><td>null</td><td>&quot;https://www.go…</td></tr><tr><td>&quot;Ski Hill 36 by…</td><td>&quot;0x876af72c9048…</td><td>null</td><td>39.482306</td><td>-106.049677</td><td>[&quot;Hotel&quot;, &quot;Lodge&quot;, &quot;Vacation home rental agency&quot;]</td><td>5.0</td><td>1</td><td>null</td><td>&quot;https://www.go…</td></tr><tr><td>&quot;Kasa Charlotte…</td><td>&quot;0x8856a1dedb2e…</td><td>null</td><td>35.224397</td><td>-80.87188</td><td>[&quot;Hotel&quot;]</td><td>5.0</td><td>8</td><td>null</td><td>&quot;https://www.go…</td></tr><tr><td>&quot;Riverside Mote…</td><td>&quot;0x88e50593793b…</td><td>null</td><td>30.735819</td><td>-81.687483</td><td>[&quot;Hotel&quot;]</td><td>4.0</td><td>5</td><td>null</td><td>&quot;https://www.go…</td></tr><tr><td>&hellip;</td><td>&hellip;</td><td>&hellip;</td><td>&hellip;</td><td>&hellip;</td><td>&hellip;</td><td>&hellip;</td><td>&hellip;</td><td>&hellip;</td><td>&hellip;</td></tr><tr><td>&quot;Marriot&quot;</td><td>&quot;0x864c3dc79dbb…</td><td>null</td><td>33.074281</td><td>-96.822204</td><td>[&quot;Hotel&quot;]</td><td>4.6</td><td>8</td><td>null</td><td>&quot;https://www.go…</td></tr><tr><td>&quot;Hotels at Home…</td><td>&quot;0x89c301021166…</td><td>null</td><td>40.875554</td><td>-74.271826</td><td>[&quot;Hotel supply store&quot;, &quot;Warehouse&quot;]</td><td>2.6</td><td>18</td><td>[&quot;Wheelchair accessible entrance&quot;]</td><td>&quot;https://www.go…</td></tr><tr><td>&quot;Mammoth Lakes …</td><td>&quot;0x80960d082321…</td><td>null</td><td>37.635634</td><td>-118.981602</td><td>[&quot;Hotel&quot;]</td><td>4.6</td><td>8</td><td>null</td><td>&quot;https://www.go…</td></tr><tr><td>&quot;La Quinta Inn …</td><td>&quot;0x88626b78c2af…</td><td>&quot;Understated pr…</td><td>34.734244</td><td>-86.619052</td><td>[&quot;Hotel&quot;, &quot;Indoor lodging&quot;, &quot;Inn&quot;]</td><td>3.2</td><td>28</td><td>null</td><td>&quot;https://www.go…</td></tr><tr><td>&quot;Mystic View Ca…</td><td>&quot;0x534f38e25496…</td><td>null</td><td>45.393193</td><td>-109.590513</td><td>[&quot;Hotel&quot;]</td><td>4.9</td><td>8</td><td>null</td><td>&quot;https://www.go…</td></tr><tr><td>&quot;Magnolia Suite…</td><td>&quot;0x8629d3be46d2…</td><td>null</td><td>32.403016</td><td>-90.1465</td><td>[&quot;Hotel&quot;, &quot;Extended stay hotel&quot;, &quot;Motel&quot;]</td><td>4.0</td><td>6</td><td>null</td><td>&quot;https://www.go…</td></tr><tr><td>&quot;Kimp&#x27;s Kamp Re…</td><td>&quot;0x52c9b83cc876…</td><td>null</td><td>46.515093</td><td>-95.74215</td><td>[&quot;Cabin rental agency&quot;, &quot;Cottage&quot;, &quot;Resort hotel&quot;]</td><td>4.8</td><td>38</td><td>[&quot;Wheelchair accessible entrance&quot;]</td><td>&quot;https://www.go…</td></tr><tr><td>&quot;1200 South Oce…</td><td>&quot;0x890069b8ea81…</td><td>null</td><td>33.675458</td><td>-78.898831</td><td>[&quot;Hotel&quot;]</td><td>3.6</td><td>36</td><td>null</td><td>&quot;https://www.go…</td></tr><tr><td>&quot;Pezhekee Natio…</td><td>&quot;0x52ca65762021…</td><td>null</td><td>45.61426</td><td>-95.410095</td><td>[&quot;Golf course&quot;, &quot;Bar &amp; grill&quot;, … &quot;Volleyball court&quot;]</td><td>4.5</td><td>18</td><td>[&quot;Wheelchair accessible entrance&quot;]</td><td>&quot;https://www.go…</td></tr><tr><td>&quot;Hotel Inn&quot;</td><td>&quot;0x89c187f380b1…</td><td>&quot;Low-key lodgin…</td><td>40.163787</td><td>-74.051379</td><td>[&quot;Hotel&quot;, &quot;Motel&quot;]</td><td>2.2</td><td>28</td><td>null</td><td>&quot;https://www.go…</td></tr><tr><td>&quot;Econo Lodge In…</td><td>&quot;0x88f686ed58c3…</td><td>&quot;Budget propert…</td><td>33.558887</td><td>-83.474696</td><td>[&quot;Hotel&quot;, &quot;Lodge&quot;, &quot;Motel&quot;]</td><td>3.6</td><td>27</td><td>null</td><td>&quot;https://www.go…</td></tr><tr><td>&quot;Fox Manor&quot;</td><td>&quot;0x89c0ee668166…</td><td>null</td><td>39.353975</td><td>-74.444105</td><td>[&quot;Hotel&quot;]</td><td>1.9</td><td>14</td><td>null</td><td>&quot;https://www.go…</td></tr></tbody></table></div>"
      ],
      "text/plain": [
       "shape: (738, 10)\n",
       "┌───────────┬───────────┬───────────┬───────────┬───┬───────────┬───────────┬───────────┬──────────┐\n",
       "│ name      ┆ gmap_id   ┆ descrptio ┆ latitude  ┆ … ┆ avg_ratin ┆ num_of_re ┆ facilitie ┆ url      │\n",
       "│ ---       ┆ ---       ┆ n         ┆ ---       ┆   ┆ g         ┆ views     ┆ s         ┆ ---      │\n",
       "│ str       ┆ str       ┆ ---       ┆ f64       ┆   ┆ ---       ┆ ---       ┆ ---       ┆ str      │\n",
       "│           ┆           ┆ str       ┆           ┆   ┆ f64       ┆ i64       ┆ list[str] ┆          │\n",
       "╞═══════════╪═══════════╪═══════════╪═══════════╪═══╪═══════════╪═══════════╪═══════════╪══════════╡\n",
       "│ Basecamp  ┆ 0x54907fc ┆ null      ┆ 47.471332 ┆ … ┆ 5.0       ┆ 8         ┆ null      ┆ https:// │\n",
       "│ Guesthous ┆ a2751e187 ┆           ┆           ┆   ┆           ┆           ┆           ┆ www.goog │\n",
       "│ e         ┆ :0x3d6ae3 ┆           ┆           ┆   ┆           ┆           ┆           ┆ le.com/m │\n",
       "│           ┆ 1ac18…    ┆           ┆           ┆   ┆           ┆           ┆           ┆ aps/plac │\n",
       "│           ┆           ┆           ┆           ┆   ┆           ┆           ┆           ┆ …        │\n",
       "│ Sugar     ┆ 0x88062b2 ┆ null      ┆ 42.619862 ┆ … ┆ 4.7       ┆ 8         ┆ null      ┆ https:// │\n",
       "│ River     ┆ 8cb53ef6d ┆           ┆           ┆   ┆           ┆           ┆           ┆ www.goog │\n",
       "│ Loft      ┆ :0x94df72 ┆           ┆           ┆   ┆           ┆           ┆           ┆ le.com/m │\n",
       "│           ┆ 568fd…    ┆           ┆           ┆   ┆           ┆           ┆           ┆ aps/plac │\n",
       "│           ┆           ┆           ┆           ┆   ┆           ┆           ┆           ┆ …        │\n",
       "│ Meraki    ┆ 0x549b9d4 ┆ null      ┆ 47.887652 ┆ … ┆ 4.9       ┆ 15        ┆ null      ┆ https:// │\n",
       "│ Lodge     ┆ ad8f113d5 ┆           ┆           ┆   ┆           ┆           ┆           ┆ www.goog │\n",
       "│           ┆ :0x8258a1 ┆           ┆           ┆   ┆           ┆           ┆           ┆ le.com/m │\n",
       "│           ┆ 0cca8…    ┆           ┆           ┆   ┆           ┆           ┆           ┆ aps/plac │\n",
       "│           ┆           ┆           ┆           ┆   ┆           ┆           ┆           ┆ …        │\n",
       "│ View      ┆ 0x549b9db ┆ null      ┆ 47.888291 ┆ … ┆ 4.4       ┆ 8         ┆ null      ┆ https:// │\n",
       "│ House at  ┆ 4d73626a3 ┆           ┆           ┆   ┆           ┆           ┆           ┆ www.goog │\n",
       "│ Lake      ┆ :0x348e8f ┆           ┆           ┆   ┆           ┆           ┆           ┆ le.com/m │\n",
       "│ Chelan    ┆ 7106d…    ┆           ┆           ┆   ┆           ┆           ┆           ┆ aps/plac │\n",
       "│           ┆           ┆           ┆           ┆   ┆           ┆           ┆           ┆ …        │\n",
       "│ Station   ┆ 0x4d55cee ┆ null      ┆ 45.99872  ┆ … ┆ 4.7       ┆ 3         ┆ null      ┆ https:// │\n",
       "│ Lakefront ┆ 0af102c25 ┆           ┆           ┆   ┆           ┆           ┆           ┆ www.goog │\n",
       "│ Rental    ┆ :0x752b31 ┆           ┆           ┆   ┆           ┆           ┆           ┆ le.com/m │\n",
       "│ Home      ┆ 3677a…    ┆           ┆           ┆   ┆           ┆           ┆           ┆ aps/plac │\n",
       "│           ┆           ┆           ┆           ┆   ┆           ┆           ┆           ┆ …        │\n",
       "│ …         ┆ …         ┆ …         ┆ …         ┆ … ┆ …         ┆ …         ┆ …         ┆ …        │\n",
       "│ 1200      ┆ 0x890069b ┆ null      ┆ 33.675458 ┆ … ┆ 3.6       ┆ 36        ┆ null      ┆ https:// │\n",
       "│ South     ┆ 8ea819cb1 ┆           ┆           ┆   ┆           ┆           ┆           ┆ www.goog │\n",
       "│ Ocean     ┆ :0xd7a54f ┆           ┆           ┆   ┆           ┆           ┆           ┆ le.com/m │\n",
       "│ Blvd      ┆ 4a994…    ┆           ┆           ┆   ┆           ┆           ┆           ┆ aps/plac │\n",
       "│           ┆           ┆           ┆           ┆   ┆           ┆           ┆           ┆ …        │\n",
       "│ Pezhekee  ┆ 0x52ca657 ┆ null      ┆ 45.61426  ┆ … ┆ 4.5       ┆ 18        ┆ [\"Wheelch ┆ https:// │\n",
       "│ National  ┆ 620217cbd ┆           ┆           ┆   ┆           ┆           ┆ air acces ┆ www.goog │\n",
       "│ Golf      ┆ :0x34248c ┆           ┆           ┆   ┆           ┆           ┆ sible     ┆ le.com/m │\n",
       "│ Course    ┆ 4fd46…    ┆           ┆           ┆   ┆           ┆           ┆ entrance… ┆ aps/plac │\n",
       "│           ┆           ┆           ┆           ┆   ┆           ┆           ┆           ┆ …        │\n",
       "│ Hotel Inn ┆ 0x89c187f ┆ Low-key   ┆ 40.163787 ┆ … ┆ 2.2       ┆ 28        ┆ null      ┆ https:// │\n",
       "│           ┆ 380b12d37 ┆ lodging   ┆           ┆   ┆           ┆           ┆           ┆ www.goog │\n",
       "│           ┆ :0x4e23f8 ┆ offering  ┆           ┆   ┆           ┆           ┆           ┆ le.com/m │\n",
       "│           ┆ e4a41…    ┆ freebie…  ┆           ┆   ┆           ┆           ┆           ┆ aps/plac │\n",
       "│           ┆           ┆           ┆           ┆   ┆           ┆           ┆           ┆ …        │\n",
       "│ Econo     ┆ 0x88f686e ┆ Budget    ┆ 33.558887 ┆ … ┆ 3.6       ┆ 27        ┆ null      ┆ https:// │\n",
       "│ Lodge Inn ┆ d58c301ff ┆ property  ┆           ┆   ┆           ┆           ┆           ┆ www.goog │\n",
       "│ & Suites  ┆ :0x7cd885 ┆ providing ┆           ┆   ┆           ┆           ┆           ┆ le.com/m │\n",
       "│           ┆ 89654…    ┆ low-ke…   ┆           ┆   ┆           ┆           ┆           ┆ aps/plac │\n",
       "│           ┆           ┆           ┆           ┆   ┆           ┆           ┆           ┆ …        │\n",
       "│ Fox Manor ┆ 0x89c0ee6 ┆ null      ┆ 39.353975 ┆ … ┆ 1.9       ┆ 14        ┆ null      ┆ https:// │\n",
       "│           ┆ 6816695c3 ┆           ┆           ┆   ┆           ┆           ┆           ┆ www.goog │\n",
       "│           ┆ :0x7c3a07 ┆           ┆           ┆   ┆           ┆           ┆           ┆ le.com/m │\n",
       "│           ┆ cdaf2…    ┆           ┆           ┆   ┆           ┆           ┆           ┆ aps/plac │\n",
       "│           ┆           ┆           ┆           ┆   ┆           ┆           ┆           ┆ …        │\n",
       "└───────────┴───────────┴───────────┴───────────┴───┴───────────┴───────────┴───────────┴──────────┘"
      ]
     },
     "execution_count": 15,
     "metadata": {},
     "output_type": "execute_result"
    }
   ],
   "source": [
    "df1"
   ]
  },
  {
   "cell_type": "code",
   "execution_count": 16,
   "metadata": {},
   "outputs": [
    {
     "data": {
      "text/html": [
       "<div><style>\n",
       ".dataframe > thead > tr,\n",
       ".dataframe > tbody > tr {\n",
       "  text-align: right;\n",
       "  white-space: pre-wrap;\n",
       "}\n",
       "</style>\n",
       "<small>shape: (1, 10)</small><table border=\"1\" class=\"dataframe\"><thead><tr><th>name</th><th>gmap_id</th><th>descrption</th><th>latitude</th><th>longitude</th><th>category</th><th>avg_rating</th><th>num_of_reviews</th><th>facilities</th><th>url</th></tr><tr><td>u32</td><td>u32</td><td>u32</td><td>u32</td><td>u32</td><td>u32</td><td>u32</td><td>u32</td><td>u32</td><td>u32</td></tr></thead><tbody><tr><td>0</td><td>0</td><td>625</td><td>0</td><td>0</td><td>0</td><td>0</td><td>0</td><td>706</td><td>0</td></tr></tbody></table></div>"
      ],
      "text/plain": [
       "shape: (1, 10)\n",
       "┌──────┬─────────┬────────────┬──────────┬───┬────────────┬────────────────┬────────────┬─────┐\n",
       "│ name ┆ gmap_id ┆ descrption ┆ latitude ┆ … ┆ avg_rating ┆ num_of_reviews ┆ facilities ┆ url │\n",
       "│ ---  ┆ ---     ┆ ---        ┆ ---      ┆   ┆ ---        ┆ ---            ┆ ---        ┆ --- │\n",
       "│ u32  ┆ u32     ┆ u32        ┆ u32      ┆   ┆ u32        ┆ u32            ┆ u32        ┆ u32 │\n",
       "╞══════╪═════════╪════════════╪══════════╪═══╪════════════╪════════════════╪════════════╪═════╡\n",
       "│ 0    ┆ 0       ┆ 625        ┆ 0        ┆ … ┆ 0          ┆ 0              ┆ 706        ┆ 0   │\n",
       "└──────┴─────────┴────────────┴──────────┴───┴────────────┴────────────────┴────────────┴─────┘"
      ]
     },
     "execution_count": 16,
     "metadata": {},
     "output_type": "execute_result"
    }
   ],
   "source": [
    "df1.null_count()"
   ]
  },
  {
   "cell_type": "code",
   "execution_count": 8,
   "metadata": {},
   "outputs": [
    {
     "data": {
      "text/plain": [
       "(0, 10)"
      ]
     },
     "execution_count": 8,
     "metadata": {},
     "output_type": "execute_result"
    }
   ],
   "source": [
    "df1.shape"
   ]
  },
  {
   "cell_type": "code",
   "execution_count": 17,
   "metadata": {},
   "outputs": [],
   "source": [
    "df1=df1.unique(subset=['gmap_id'], keep='first')"
   ]
  },
  {
   "cell_type": "code",
   "execution_count": 7,
   "metadata": {},
   "outputs": [
    {
     "data": {
      "text/plain": [
       "(0, 10)"
      ]
     },
     "execution_count": 7,
     "metadata": {},
     "output_type": "execute_result"
    }
   ],
   "source": [
    "df1.shape"
   ]
  },
  {
   "cell_type": "code",
   "execution_count": 18,
   "metadata": {},
   "outputs": [
    {
     "data": {
      "text/html": [
       "<div><style>\n",
       ".dataframe > thead > tr,\n",
       ".dataframe > tbody > tr {\n",
       "  text-align: right;\n",
       "  white-space: pre-wrap;\n",
       "}\n",
       "</style>\n",
       "<small>shape: (1, 10)</small><table border=\"1\" class=\"dataframe\"><thead><tr><th>name</th><th>gmap_id</th><th>descrption</th><th>latitude</th><th>longitude</th><th>category</th><th>avg_rating</th><th>num_of_reviews</th><th>facilities</th><th>url</th></tr><tr><td>u32</td><td>u32</td><td>u32</td><td>u32</td><td>u32</td><td>u32</td><td>u32</td><td>u32</td><td>u32</td><td>u32</td></tr></thead><tbody><tr><td>0</td><td>0</td><td>568</td><td>0</td><td>0</td><td>0</td><td>0</td><td>0</td><td>644</td><td>0</td></tr></tbody></table></div>"
      ],
      "text/plain": [
       "shape: (1, 10)\n",
       "┌──────┬─────────┬────────────┬──────────┬───┬────────────┬────────────────┬────────────┬─────┐\n",
       "│ name ┆ gmap_id ┆ descrption ┆ latitude ┆ … ┆ avg_rating ┆ num_of_reviews ┆ facilities ┆ url │\n",
       "│ ---  ┆ ---     ┆ ---        ┆ ---      ┆   ┆ ---        ┆ ---            ┆ ---        ┆ --- │\n",
       "│ u32  ┆ u32     ┆ u32        ┆ u32      ┆   ┆ u32        ┆ u32            ┆ u32        ┆ u32 │\n",
       "╞══════╪═════════╪════════════╪══════════╪═══╪════════════╪════════════════╪════════════╪═════╡\n",
       "│ 0    ┆ 0       ┆ 568        ┆ 0        ┆ … ┆ 0          ┆ 0              ┆ 644        ┆ 0   │\n",
       "└──────┴─────────┴────────────┴──────────┴───┴────────────┴────────────────┴────────────┴─────┘"
      ]
     },
     "execution_count": 18,
     "metadata": {},
     "output_type": "execute_result"
    }
   ],
   "source": [
    "df1.null_count()"
   ]
  },
  {
   "cell_type": "code",
   "execution_count": 19,
   "metadata": {},
   "outputs": [],
   "source": [
    "df1.write_parquet('./clean-data/x.parquet')"
   ]
  },
  {
   "cell_type": "code",
   "execution_count": 99,
   "metadata": {},
   "outputs": [
    {
     "data": {
      "text/html": [
       "<div><style>\n",
       ".dataframe > thead > tr,\n",
       ".dataframe > tbody > tr {\n",
       "  text-align: right;\n",
       "  white-space: pre-wrap;\n",
       "}\n",
       "</style>\n",
       "<small>shape: (31, 10)</small><table border=\"1\" class=\"dataframe\"><thead><tr><th>name</th><th>gmap_id</th><th>descrption</th><th>latitude</th><th>longitude</th><th>category</th><th>avg_rating</th><th>num_of_reviews</th><th>facilities</th><th>url</th></tr><tr><td>str</td><td>str</td><td>str</td><td>f64</td><td>f64</td><td>list[str]</td><td>f64</td><td>i64</td><td>list[str]</td><td>str</td></tr></thead><tbody><tr><td>&quot;Friendship Isl…</td><td>&quot;0x8800ba5679c8…</td><td>null</td><td>43.976601</td><td>-89.812065</td><td>[&quot;Cottage rental&quot;, &quot;Boat rental service&quot;, … &quot;Swimming lake&quot;]</td><td>4.9</td><td>38</td><td>[&quot;Wheelchair accessible entrance&quot;]</td><td>&quot;https://www.go…</td></tr><tr><td>&quot;Deer Acres&quot;</td><td>&quot;0x87ca54e82f3e…</td><td>null</td><td>35.194869</td><td>-94.424416</td><td>[&quot;Zoo&quot;, &quot;Resort hotel&quot;]</td><td>5.0</td><td>8</td><td>[&quot;Good for kids&quot;]</td><td>&quot;https://www.go…</td></tr><tr><td>&quot;Reynolds Lake …</td><td>&quot;0x88f6f2d3d3ce…</td><td>null</td><td>33.470406</td><td>-83.245727</td><td>[&quot;Golf course&quot;, &quot;Resort hotel&quot;]</td><td>5.0</td><td>5</td><td>[&quot;Wheelchair accessible entrance&quot;]</td><td>&quot;https://www.go…</td></tr><tr><td>&quot;Papakea Resort…</td><td>&quot;0x79552bbbf2c0…</td><td>null</td><td>20.950901</td><td>-156.688559</td><td>[&quot;Vacation home rental agency&quot;, &quot;Resort hotel&quot;, &quot;Tourist attraction&quot;]</td><td>3.9</td><td>8</td><td>[&quot;Onsite services&quot;, &quot;Online appointments&quot;]</td><td>&quot;https://www.go…</td></tr><tr><td>&quot;AC Art &amp; Mirro…</td><td>&quot;0x89c2f7975db5…</td><td>null</td><td>40.82794</td><td>-74.011248</td><td>[&quot;Picture frame shop&quot;, &quot;Glass &amp; mirror shop&quot;, … &quot;Print shop&quot;]</td><td>5.0</td><td>1</td><td>[&quot;In-store shopping&quot;]</td><td>&quot;https://www.go…</td></tr><tr><td>&quot;Chauncy&#x27;s&quot;</td><td>&quot;0x89fb30e4da73…</td><td>null</td><td>41.653414</td><td>-70.280301</td><td>[&quot;Bar &amp; grill&quot;, &quot;American restaurant&quot;, … &quot;Hotel&quot;]</td><td>4.5</td><td>8</td><td>[&quot;Takeout&quot;, &quot;Dine-in&quot;, … &quot;Tourists&quot;]</td><td>&quot;https://www.go…</td></tr><tr><td>&quot;North Myrtle B…</td><td>&quot;0x890062d577d1…</td><td>null</td><td>33.807929</td><td>-78.701414</td><td>[&quot;Condominium rental agency&quot;, &quot;Golf course&quot;, &quot;Resort hotel&quot;]</td><td>4.8</td><td>8</td><td>[&quot;Wheelchair accessible entrance&quot;]</td><td>&quot;https://www.go…</td></tr><tr><td>&quot;Oceanfront Res…</td><td>&quot;0x8833b69c357a…</td><td>null</td><td>30.25532</td><td>-85.958831</td><td>[&quot;Condominium rental agency&quot;, &quot;Hotel&quot;, … &quot;Vacation home rental agency&quot;]</td><td>4.5</td><td>16</td><td>[&quot;Wheelchair accessible entrance&quot;]</td><td>&quot;https://www.go…</td></tr><tr><td>&quot;The Home Depot…</td><td>&quot;0x88690b88db53…</td><td>&quot;Chain home imp…</td><td>38.183396</td><td>-85.680111</td><td>[&quot;Wholesaler&quot;, &quot;Cleaning products supplier&quot;, … &quot;Plumbing supply store&quot;]</td><td>2.7</td><td>7</td><td>[&quot;Wheelchair accessible entrance&quot;]</td><td>&quot;https://www.go…</td></tr><tr><td>&quot;The Home Depot…</td><td>&quot;0x886215bb38aa…</td><td>null</td><td>34.784126</td><td>-86.529032</td><td>[&quot;Wholesaler&quot;, &quot;Cleaning products supplier&quot;, … &quot;Plumbing supply store&quot;]</td><td>5.0</td><td>1</td><td>[&quot;Wheelchair accessible entrance&quot;]</td><td>&quot;https://www.go…</td></tr><tr><td>&quot;DRUNK&#x27;N MONKEY…</td><td>&quot;0x52ad26ce671f…</td><td>null</td><td>45.20422</td><td>-91.897358</td><td>[&quot;Bar&quot;, &quot;Hotel&quot;, &quot;Lodging&quot;]</td><td>4.3</td><td>78</td><td>[&quot;Identifies as women-led&quot;, &quot;Outdoor seating&quot;, … &quot;Credit cards&quot;]</td><td>&quot;https://www.go…</td></tr><tr><td>&quot;Resort Lodging…</td><td>&quot;0x874269315488…</td><td>null</td><td>40.459628</td><td>-106.803861</td><td>[&quot;Vacation home rental agency&quot;, &quot;Condominium rental agency&quot;, … &quot;Resort hotel&quot;]</td><td>5.0</td><td>6</td><td>[&quot;Wheelchair accessible entrance&quot;]</td><td>&quot;https://www.go…</td></tr><tr><td>&hellip;</td><td>&hellip;</td><td>&hellip;</td><td>&hellip;</td><td>&hellip;</td><td>&hellip;</td><td>&hellip;</td><td>&hellip;</td><td>&hellip;</td><td>&hellip;</td></tr><tr><td>&quot;Weddings at Em…</td><td>&quot;0x87f62f1f6a05…</td><td>null</td><td>44.860344</td><td>-93.221989</td><td>[&quot;Wedding venue&quot;, &quot;Bar&quot;, … &quot;Wedding service&quot;]</td><td>3.9</td><td>7</td><td>[&quot;LGBTQ friendly&quot;, &quot;Wheelchair accessible entrance&quot;, &quot;Wheelchair accessible parking lot&quot;]</td><td>&quot;https://www.go…</td></tr><tr><td>&quot;Mallard Creek …</td><td>&quot;0x54c07b3ada29…</td><td>null</td><td>44.518936</td><td>-122.796448</td><td>[&quot;Golf course&quot;, &quot;Golf driving range&quot;, … &quot;Wedding venue&quot;]</td><td>4.7</td><td>28</td><td>[&quot;Wheelchair accessible entrance&quot;]</td><td>&quot;https://www.go…</td></tr><tr><td>&quot;Sunny Fort Mye…</td><td>&quot;0x88db3f000732…</td><td>null</td><td>26.544082</td><td>-81.914502</td><td>[&quot;Condominium rental agency&quot;, &quot;Golf course&quot;, … &quot;Vacation home rental agency&quot;]</td><td>3.6</td><td>7</td><td>[&quot;Wheelchair accessible entrance&quot;]</td><td>&quot;https://www.go…</td></tr><tr><td>&quot;Pezhekee Natio…</td><td>&quot;0x52ca65762021…</td><td>null</td><td>45.61426</td><td>-95.410095</td><td>[&quot;Golf course&quot;, &quot;Bar &amp; grill&quot;, … &quot;Volleyball court&quot;]</td><td>4.5</td><td>18</td><td>[&quot;Wheelchair accessible entrance&quot;]</td><td>&quot;https://www.go…</td></tr><tr><td>&quot;Boise Vacation…</td><td>&quot;0x54aef8e45091…</td><td>null</td><td>43.616378</td><td>-116.205451</td><td>[&quot;Vacation home rental agency&quot;, &quot;Hotel&quot;, … &quot;Self-catering accommodation&quot;]</td><td>4.1</td><td>8</td><td>[&quot;Wheelchair accessible entrance&quot;]</td><td>&quot;https://www.go…</td></tr><tr><td>&quot;Cartier Beauty…</td><td>&quot;0x89e80e49a4b5…</td><td>null</td><td>41.176731</td><td>-73.221603</td><td>[&quot;Spa&quot;, &quot;Day spa&quot;, … &quot;Waxing hair removal service&quot;]</td><td>4.0</td><td>15</td><td>[&quot;Wheelchair accessible entrance&quot;]</td><td>&quot;https://www.go…</td></tr><tr><td>&quot;Mountain Plaza…</td><td>&quot;0x876a5ffefa4b…</td><td>null</td><td>39.500682</td><td>-106.154919</td><td>[&quot;Ski resort&quot;, &quot;Hotel&quot;]</td><td>4.7</td><td>8</td><td>[&quot;Wheelchair accessible entrance&quot;, &quot;Good for kids&quot;]</td><td>&quot;https://www.go…</td></tr><tr><td>&quot;New Nautilus H…</td><td>&quot;0x89c26f45eee3…</td><td>&quot;Oceanfront ret…</td><td>40.58701</td><td>-73.735144</td><td>[&quot;Retirement community&quot;, &quot;Extended stay hotel&quot;, &quot;Retirement home&quot;]</td><td>4.0</td><td>34</td><td>[&quot;Wheelchair accessible entrance&quot;]</td><td>&quot;https://www.go…</td></tr><tr><td>&quot;Misdemeanor&quot;</td><td>&quot;0x89c25a4dd5dc…</td><td>&quot;Hotel venue of…</td><td>40.688912</td><td>-73.988772</td><td>[&quot;Bar&quot;, &quot;Hotel&quot;, &quot;Restaurant&quot;]</td><td>2.7</td><td>8</td><td>[&quot;Dine-in&quot;, &quot;Delivery&quot;, … &quot;Groups&quot;]</td><td>&quot;https://www.go…</td></tr><tr><td>&quot;Hands Therapeu…</td><td>&quot;0x88184d4007a6…</td><td>null</td><td>42.88296</td><td>-85.612447</td><td>[&quot;Spa&quot;, &quot;Day spa&quot;, … &quot;Resort hotel&quot;]</td><td>4.1</td><td>47</td><td>[&quot;Wheelchair accessible entrance&quot;, &quot;Wheelchair accessible restroom&quot;, … &quot;Restroom&quot;]</td><td>&quot;https://www.go…</td></tr><tr><td>&quot;Island Suites,…</td><td>&quot;0x88c2c4c6ccdd…</td><td>null</td><td>27.922815</td><td>-82.45002</td><td>[&quot;Furnished apartment building&quot;, &quot;Bed &amp; breakfast&quot;, … &quot;Vacation home rental agency&quot;]</td><td>5.0</td><td>45</td><td>[&quot;Wheelchair accessible entrance&quot;]</td><td>&quot;https://www.go…</td></tr><tr><td>&quot;Stanford Sierr…</td><td>&quot;0x809988d6e406…</td><td>null</td><td>38.883685</td><td>-120.072793</td><td>[&quot;Conference center&quot;, &quot;Business center&quot;, … &quot;Retreat center&quot;]</td><td>4.8</td><td>18</td><td>[&quot;Wheelchair accessible entrance&quot;]</td><td>&quot;https://www.go…</td></tr></tbody></table></div>"
      ],
      "text/plain": [
       "shape: (31, 10)\n",
       "┌───────────┬───────────┬───────────┬───────────┬───┬───────────┬───────────┬───────────┬──────────┐\n",
       "│ name      ┆ gmap_id   ┆ descrptio ┆ latitude  ┆ … ┆ avg_ratin ┆ num_of_re ┆ facilitie ┆ url      │\n",
       "│ ---       ┆ ---       ┆ n         ┆ ---       ┆   ┆ g         ┆ views     ┆ s         ┆ ---      │\n",
       "│ str       ┆ str       ┆ ---       ┆ f64       ┆   ┆ ---       ┆ ---       ┆ ---       ┆ str      │\n",
       "│           ┆           ┆ str       ┆           ┆   ┆ f64       ┆ i64       ┆ list[str] ┆          │\n",
       "╞═══════════╪═══════════╪═══════════╪═══════════╪═══╪═══════════╪═══════════╪═══════════╪══════════╡\n",
       "│ Friendshi ┆ 0x8800ba5 ┆ null      ┆ 43.976601 ┆ … ┆ 4.9       ┆ 38        ┆ [\"Wheelch ┆ https:// │\n",
       "│ p Island  ┆ 679c836e9 ┆           ┆           ┆   ┆           ┆           ┆ air acces ┆ www.goog │\n",
       "│ Resort,   ┆ :0x113000 ┆           ┆           ┆   ┆           ┆           ┆ sible     ┆ le.com/m │\n",
       "│ LLC - …   ┆ e5d6f…    ┆           ┆           ┆   ┆           ┆           ┆ entrance… ┆ aps/plac │\n",
       "│           ┆           ┆           ┆           ┆   ┆           ┆           ┆           ┆ …        │\n",
       "│ Deer      ┆ 0x87ca54e ┆ null      ┆ 35.194869 ┆ … ┆ 5.0       ┆ 8         ┆ [\"Good    ┆ https:// │\n",
       "│ Acres     ┆ 82f3e3327 ┆           ┆           ┆   ┆           ┆           ┆ for       ┆ www.goog │\n",
       "│           ┆ :0x925a48 ┆           ┆           ┆   ┆           ┆           ┆ kids\"]    ┆ le.com/m │\n",
       "│           ┆ a1cbf…    ┆           ┆           ┆   ┆           ┆           ┆           ┆ aps/plac │\n",
       "│           ┆           ┆           ┆           ┆   ┆           ┆           ┆           ┆ …        │\n",
       "│ Reynolds  ┆ 0x88f6f2d ┆ null      ┆ 33.470406 ┆ … ┆ 5.0       ┆ 5         ┆ [\"Wheelch ┆ https:// │\n",
       "│ Lake      ┆ 3d3ce9ba9 ┆           ┆           ┆   ┆           ┆           ┆ air acces ┆ www.goog │\n",
       "│ Visitor   ┆ :0xe44f77 ┆           ┆           ┆   ┆           ┆           ┆ sible     ┆ le.com/m │\n",
       "│ Center    ┆ 9dd90…    ┆           ┆           ┆   ┆           ┆           ┆ entrance… ┆ aps/plac │\n",
       "│           ┆           ┆           ┆           ┆   ┆           ┆           ┆           ┆ …        │\n",
       "│ Papakea   ┆ 0x79552bb ┆ null      ┆ 20.950901 ┆ … ┆ 3.9       ┆ 8         ┆ [\"Onsite  ┆ https:// │\n",
       "│ Resort    ┆ bf2c0e42d ┆           ┆           ┆   ┆           ┆           ┆ services\" ┆ www.goog │\n",
       "│ Condos    ┆ :0x97b931 ┆           ┆           ┆   ┆           ┆           ┆ , \"Online ┆ le.com/m │\n",
       "│ through   ┆ 227dd…    ┆           ┆           ┆   ┆           ┆           ┆ appo…     ┆ aps/plac │\n",
       "│ Ma…       ┆           ┆           ┆           ┆   ┆           ┆           ┆           ┆ …        │\n",
       "│ AC Art &  ┆ 0x89c2f79 ┆ null      ┆ 40.82794  ┆ … ┆ 5.0       ┆ 1         ┆ [\"In-stor ┆ https:// │\n",
       "│ Mirrors   ┆ 75db54f5d ┆           ┆           ┆   ┆           ┆           ┆ e shoppin ┆ www.goog │\n",
       "│           ┆ :0x19b05a ┆           ┆           ┆   ┆           ┆           ┆ g\"]       ┆ le.com/m │\n",
       "│           ┆ beaf8…    ┆           ┆           ┆   ┆           ┆           ┆           ┆ aps/plac │\n",
       "│           ┆           ┆           ┆           ┆   ┆           ┆           ┆           ┆ …        │\n",
       "│ …         ┆ …         ┆ …         ┆ …         ┆ … ┆ …         ┆ …         ┆ …         ┆ …        │\n",
       "│ New       ┆ 0x89c26f4 ┆ Oceanfron ┆ 40.58701  ┆ … ┆ 4.0       ┆ 34        ┆ [\"Wheelch ┆ https:// │\n",
       "│ Nautilus  ┆ 5eee3cd61 ┆ t         ┆           ┆   ┆           ┆           ┆ air acces ┆ www.goog │\n",
       "│ Hotel     ┆ :0x266203 ┆ retreat,  ┆           ┆   ┆           ┆           ┆ sible     ┆ le.com/m │\n",
       "│           ┆ 9bdad…    ┆ catering  ┆           ┆   ┆           ┆           ┆ entrance… ┆ aps/plac │\n",
       "│           ┆           ┆ to …      ┆           ┆   ┆           ┆           ┆           ┆ …        │\n",
       "│ Misdemean ┆ 0x89c25a4 ┆ Hotel     ┆ 40.688912 ┆ … ┆ 2.7       ┆ 8         ┆ [\"Dine-in ┆ https:// │\n",
       "│ or        ┆ dd5dcebe9 ┆ venue     ┆           ┆   ┆           ┆           ┆ \", \"Deliv ┆ www.goog │\n",
       "│           ┆ :0xdc469c ┆ offering  ┆           ┆   ┆           ┆           ┆ ery\", …   ┆ le.com/m │\n",
       "│           ┆ 4188d…    ┆ seasonal  ┆           ┆   ┆           ┆           ┆ \"Group…   ┆ aps/plac │\n",
       "│           ┆           ┆ co…       ┆           ┆   ┆           ┆           ┆           ┆ …        │\n",
       "│ Hands The ┆ 0x88184d4 ┆ null      ┆ 42.88296  ┆ … ┆ 4.1       ┆ 47        ┆ [\"Wheelch ┆ https:// │\n",
       "│ rapeutic  ┆ 007a6922b ┆           ┆           ┆   ┆           ┆           ┆ air acces ┆ www.goog │\n",
       "│ Massage   ┆ :0xea4d7b ┆           ┆           ┆   ┆           ┆           ┆ sible     ┆ le.com/m │\n",
       "│           ┆ dd4f3…    ┆           ┆           ┆   ┆           ┆           ┆ entrance… ┆ aps/plac │\n",
       "│           ┆           ┆           ┆           ┆   ┆           ┆           ┆           ┆ …        │\n",
       "│ Island    ┆ 0x88c2c4c ┆ null      ┆ 27.922815 ┆ … ┆ 5.0       ┆ 45        ┆ [\"Wheelch ┆ https:// │\n",
       "│ Suites,   ┆ 6ccdd15b3 ┆           ┆           ┆   ┆           ┆           ┆ air acces ┆ www.goog │\n",
       "│ LLC       ┆ :0x9f4484 ┆           ┆           ┆   ┆           ┆           ┆ sible     ┆ le.com/m │\n",
       "│           ┆ ccc32…    ┆           ┆           ┆   ┆           ┆           ┆ entrance… ┆ aps/plac │\n",
       "│           ┆           ┆           ┆           ┆   ┆           ┆           ┆           ┆ …        │\n",
       "│ Stanford  ┆ 0x809988d ┆ null      ┆ 38.883685 ┆ … ┆ 4.8       ┆ 18        ┆ [\"Wheelch ┆ https:// │\n",
       "│ Sierra    ┆ 6e406d255 ┆           ┆           ┆   ┆           ┆           ┆ air acces ┆ www.goog │\n",
       "│ Conferenc ┆ :0x398975 ┆           ┆           ┆   ┆           ┆           ┆ sible     ┆ le.com/m │\n",
       "│ e Cente…  ┆ 8f83f…    ┆           ┆           ┆   ┆           ┆           ┆ entrance… ┆ aps/plac │\n",
       "│           ┆           ┆           ┆           ┆   ┆           ┆           ┆           ┆ …        │\n",
       "└───────────┴───────────┴───────────┴───────────┴───┴───────────┴───────────┴───────────┴──────────┘"
      ]
     },
     "execution_count": 99,
     "metadata": {},
     "output_type": "execute_result"
    }
   ],
   "source": [
    "df1.filter(~pl.col('facilities').is_null())"
   ]
  },
  {
   "cell_type": "code",
   "execution_count": 20,
   "metadata": {},
   "outputs": [],
   "source": [
    "dfx = pl.read_parquet('./clean-data/x.parquet')"
   ]
  },
  {
   "cell_type": "code",
   "execution_count": 21,
   "metadata": {},
   "outputs": [
    {
     "data": {
      "text/html": [
       "<div><style>\n",
       ".dataframe > thead > tr,\n",
       ".dataframe > tbody > tr {\n",
       "  text-align: right;\n",
       "  white-space: pre-wrap;\n",
       "}\n",
       "</style>\n",
       "<small>shape: (675, 10)</small><table border=\"1\" class=\"dataframe\"><thead><tr><th>name</th><th>gmap_id</th><th>descrption</th><th>latitude</th><th>longitude</th><th>category</th><th>avg_rating</th><th>num_of_reviews</th><th>facilities</th><th>url</th></tr><tr><td>str</td><td>str</td><td>str</td><td>f64</td><td>f64</td><td>list[str]</td><td>f64</td><td>i64</td><td>list[str]</td><td>str</td></tr></thead><tbody><tr><td>&quot;Redwood Motel&quot;</td><td>&quot;0x87909c44aaf9…</td><td>null</td><td>41.452206</td><td>-97.725204</td><td>[&quot;Motel&quot;, &quot;Hotel&quot;]</td><td>4.1</td><td>17</td><td>null</td><td>&quot;https://www.go…</td></tr><tr><td>&quot;Anchor STUDIOS…</td><td>&quot;0x88d9ba0c6136…</td><td>null</td><td>25.830137</td><td>-80.28346</td><td>[&quot;Hotel&quot;, &quot;Furnished apartment building&quot;]</td><td>3.2</td><td>28</td><td>null</td><td>&quot;https://www.go…</td></tr><tr><td>&quot;Deer Acres&quot;</td><td>&quot;0x87ca54e82f3e…</td><td>null</td><td>35.194869</td><td>-94.424416</td><td>[&quot;Zoo&quot;, &quot;Resort hotel&quot;]</td><td>5.0</td><td>8</td><td>[&quot;Good for kids&quot;]</td><td>&quot;https://www.go…</td></tr><tr><td>&quot;Presbyterian C…</td><td>&quot;0x8819f775faa2…</td><td>null</td><td>42.660516</td><td>-86.215367</td><td>[&quot;Resort hotel&quot;]</td><td>5.0</td><td>3</td><td>null</td><td>&quot;https://www.go…</td></tr><tr><td>&quot;Holiday Inn St…</td><td>&quot;0x87c01b06036d…</td><td>&quot;Contemporary l…</td><td>39.766152</td><td>-94.857296</td><td>[&quot;Hotel&quot;]</td><td>2.8</td><td>8</td><td>null</td><td>&quot;https://www.go…</td></tr><tr><td>&quot;Now Voyager Cr…</td><td>&quot;0x880f7b6fe929…</td><td>null</td><td>42.41979</td><td>-88.616029</td><td>[&quot;Travel agency&quot;, &quot;Airline&quot;, … &quot;Hotel&quot;]</td><td>5.0</td><td>2</td><td>null</td><td>&quot;https://www.go…</td></tr><tr><td>&quot;Campbell Colle…</td><td>&quot;0x862833975d49…</td><td>null</td><td>32.298545</td><td>-90.209289</td><td>[&quot;Hotel&quot;]</td><td>4.5</td><td>2</td><td>null</td><td>&quot;https://www.go…</td></tr><tr><td>&quot;Gables Inn&quot;</td><td>&quot;0x89e58d258567…</td><td>&quot;Victorian-styl…</td><td>41.173612</td><td>-71.561202</td><td>[&quot;Hotel&quot;]</td><td>4.8</td><td>8</td><td>null</td><td>&quot;https://www.go…</td></tr><tr><td>&quot;Rio Masquerade…</td><td>&quot;0x80c8c544668d…</td><td>null</td><td>36.116408</td><td>-115.186322</td><td>[&quot;Hotel&quot;]</td><td>4.0</td><td>28</td><td>null</td><td>&quot;https://www.go…</td></tr><tr><td>&quot;Hotel&quot;</td><td>&quot;0x88917bc78059…</td><td>null</td><td>30.731531</td><td>-86.358421</td><td>[&quot;Hotel&quot;, &quot;Motel&quot;]</td><td>4.1</td><td>68</td><td>null</td><td>&quot;https://www.go…</td></tr><tr><td>&quot;Glocca Morra I…</td><td>&quot;0x536be247d376…</td><td>null</td><td>48.994692</td><td>-111.96275</td><td>[&quot;Hotel&quot;]</td><td>4.1</td><td>18</td><td>null</td><td>&quot;https://www.go…</td></tr><tr><td>&quot;The Cove&quot;</td><td>&quot;0x87526d17f86c…</td><td>null</td><td>40.684839</td><td>-111.499785</td><td>[&quot;Hotel&quot;]</td><td>5.0</td><td>1</td><td>null</td><td>&quot;https://www.go…</td></tr><tr><td>&hellip;</td><td>&hellip;</td><td>&hellip;</td><td>&hellip;</td><td>&hellip;</td><td>&hellip;</td><td>&hellip;</td><td>&hellip;</td><td>&hellip;</td><td>&hellip;</td></tr><tr><td>&quot;Mitchell Hotel…</td><td>&quot;0x808f86e5b564…</td><td>null</td><td>37.783046</td><td>-122.235589</td><td>[&quot;Hotel&quot;]</td><td>2.5</td><td>6</td><td>null</td><td>&quot;https://www.go…</td></tr><tr><td>&quot;IHG Army Hotel…</td><td>&quot;0x80d65fc4bdc6…</td><td>null</td><td>32.863857</td><td>-114.440735</td><td>[&quot;Hotel&quot;]</td><td>3.8</td><td>6</td><td>null</td><td>&quot;https://www.go…</td></tr><tr><td>&quot;Kenai Riverfro…</td><td>&quot;0x56c66395ad1e…</td><td>&quot;Relaxed rivers…</td><td>60.505244</td><td>-151.108329</td><td>[&quot;RV park&quot;, &quot;Bed &amp; breakfast&quot;, … &quot;Serviced accommodation&quot;]</td><td>4.2</td><td>58</td><td>null</td><td>&quot;https://www.go…</td></tr><tr><td>&quot;Blue Heron 100…</td><td>&quot;0x88dd80311300…</td><td>null</td><td>28.368614</td><td>-81.501557</td><td>[&quot;Holiday apartment rental&quot;, &quot;Resort hotel&quot;]</td><td>4.5</td><td>25</td><td>null</td><td>&quot;https://www.go…</td></tr><tr><td>&quot;Golden City Lo…</td><td>&quot;0x876b9acd2e55…</td><td>null</td><td>39.759704</td><td>-105.220026</td><td>[&quot;Hotel&quot;]</td><td>5.0</td><td>1</td><td>null</td><td>&quot;https://www.go…</td></tr><tr><td>&quot;ARA&quot;</td><td>&quot;0x89e6bd2e6c24…</td><td>null</td><td>42.104028</td><td>-72.146879</td><td>[&quot;Resort hotel&quot;]</td><td>2.4</td><td>28</td><td>null</td><td>&quot;https://www.go…</td></tr><tr><td>&quot;Masters Inn&quot;</td><td>&quot;0x88f50788f67b…</td><td>null</td><td>33.810649</td><td>-84.272791</td><td>[&quot;Hotel&quot;]</td><td>3.0</td><td>2</td><td>null</td><td>&quot;https://www.go…</td></tr><tr><td>&quot;5th Street Mot…</td><td>&quot;0x535e9ebf2b02…</td><td>null</td><td>45.597481</td><td>-127.269699</td><td>[&quot;Hotel supply store&quot;, &quot;Service establishment&quot;]</td><td>5.0</td><td>2</td><td>null</td><td>&quot;https://www.go…</td></tr><tr><td>&quot;MSI Lodging Sy…</td><td>&quot;0x885d484f6d3b…</td><td>null</td><td>37.038103</td><td>-84.630502</td><td>[&quot;Hotel&quot;]</td><td>2.7</td><td>18</td><td>null</td><td>&quot;https://www.go…</td></tr><tr><td>&quot;Cedar Hollow B…</td><td>&quot;0x87d253884276…</td><td>null</td><td>35.289972</td><td>-91.881847</td><td>[&quot;Bed &amp; breakfast&quot;, &quot;Hotel&quot;, … &quot;Motel&quot;]</td><td>4.5</td><td>4</td><td>null</td><td>&quot;https://www.go…</td></tr><tr><td>&quot;Rim Rock Dogwo…</td><td>&quot;0x88708d67f3bb…</td><td>null</td><td>37.599468</td><td>-88.277382</td><td>[&quot;Hotel&quot;]</td><td>4.0</td><td>1</td><td>null</td><td>&quot;https://www.go…</td></tr><tr><td>&quot;Maui Ocean Bre…</td><td>&quot;0x7eab35a6e3ac…</td><td>null</td><td>20.926291</td><td>-156.268429</td><td>[&quot;Bed &amp; breakfast&quot;, &quot;Farmstay&quot;, … &quot;Vacation home rental agency&quot;]</td><td>4.1</td><td>8</td><td>null</td><td>&quot;https://www.go…</td></tr></tbody></table></div>"
      ],
      "text/plain": [
       "shape: (675, 10)\n",
       "┌───────────┬───────────┬───────────┬───────────┬───┬───────────┬───────────┬───────────┬──────────┐\n",
       "│ name      ┆ gmap_id   ┆ descrptio ┆ latitude  ┆ … ┆ avg_ratin ┆ num_of_re ┆ facilitie ┆ url      │\n",
       "│ ---       ┆ ---       ┆ n         ┆ ---       ┆   ┆ g         ┆ views     ┆ s         ┆ ---      │\n",
       "│ str       ┆ str       ┆ ---       ┆ f64       ┆   ┆ ---       ┆ ---       ┆ ---       ┆ str      │\n",
       "│           ┆           ┆ str       ┆           ┆   ┆ f64       ┆ i64       ┆ list[str] ┆          │\n",
       "╞═══════════╪═══════════╪═══════════╪═══════════╪═══╪═══════════╪═══════════╪═══════════╪══════════╡\n",
       "│ Redwood   ┆ 0x87909c4 ┆ null      ┆ 41.452206 ┆ … ┆ 4.1       ┆ 17        ┆ null      ┆ https:// │\n",
       "│ Motel     ┆ 4aaf99d8d ┆           ┆           ┆   ┆           ┆           ┆           ┆ www.goog │\n",
       "│           ┆ :0x99ae51 ┆           ┆           ┆   ┆           ┆           ┆           ┆ le.com/m │\n",
       "│           ┆ 8489e…    ┆           ┆           ┆   ┆           ┆           ┆           ┆ aps/plac │\n",
       "│           ┆           ┆           ┆           ┆   ┆           ┆           ┆           ┆ …        │\n",
       "│ Anchor    ┆ 0x88d9ba0 ┆ null      ┆ 25.830137 ┆ … ┆ 3.2       ┆ 28        ┆ null      ┆ https:// │\n",
       "│ STUDIOS / ┆ c61361127 ┆           ┆           ┆   ┆           ┆           ┆           ┆ www.goog │\n",
       "│ HOTEL     ┆ :0xde86ec ┆           ┆           ┆   ┆           ┆           ┆           ┆ le.com/m │\n",
       "│           ┆ 7d6c3…    ┆           ┆           ┆   ┆           ┆           ┆           ┆ aps/plac │\n",
       "│           ┆           ┆           ┆           ┆   ┆           ┆           ┆           ┆ …        │\n",
       "│ Deer      ┆ 0x87ca54e ┆ null      ┆ 35.194869 ┆ … ┆ 5.0       ┆ 8         ┆ [\"Good    ┆ https:// │\n",
       "│ Acres     ┆ 82f3e3327 ┆           ┆           ┆   ┆           ┆           ┆ for       ┆ www.goog │\n",
       "│           ┆ :0x925a48 ┆           ┆           ┆   ┆           ┆           ┆ kids\"]    ┆ le.com/m │\n",
       "│           ┆ a1cbf…    ┆           ┆           ┆   ┆           ┆           ┆           ┆ aps/plac │\n",
       "│           ┆           ┆           ┆           ┆   ┆           ┆           ┆           ┆ …        │\n",
       "│ Presbyter ┆ 0x8819f77 ┆ null      ┆ 42.660516 ┆ … ┆ 5.0       ┆ 3         ┆ null      ┆ https:// │\n",
       "│ ian Camps ┆ 5faa2d3dd ┆           ┆           ┆   ┆           ┆           ┆           ┆ www.goog │\n",
       "│           ┆ :0xf275c7 ┆           ┆           ┆   ┆           ┆           ┆           ┆ le.com/m │\n",
       "│           ┆ d5f6c…    ┆           ┆           ┆   ┆           ┆           ┆           ┆ aps/plac │\n",
       "│           ┆           ┆           ┆           ┆   ┆           ┆           ┆           ┆ …        │\n",
       "│ Holiday   ┆ 0x87c01b0 ┆ Contempor ┆ 39.766152 ┆ … ┆ 2.8       ┆ 8         ┆ null      ┆ https:// │\n",
       "│ Inn St.   ┆ 6036d90a5 ┆ ary       ┆           ┆   ┆           ┆           ┆           ┆ www.goog │\n",
       "│ Joseph    ┆ :0xa52fae ┆ lodging   ┆           ┆   ┆           ┆           ┆           ┆ le.com/m │\n",
       "│ Riverfron ┆ 6d5b3…    ┆ with an   ┆           ┆   ┆           ┆           ┆           ┆ aps/plac │\n",
       "│ …         ┆           ┆ ind…      ┆           ┆   ┆           ┆           ┆           ┆ …        │\n",
       "│ …         ┆ …         ┆ …         ┆ …         ┆ … ┆ …         ┆ …         ┆ …         ┆ …        │\n",
       "│ 5th       ┆ 0x535e9eb ┆ null      ┆ 45.597481 ┆ … ┆ 5.0       ┆ 2         ┆ null      ┆ https:// │\n",
       "│ Street    ┆ f2b02abe1 ┆           ┆           ┆   ┆           ┆           ┆           ┆ www.goog │\n",
       "│ Motel     ┆ :0x26d674 ┆           ┆           ┆   ┆           ┆           ┆           ┆ le.com/m │\n",
       "│           ┆ a7633…    ┆           ┆           ┆   ┆           ┆           ┆           ┆ aps/plac │\n",
       "│           ┆           ┆           ┆           ┆   ┆           ┆           ┆           ┆ …        │\n",
       "│ MSI       ┆ 0x885d484 ┆ null      ┆ 37.038103 ┆ … ┆ 2.7       ┆ 18        ┆ null      ┆ https:// │\n",
       "│ Lodging   ┆ f6d3b709f ┆           ┆           ┆   ┆           ┆           ┆           ┆ www.goog │\n",
       "│ Systems   ┆ :0xd4192f ┆           ┆           ┆   ┆           ┆           ┆           ┆ le.com/m │\n",
       "│           ┆ a815c…    ┆           ┆           ┆   ┆           ┆           ┆           ┆ aps/plac │\n",
       "│           ┆           ┆           ┆           ┆   ┆           ┆           ┆           ┆ …        │\n",
       "│ Cedar     ┆ 0x87d2538 ┆ null      ┆ 35.289972 ┆ … ┆ 4.5       ┆ 4         ┆ null      ┆ https:// │\n",
       "│ Hollow    ┆ 8427610e9 ┆           ┆           ┆   ┆           ┆           ┆           ┆ www.goog │\n",
       "│ Bed &     ┆ :0x1220b7 ┆           ┆           ┆   ┆           ┆           ┆           ┆ le.com/m │\n",
       "│ Breakfast ┆ 37f81…    ┆           ┆           ┆   ┆           ┆           ┆           ┆ aps/plac │\n",
       "│           ┆           ┆           ┆           ┆   ┆           ┆           ┆           ┆ …        │\n",
       "│ Rim Rock  ┆ 0x88708d6 ┆ null      ┆ 37.599468 ┆ … ┆ 4.0       ┆ 1         ┆ null      ┆ https:// │\n",
       "│ Dogwood   ┆ 7f3bbb047 ┆           ┆           ┆   ┆           ┆           ┆           ┆ www.goog │\n",
       "│           ┆ :0x628ca7 ┆           ┆           ┆   ┆           ┆           ┆           ┆ le.com/m │\n",
       "│           ┆ cd676…    ┆           ┆           ┆   ┆           ┆           ┆           ┆ aps/plac │\n",
       "│           ┆           ┆           ┆           ┆   ┆           ┆           ┆           ┆ …        │\n",
       "│ Maui      ┆ 0x7eab35a ┆ null      ┆ 20.926291 ┆ … ┆ 4.1       ┆ 8         ┆ null      ┆ https:// │\n",
       "│ Ocean     ┆ 6e3aca081 ┆           ┆           ┆   ┆           ┆           ┆           ┆ www.goog │\n",
       "│ Breezes   ┆ :0x8b30da ┆           ┆           ┆   ┆           ┆           ┆           ┆ le.com/m │\n",
       "│ Eco       ┆ c8691…    ┆           ┆           ┆   ┆           ┆           ┆           ┆ aps/plac │\n",
       "│ Retreat   ┆           ┆           ┆           ┆   ┆           ┆           ┆           ┆ …        │\n",
       "└───────────┴───────────┴───────────┴───────────┴───┴───────────┴───────────┴───────────┴──────────┘"
      ]
     },
     "execution_count": 21,
     "metadata": {},
     "output_type": "execute_result"
    }
   ],
   "source": [
    "dfx"
   ]
  },
  {
   "cell_type": "code",
   "execution_count": null,
   "metadata": {},
   "outputs": [],
   "source": []
  }
 ],
 "metadata": {
  "kernelspec": {
   "display_name": "Python 3",
   "language": "python",
   "name": "python3"
  },
  "language_info": {
   "codemirror_mode": {
    "name": "ipython",
    "version": 3
   },
   "file_extension": ".py",
   "mimetype": "text/x-python",
   "name": "python",
   "nbconvert_exporter": "python",
   "pygments_lexer": "ipython3",
   "version": "3.11.8"
  }
 },
 "nbformat": 4,
 "nbformat_minor": 2
}
